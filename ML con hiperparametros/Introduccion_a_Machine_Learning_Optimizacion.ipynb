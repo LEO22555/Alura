{
  "nbformat": 4,
  "nbformat_minor": 0,
  "metadata": {
    "colab": {
      "provenance": []
    },
    "kernelspec": {
      "name": "python3",
      "display_name": "Python 3"
    }
  },
  "cells": [
    {
      "cell_type": "code",
      "metadata": {
        "id": "y7ik04NlDZMA",
        "colab": {
          "base_uri": "https://localhost:8080/",
          "height": 206
        },
        "outputId": "853ac98d-d9ff-4299-86b8-f457a78108f6"
      },
      "source": [
        "import pandas as pd\n",
        "\n",
        "datos = pd.read_csv(\"carros.csv\")\n",
        "datos.head()"
      ],
      "execution_count": 2,
      "outputs": [
        {
          "output_type": "execute_result",
          "data": {
            "text/plain": [
              "      precio  vendido  edad_del_modelo   km_by_year\n",
              "0   30941.02        1               18  35085.22134\n",
              "1   40557.96        1               20  12622.05362\n",
              "2   89627.50        0               12  11440.79806\n",
              "3   95276.14        0                3  43167.32682\n",
              "4  117384.68        1                4  12770.11290"
            ],
            "text/html": [
              "\n",
              "  <div id=\"df-5c493ca7-52bf-474e-8a1a-679c9524426e\">\n",
              "    <div class=\"colab-df-container\">\n",
              "      <div>\n",
              "<style scoped>\n",
              "    .dataframe tbody tr th:only-of-type {\n",
              "        vertical-align: middle;\n",
              "    }\n",
              "\n",
              "    .dataframe tbody tr th {\n",
              "        vertical-align: top;\n",
              "    }\n",
              "\n",
              "    .dataframe thead th {\n",
              "        text-align: right;\n",
              "    }\n",
              "</style>\n",
              "<table border=\"1\" class=\"dataframe\">\n",
              "  <thead>\n",
              "    <tr style=\"text-align: right;\">\n",
              "      <th></th>\n",
              "      <th>precio</th>\n",
              "      <th>vendido</th>\n",
              "      <th>edad_del_modelo</th>\n",
              "      <th>km_by_year</th>\n",
              "    </tr>\n",
              "  </thead>\n",
              "  <tbody>\n",
              "    <tr>\n",
              "      <th>0</th>\n",
              "      <td>30941.02</td>\n",
              "      <td>1</td>\n",
              "      <td>18</td>\n",
              "      <td>35085.22134</td>\n",
              "    </tr>\n",
              "    <tr>\n",
              "      <th>1</th>\n",
              "      <td>40557.96</td>\n",
              "      <td>1</td>\n",
              "      <td>20</td>\n",
              "      <td>12622.05362</td>\n",
              "    </tr>\n",
              "    <tr>\n",
              "      <th>2</th>\n",
              "      <td>89627.50</td>\n",
              "      <td>0</td>\n",
              "      <td>12</td>\n",
              "      <td>11440.79806</td>\n",
              "    </tr>\n",
              "    <tr>\n",
              "      <th>3</th>\n",
              "      <td>95276.14</td>\n",
              "      <td>0</td>\n",
              "      <td>3</td>\n",
              "      <td>43167.32682</td>\n",
              "    </tr>\n",
              "    <tr>\n",
              "      <th>4</th>\n",
              "      <td>117384.68</td>\n",
              "      <td>1</td>\n",
              "      <td>4</td>\n",
              "      <td>12770.11290</td>\n",
              "    </tr>\n",
              "  </tbody>\n",
              "</table>\n",
              "</div>\n",
              "      <button class=\"colab-df-convert\" onclick=\"convertToInteractive('df-5c493ca7-52bf-474e-8a1a-679c9524426e')\"\n",
              "              title=\"Convert this dataframe to an interactive table.\"\n",
              "              style=\"display:none;\">\n",
              "        \n",
              "  <svg xmlns=\"http://www.w3.org/2000/svg\" height=\"24px\"viewBox=\"0 0 24 24\"\n",
              "       width=\"24px\">\n",
              "    <path d=\"M0 0h24v24H0V0z\" fill=\"none\"/>\n",
              "    <path d=\"M18.56 5.44l.94 2.06.94-2.06 2.06-.94-2.06-.94-.94-2.06-.94 2.06-2.06.94zm-11 1L8.5 8.5l.94-2.06 2.06-.94-2.06-.94L8.5 2.5l-.94 2.06-2.06.94zm10 10l.94 2.06.94-2.06 2.06-.94-2.06-.94-.94-2.06-.94 2.06-2.06.94z\"/><path d=\"M17.41 7.96l-1.37-1.37c-.4-.4-.92-.59-1.43-.59-.52 0-1.04.2-1.43.59L10.3 9.45l-7.72 7.72c-.78.78-.78 2.05 0 2.83L4 21.41c.39.39.9.59 1.41.59.51 0 1.02-.2 1.41-.59l7.78-7.78 2.81-2.81c.8-.78.8-2.07 0-2.86zM5.41 20L4 18.59l7.72-7.72 1.47 1.35L5.41 20z\"/>\n",
              "  </svg>\n",
              "      </button>\n",
              "      \n",
              "  <style>\n",
              "    .colab-df-container {\n",
              "      display:flex;\n",
              "      flex-wrap:wrap;\n",
              "      gap: 12px;\n",
              "    }\n",
              "\n",
              "    .colab-df-convert {\n",
              "      background-color: #E8F0FE;\n",
              "      border: none;\n",
              "      border-radius: 50%;\n",
              "      cursor: pointer;\n",
              "      display: none;\n",
              "      fill: #1967D2;\n",
              "      height: 32px;\n",
              "      padding: 0 0 0 0;\n",
              "      width: 32px;\n",
              "    }\n",
              "\n",
              "    .colab-df-convert:hover {\n",
              "      background-color: #E2EBFA;\n",
              "      box-shadow: 0px 1px 2px rgba(60, 64, 67, 0.3), 0px 1px 3px 1px rgba(60, 64, 67, 0.15);\n",
              "      fill: #174EA6;\n",
              "    }\n",
              "\n",
              "    [theme=dark] .colab-df-convert {\n",
              "      background-color: #3B4455;\n",
              "      fill: #D2E3FC;\n",
              "    }\n",
              "\n",
              "    [theme=dark] .colab-df-convert:hover {\n",
              "      background-color: #434B5C;\n",
              "      box-shadow: 0px 1px 3px 1px rgba(0, 0, 0, 0.15);\n",
              "      filter: drop-shadow(0px 1px 2px rgba(0, 0, 0, 0.3));\n",
              "      fill: #FFFFFF;\n",
              "    }\n",
              "  </style>\n",
              "\n",
              "      <script>\n",
              "        const buttonEl =\n",
              "          document.querySelector('#df-5c493ca7-52bf-474e-8a1a-679c9524426e button.colab-df-convert');\n",
              "        buttonEl.style.display =\n",
              "          google.colab.kernel.accessAllowed ? 'block' : 'none';\n",
              "\n",
              "        async function convertToInteractive(key) {\n",
              "          const element = document.querySelector('#df-5c493ca7-52bf-474e-8a1a-679c9524426e');\n",
              "          const dataTable =\n",
              "            await google.colab.kernel.invokeFunction('convertToInteractive',\n",
              "                                                     [key], {});\n",
              "          if (!dataTable) return;\n",
              "\n",
              "          const docLinkHtml = 'Like what you see? Visit the ' +\n",
              "            '<a target=\"_blank\" href=https://colab.research.google.com/notebooks/data_table.ipynb>data table notebook</a>'\n",
              "            + ' to learn more about interactive tables.';\n",
              "          element.innerHTML = '';\n",
              "          dataTable['output_type'] = 'display_data';\n",
              "          await google.colab.output.renderOutput(dataTable, element);\n",
              "          const docLink = document.createElement('div');\n",
              "          docLink.innerHTML = docLinkHtml;\n",
              "          element.appendChild(docLink);\n",
              "        }\n",
              "      </script>\n",
              "    </div>\n",
              "  </div>\n",
              "  "
            ]
          },
          "metadata": {},
          "execution_count": 2
        }
      ]
    },
    {
      "cell_type": "code",
      "metadata": {
        "id": "b52E4e1hjegN",
        "colab": {
          "base_uri": "https://localhost:8080/",
          "height": 206
        },
        "outputId": "bd9b2651-b2b9-421f-f462-6575f94084fc"
      },
      "source": [
        "#situacion con los datos ordenados de la peor manera\n",
        "datos_ord = datos.sort_values(\"vendido\", ascending=True)\n",
        "x_ord = datos_ord[[\"precio\", \"edad_del_modelo\",\"km_by_year\"]]\n",
        "y_ord = datos_ord[\"vendido\"]\n",
        "datos_ord.head()"
      ],
      "execution_count": 3,
      "outputs": [
        {
          "output_type": "execute_result",
          "data": {
            "text/plain": [
              "        precio  vendido  edad_del_modelo   km_by_year\n",
              "4999  74023.29        0               12  24812.80412\n",
              "5322  84843.49        0               13  23095.63834\n",
              "5319  83100.27        0               19  36240.72746\n",
              "5316  87932.13        0               16  32249.56426\n",
              "5315  77937.01        0               15  28414.50704"
            ],
            "text/html": [
              "\n",
              "  <div id=\"df-7b0ced26-a11a-4cf4-ba9f-085387181af7\">\n",
              "    <div class=\"colab-df-container\">\n",
              "      <div>\n",
              "<style scoped>\n",
              "    .dataframe tbody tr th:only-of-type {\n",
              "        vertical-align: middle;\n",
              "    }\n",
              "\n",
              "    .dataframe tbody tr th {\n",
              "        vertical-align: top;\n",
              "    }\n",
              "\n",
              "    .dataframe thead th {\n",
              "        text-align: right;\n",
              "    }\n",
              "</style>\n",
              "<table border=\"1\" class=\"dataframe\">\n",
              "  <thead>\n",
              "    <tr style=\"text-align: right;\">\n",
              "      <th></th>\n",
              "      <th>precio</th>\n",
              "      <th>vendido</th>\n",
              "      <th>edad_del_modelo</th>\n",
              "      <th>km_by_year</th>\n",
              "    </tr>\n",
              "  </thead>\n",
              "  <tbody>\n",
              "    <tr>\n",
              "      <th>4999</th>\n",
              "      <td>74023.29</td>\n",
              "      <td>0</td>\n",
              "      <td>12</td>\n",
              "      <td>24812.80412</td>\n",
              "    </tr>\n",
              "    <tr>\n",
              "      <th>5322</th>\n",
              "      <td>84843.49</td>\n",
              "      <td>0</td>\n",
              "      <td>13</td>\n",
              "      <td>23095.63834</td>\n",
              "    </tr>\n",
              "    <tr>\n",
              "      <th>5319</th>\n",
              "      <td>83100.27</td>\n",
              "      <td>0</td>\n",
              "      <td>19</td>\n",
              "      <td>36240.72746</td>\n",
              "    </tr>\n",
              "    <tr>\n",
              "      <th>5316</th>\n",
              "      <td>87932.13</td>\n",
              "      <td>0</td>\n",
              "      <td>16</td>\n",
              "      <td>32249.56426</td>\n",
              "    </tr>\n",
              "    <tr>\n",
              "      <th>5315</th>\n",
              "      <td>77937.01</td>\n",
              "      <td>0</td>\n",
              "      <td>15</td>\n",
              "      <td>28414.50704</td>\n",
              "    </tr>\n",
              "  </tbody>\n",
              "</table>\n",
              "</div>\n",
              "      <button class=\"colab-df-convert\" onclick=\"convertToInteractive('df-7b0ced26-a11a-4cf4-ba9f-085387181af7')\"\n",
              "              title=\"Convert this dataframe to an interactive table.\"\n",
              "              style=\"display:none;\">\n",
              "        \n",
              "  <svg xmlns=\"http://www.w3.org/2000/svg\" height=\"24px\"viewBox=\"0 0 24 24\"\n",
              "       width=\"24px\">\n",
              "    <path d=\"M0 0h24v24H0V0z\" fill=\"none\"/>\n",
              "    <path d=\"M18.56 5.44l.94 2.06.94-2.06 2.06-.94-2.06-.94-.94-2.06-.94 2.06-2.06.94zm-11 1L8.5 8.5l.94-2.06 2.06-.94-2.06-.94L8.5 2.5l-.94 2.06-2.06.94zm10 10l.94 2.06.94-2.06 2.06-.94-2.06-.94-.94-2.06-.94 2.06-2.06.94z\"/><path d=\"M17.41 7.96l-1.37-1.37c-.4-.4-.92-.59-1.43-.59-.52 0-1.04.2-1.43.59L10.3 9.45l-7.72 7.72c-.78.78-.78 2.05 0 2.83L4 21.41c.39.39.9.59 1.41.59.51 0 1.02-.2 1.41-.59l7.78-7.78 2.81-2.81c.8-.78.8-2.07 0-2.86zM5.41 20L4 18.59l7.72-7.72 1.47 1.35L5.41 20z\"/>\n",
              "  </svg>\n",
              "      </button>\n",
              "      \n",
              "  <style>\n",
              "    .colab-df-container {\n",
              "      display:flex;\n",
              "      flex-wrap:wrap;\n",
              "      gap: 12px;\n",
              "    }\n",
              "\n",
              "    .colab-df-convert {\n",
              "      background-color: #E8F0FE;\n",
              "      border: none;\n",
              "      border-radius: 50%;\n",
              "      cursor: pointer;\n",
              "      display: none;\n",
              "      fill: #1967D2;\n",
              "      height: 32px;\n",
              "      padding: 0 0 0 0;\n",
              "      width: 32px;\n",
              "    }\n",
              "\n",
              "    .colab-df-convert:hover {\n",
              "      background-color: #E2EBFA;\n",
              "      box-shadow: 0px 1px 2px rgba(60, 64, 67, 0.3), 0px 1px 3px 1px rgba(60, 64, 67, 0.15);\n",
              "      fill: #174EA6;\n",
              "    }\n",
              "\n",
              "    [theme=dark] .colab-df-convert {\n",
              "      background-color: #3B4455;\n",
              "      fill: #D2E3FC;\n",
              "    }\n",
              "\n",
              "    [theme=dark] .colab-df-convert:hover {\n",
              "      background-color: #434B5C;\n",
              "      box-shadow: 0px 1px 3px 1px rgba(0, 0, 0, 0.15);\n",
              "      filter: drop-shadow(0px 1px 2px rgba(0, 0, 0, 0.3));\n",
              "      fill: #FFFFFF;\n",
              "    }\n",
              "  </style>\n",
              "\n",
              "      <script>\n",
              "        const buttonEl =\n",
              "          document.querySelector('#df-7b0ced26-a11a-4cf4-ba9f-085387181af7 button.colab-df-convert');\n",
              "        buttonEl.style.display =\n",
              "          google.colab.kernel.accessAllowed ? 'block' : 'none';\n",
              "\n",
              "        async function convertToInteractive(key) {\n",
              "          const element = document.querySelector('#df-7b0ced26-a11a-4cf4-ba9f-085387181af7');\n",
              "          const dataTable =\n",
              "            await google.colab.kernel.invokeFunction('convertToInteractive',\n",
              "                                                     [key], {});\n",
              "          if (!dataTable) return;\n",
              "\n",
              "          const docLinkHtml = 'Like what you see? Visit the ' +\n",
              "            '<a target=\"_blank\" href=https://colab.research.google.com/notebooks/data_table.ipynb>data table notebook</a>'\n",
              "            + ' to learn more about interactive tables.';\n",
              "          element.innerHTML = '';\n",
              "          dataTable['output_type'] = 'display_data';\n",
              "          await google.colab.output.renderOutput(dataTable, element);\n",
              "          const docLink = document.createElement('div');\n",
              "          docLink.innerHTML = docLinkHtml;\n",
              "          element.appendChild(docLink);\n",
              "        }\n",
              "      </script>\n",
              "    </div>\n",
              "  </div>\n",
              "  "
            ]
          },
          "metadata": {},
          "execution_count": 3
        }
      ]
    },
    {
      "cell_type": "code",
      "metadata": {
        "id": "ZNT26vFEeYmz",
        "colab": {
          "base_uri": "https://localhost:8080/"
        },
        "outputId": "2d5b7873-2325-4e86-d0d7-932d843ce6cb"
      },
      "source": [
        "from sklearn.model_selection import cross_validate\n",
        "from sklearn.dummy import DummyClassifier\n",
        "import numpy as np\n",
        "\n",
        "SEED = 301\n",
        "np.random.seed(SEED)\n",
        "\n",
        "modelo = DummyClassifier()\n",
        "results = cross_validate(modelo, x_ord, y_ord, cv = 10, return_train_score=False)\n",
        "media = results['test_score'].mean()\n",
        "desviacion_estandar = results['test_score'].std()\n",
        "print(\"Accuracy con dummy stratified, 10 = [%.2f, %.2f]\" % ((media - 2 * desviacion_estandar)*100, (media + 2 * desviacion_estandar) * 100))"
      ],
      "execution_count": 4,
      "outputs": [
        {
          "output_type": "stream",
          "name": "stdout",
          "text": [
            "Accuracy con dummy stratified, 10 = [58.00, 58.00]\n"
          ]
        }
      ]
    },
    {
      "cell_type": "code",
      "metadata": {
        "id": "73mCcFA_eG_K",
        "colab": {
          "base_uri": "https://localhost:8080/"
        },
        "outputId": "689ef909-8310-4a71-fec6-78b716df046a"
      },
      "source": [
        "from sklearn.model_selection import cross_validate\n",
        "from sklearn.tree import DecisionTreeClassifier\n",
        "\n",
        "SEED = 301\n",
        "np.random.seed(SEED)\n",
        "\n",
        "modelo = DecisionTreeClassifier(max_depth=2)\n",
        "results = cross_validate(modelo, x_ord, y_ord, cv = 10, return_train_score=False)\n",
        "media = results['test_score'].mean()\n",
        "desviacion_estandar = results['test_score'].std()\n",
        "print(\"Accuracy con cross validation, 10 = [%.2f, %.2f]\" % ((media - 2 * desviacion_estandar)*100, (media + 2 * desviacion_estandar) * 100))"
      ],
      "execution_count": 5,
      "outputs": [
        {
          "output_type": "stream",
          "name": "stdout",
          "text": [
            "Accuracy con cross validation, 10 = [73.83, 77.73]\n"
          ]
        }
      ]
    },
    {
      "cell_type": "code",
      "metadata": {
        "id": "5C8Y6J-PGpYf",
        "colab": {
          "base_uri": "https://localhost:8080/",
          "height": 206
        },
        "outputId": "5718ad6a-814f-4d3e-9ae6-7227293512ae"
      },
      "source": [
        "#generando datos aleatorios del modelo de carro\n",
        "np.random.seed(SEED)\n",
        "datos['modelo'] = datos.edad_del_modelo + np.random.randint(-2, 3, size=10000)\n",
        "datos.modelo = datos.modelo + abs(datos.modelo.min()) + 1\n",
        "datos.head()"
      ],
      "execution_count": 6,
      "outputs": [
        {
          "output_type": "execute_result",
          "data": {
            "text/plain": [
              "      precio  vendido  edad_del_modelo   km_by_year  modelo\n",
              "0   30941.02        1               18  35085.22134      18\n",
              "1   40557.96        1               20  12622.05362      24\n",
              "2   89627.50        0               12  11440.79806      14\n",
              "3   95276.14        0                3  43167.32682       6\n",
              "4  117384.68        1                4  12770.11290       5"
            ],
            "text/html": [
              "\n",
              "  <div id=\"df-513ad91b-4b91-45ed-b078-7a98324cd710\">\n",
              "    <div class=\"colab-df-container\">\n",
              "      <div>\n",
              "<style scoped>\n",
              "    .dataframe tbody tr th:only-of-type {\n",
              "        vertical-align: middle;\n",
              "    }\n",
              "\n",
              "    .dataframe tbody tr th {\n",
              "        vertical-align: top;\n",
              "    }\n",
              "\n",
              "    .dataframe thead th {\n",
              "        text-align: right;\n",
              "    }\n",
              "</style>\n",
              "<table border=\"1\" class=\"dataframe\">\n",
              "  <thead>\n",
              "    <tr style=\"text-align: right;\">\n",
              "      <th></th>\n",
              "      <th>precio</th>\n",
              "      <th>vendido</th>\n",
              "      <th>edad_del_modelo</th>\n",
              "      <th>km_by_year</th>\n",
              "      <th>modelo</th>\n",
              "    </tr>\n",
              "  </thead>\n",
              "  <tbody>\n",
              "    <tr>\n",
              "      <th>0</th>\n",
              "      <td>30941.02</td>\n",
              "      <td>1</td>\n",
              "      <td>18</td>\n",
              "      <td>35085.22134</td>\n",
              "      <td>18</td>\n",
              "    </tr>\n",
              "    <tr>\n",
              "      <th>1</th>\n",
              "      <td>40557.96</td>\n",
              "      <td>1</td>\n",
              "      <td>20</td>\n",
              "      <td>12622.05362</td>\n",
              "      <td>24</td>\n",
              "    </tr>\n",
              "    <tr>\n",
              "      <th>2</th>\n",
              "      <td>89627.50</td>\n",
              "      <td>0</td>\n",
              "      <td>12</td>\n",
              "      <td>11440.79806</td>\n",
              "      <td>14</td>\n",
              "    </tr>\n",
              "    <tr>\n",
              "      <th>3</th>\n",
              "      <td>95276.14</td>\n",
              "      <td>0</td>\n",
              "      <td>3</td>\n",
              "      <td>43167.32682</td>\n",
              "      <td>6</td>\n",
              "    </tr>\n",
              "    <tr>\n",
              "      <th>4</th>\n",
              "      <td>117384.68</td>\n",
              "      <td>1</td>\n",
              "      <td>4</td>\n",
              "      <td>12770.11290</td>\n",
              "      <td>5</td>\n",
              "    </tr>\n",
              "  </tbody>\n",
              "</table>\n",
              "</div>\n",
              "      <button class=\"colab-df-convert\" onclick=\"convertToInteractive('df-513ad91b-4b91-45ed-b078-7a98324cd710')\"\n",
              "              title=\"Convert this dataframe to an interactive table.\"\n",
              "              style=\"display:none;\">\n",
              "        \n",
              "  <svg xmlns=\"http://www.w3.org/2000/svg\" height=\"24px\"viewBox=\"0 0 24 24\"\n",
              "       width=\"24px\">\n",
              "    <path d=\"M0 0h24v24H0V0z\" fill=\"none\"/>\n",
              "    <path d=\"M18.56 5.44l.94 2.06.94-2.06 2.06-.94-2.06-.94-.94-2.06-.94 2.06-2.06.94zm-11 1L8.5 8.5l.94-2.06 2.06-.94-2.06-.94L8.5 2.5l-.94 2.06-2.06.94zm10 10l.94 2.06.94-2.06 2.06-.94-2.06-.94-.94-2.06-.94 2.06-2.06.94z\"/><path d=\"M17.41 7.96l-1.37-1.37c-.4-.4-.92-.59-1.43-.59-.52 0-1.04.2-1.43.59L10.3 9.45l-7.72 7.72c-.78.78-.78 2.05 0 2.83L4 21.41c.39.39.9.59 1.41.59.51 0 1.02-.2 1.41-.59l7.78-7.78 2.81-2.81c.8-.78.8-2.07 0-2.86zM5.41 20L4 18.59l7.72-7.72 1.47 1.35L5.41 20z\"/>\n",
              "  </svg>\n",
              "      </button>\n",
              "      \n",
              "  <style>\n",
              "    .colab-df-container {\n",
              "      display:flex;\n",
              "      flex-wrap:wrap;\n",
              "      gap: 12px;\n",
              "    }\n",
              "\n",
              "    .colab-df-convert {\n",
              "      background-color: #E8F0FE;\n",
              "      border: none;\n",
              "      border-radius: 50%;\n",
              "      cursor: pointer;\n",
              "      display: none;\n",
              "      fill: #1967D2;\n",
              "      height: 32px;\n",
              "      padding: 0 0 0 0;\n",
              "      width: 32px;\n",
              "    }\n",
              "\n",
              "    .colab-df-convert:hover {\n",
              "      background-color: #E2EBFA;\n",
              "      box-shadow: 0px 1px 2px rgba(60, 64, 67, 0.3), 0px 1px 3px 1px rgba(60, 64, 67, 0.15);\n",
              "      fill: #174EA6;\n",
              "    }\n",
              "\n",
              "    [theme=dark] .colab-df-convert {\n",
              "      background-color: #3B4455;\n",
              "      fill: #D2E3FC;\n",
              "    }\n",
              "\n",
              "    [theme=dark] .colab-df-convert:hover {\n",
              "      background-color: #434B5C;\n",
              "      box-shadow: 0px 1px 3px 1px rgba(0, 0, 0, 0.15);\n",
              "      filter: drop-shadow(0px 1px 2px rgba(0, 0, 0, 0.3));\n",
              "      fill: #FFFFFF;\n",
              "    }\n",
              "  </style>\n",
              "\n",
              "      <script>\n",
              "        const buttonEl =\n",
              "          document.querySelector('#df-513ad91b-4b91-45ed-b078-7a98324cd710 button.colab-df-convert');\n",
              "        buttonEl.style.display =\n",
              "          google.colab.kernel.accessAllowed ? 'block' : 'none';\n",
              "\n",
              "        async function convertToInteractive(key) {\n",
              "          const element = document.querySelector('#df-513ad91b-4b91-45ed-b078-7a98324cd710');\n",
              "          const dataTable =\n",
              "            await google.colab.kernel.invokeFunction('convertToInteractive',\n",
              "                                                     [key], {});\n",
              "          if (!dataTable) return;\n",
              "\n",
              "          const docLinkHtml = 'Like what you see? Visit the ' +\n",
              "            '<a target=\"_blank\" href=https://colab.research.google.com/notebooks/data_table.ipynb>data table notebook</a>'\n",
              "            + ' to learn more about interactive tables.';\n",
              "          element.innerHTML = '';\n",
              "          dataTable['output_type'] = 'display_data';\n",
              "          await google.colab.output.renderOutput(dataTable, element);\n",
              "          const docLink = document.createElement('div');\n",
              "          docLink.innerHTML = docLinkHtml;\n",
              "          element.appendChild(docLink);\n",
              "        }\n",
              "      </script>\n",
              "    </div>\n",
              "  </div>\n",
              "  "
            ]
          },
          "metadata": {},
          "execution_count": 6
        }
      ]
    },
    {
      "cell_type": "code",
      "metadata": {
        "id": "3hmjt7qPHOZY"
      },
      "source": [
        "def imprime_resultados(results):\n",
        "  media = results['test_score'].mean() * 100\n",
        "  desviacion = results['test_score'].std() * 100\n",
        "  print(\"Accuracy media %.2f\" % media)\n",
        "  print(\"Intervalo [%.2f, %.2f]\" % (media - 2 * desviacion, media + 2 * desviacion))"
      ],
      "execution_count": 7,
      "outputs": []
    },
    {
      "cell_type": "code",
      "metadata": {
        "id": "goijy0rSS7n-",
        "colab": {
          "base_uri": "https://localhost:8080/"
        },
        "outputId": "dfdc8ce9-8bad-47f6-e247-af9277f29f08"
      },
      "source": [
        "# GroupKFold en un pipeline con StandardScaler y SVC\n",
        "\n",
        "from sklearn.preprocessing import StandardScaler\n",
        "from sklearn.svm import SVC\n",
        "from sklearn.pipeline import Pipeline\n",
        "\n",
        "SEED = 301\n",
        "np.random.seed(SEED)\n",
        "\n",
        "scaler = StandardScaler()\n",
        "modelo = SVC()\n",
        "\n",
        "pipeline = Pipeline([('transformacion',scaler), ('estimador',modelo)])\n",
        "\n",
        "cv = GroupKFold(n_splits = 10)\n",
        "results = cross_validate(pipeline, x_ord, y_ord, cv = cv, groups = datos.modelo, return_train_score=False)\n",
        "imprime_resultados(results)"
      ],
      "execution_count": 9,
      "outputs": [
        {
          "output_type": "stream",
          "name": "stdout",
          "text": [
            "Accuracy media 76.68\n",
            "Intervalo [74.28, 79.08]\n"
          ]
        }
      ]
    },
    {
      "cell_type": "code",
      "metadata": {
        "id": "IKD8uaWkNcUL",
        "colab": {
          "base_uri": "https://localhost:8080/"
        },
        "outputId": "a14a83c9-bffc-4da5-e7e0-b8a0faf3eca8"
      },
      "source": [
        "# GroupKFold para analizar como el modelo se comporta con nuevos grupos\n",
        "\n",
        "from sklearn.model_selection import GroupKFold\n",
        "\n",
        "SEED = 301\n",
        "np.random.seed(SEED)\n",
        "\n",
        "cv = GroupKFold(n_splits = 10)\n",
        "modelo = DecisionTreeClassifier(max_depth=2)\n",
        "results = cross_validate(modelo, x_ord, y_ord, cv = cv, groups = datos.modelo, return_train_score=False)\n",
        "imprime_resultados(results)"
      ],
      "execution_count": 10,
      "outputs": [
        {
          "output_type": "stream",
          "name": "stdout",
          "text": [
            "Accuracy media 75.78\n",
            "Intervalo [73.67, 77.90]\n"
          ]
        }
      ]
    },
    {
      "cell_type": "code",
      "source": [
        "modelo"
      ],
      "metadata": {
        "colab": {
          "base_uri": "https://localhost:8080/",
          "height": 75
        },
        "id": "ddLQtnULxxJI",
        "outputId": "78ac496d-7245-46de-f108-317cc3ecdc88"
      },
      "execution_count": 11,
      "outputs": [
        {
          "output_type": "execute_result",
          "data": {
            "text/plain": [
              "DecisionTreeClassifier(max_depth=2)"
            ],
            "text/html": [
              "<style>#sk-container-id-1 {color: black;background-color: white;}#sk-container-id-1 pre{padding: 0;}#sk-container-id-1 div.sk-toggleable {background-color: white;}#sk-container-id-1 label.sk-toggleable__label {cursor: pointer;display: block;width: 100%;margin-bottom: 0;padding: 0.3em;box-sizing: border-box;text-align: center;}#sk-container-id-1 label.sk-toggleable__label-arrow:before {content: \"▸\";float: left;margin-right: 0.25em;color: #696969;}#sk-container-id-1 label.sk-toggleable__label-arrow:hover:before {color: black;}#sk-container-id-1 div.sk-estimator:hover label.sk-toggleable__label-arrow:before {color: black;}#sk-container-id-1 div.sk-toggleable__content {max-height: 0;max-width: 0;overflow: hidden;text-align: left;background-color: #f0f8ff;}#sk-container-id-1 div.sk-toggleable__content pre {margin: 0.2em;color: black;border-radius: 0.25em;background-color: #f0f8ff;}#sk-container-id-1 input.sk-toggleable__control:checked~div.sk-toggleable__content {max-height: 200px;max-width: 100%;overflow: auto;}#sk-container-id-1 input.sk-toggleable__control:checked~label.sk-toggleable__label-arrow:before {content: \"▾\";}#sk-container-id-1 div.sk-estimator input.sk-toggleable__control:checked~label.sk-toggleable__label {background-color: #d4ebff;}#sk-container-id-1 div.sk-label input.sk-toggleable__control:checked~label.sk-toggleable__label {background-color: #d4ebff;}#sk-container-id-1 input.sk-hidden--visually {border: 0;clip: rect(1px 1px 1px 1px);clip: rect(1px, 1px, 1px, 1px);height: 1px;margin: -1px;overflow: hidden;padding: 0;position: absolute;width: 1px;}#sk-container-id-1 div.sk-estimator {font-family: monospace;background-color: #f0f8ff;border: 1px dotted black;border-radius: 0.25em;box-sizing: border-box;margin-bottom: 0.5em;}#sk-container-id-1 div.sk-estimator:hover {background-color: #d4ebff;}#sk-container-id-1 div.sk-parallel-item::after {content: \"\";width: 100%;border-bottom: 1px solid gray;flex-grow: 1;}#sk-container-id-1 div.sk-label:hover label.sk-toggleable__label {background-color: #d4ebff;}#sk-container-id-1 div.sk-serial::before {content: \"\";position: absolute;border-left: 1px solid gray;box-sizing: border-box;top: 0;bottom: 0;left: 50%;z-index: 0;}#sk-container-id-1 div.sk-serial {display: flex;flex-direction: column;align-items: center;background-color: white;padding-right: 0.2em;padding-left: 0.2em;position: relative;}#sk-container-id-1 div.sk-item {position: relative;z-index: 1;}#sk-container-id-1 div.sk-parallel {display: flex;align-items: stretch;justify-content: center;background-color: white;position: relative;}#sk-container-id-1 div.sk-item::before, #sk-container-id-1 div.sk-parallel-item::before {content: \"\";position: absolute;border-left: 1px solid gray;box-sizing: border-box;top: 0;bottom: 0;left: 50%;z-index: -1;}#sk-container-id-1 div.sk-parallel-item {display: flex;flex-direction: column;z-index: 1;position: relative;background-color: white;}#sk-container-id-1 div.sk-parallel-item:first-child::after {align-self: flex-end;width: 50%;}#sk-container-id-1 div.sk-parallel-item:last-child::after {align-self: flex-start;width: 50%;}#sk-container-id-1 div.sk-parallel-item:only-child::after {width: 0;}#sk-container-id-1 div.sk-dashed-wrapped {border: 1px dashed gray;margin: 0 0.4em 0.5em 0.4em;box-sizing: border-box;padding-bottom: 0.4em;background-color: white;}#sk-container-id-1 div.sk-label label {font-family: monospace;font-weight: bold;display: inline-block;line-height: 1.2em;}#sk-container-id-1 div.sk-label-container {text-align: center;}#sk-container-id-1 div.sk-container {/* jupyter's `normalize.less` sets `[hidden] { display: none; }` but bootstrap.min.css set `[hidden] { display: none !important; }` so we also need the `!important` here to be able to override the default hidden behavior on the sphinx rendered scikit-learn.org. See: https://github.com/scikit-learn/scikit-learn/issues/21755 */display: inline-block !important;position: relative;}#sk-container-id-1 div.sk-text-repr-fallback {display: none;}</style><div id=\"sk-container-id-1\" class=\"sk-top-container\"><div class=\"sk-text-repr-fallback\"><pre>DecisionTreeClassifier(max_depth=2)</pre><b>In a Jupyter environment, please rerun this cell to show the HTML representation or trust the notebook. <br />On GitHub, the HTML representation is unable to render, please try loading this page with nbviewer.org.</b></div><div class=\"sk-container\" hidden><div class=\"sk-item\"><div class=\"sk-estimator sk-toggleable\"><input class=\"sk-toggleable__control sk-hidden--visually\" id=\"sk-estimator-id-1\" type=\"checkbox\" checked><label for=\"sk-estimator-id-1\" class=\"sk-toggleable__label sk-toggleable__label-arrow\">DecisionTreeClassifier</label><div class=\"sk-toggleable__content\"><pre>DecisionTreeClassifier(max_depth=2)</pre></div></div></div></div></div>"
            ]
          },
          "metadata": {},
          "execution_count": 11
        }
      ]
    },
    {
      "cell_type": "code",
      "source": [
        "from sklearn.tree import export_graphviz\n",
        "import graphviz\n",
        "\n",
        "modelo.fit(x_ord, y_ord)\n",
        "features = x_ord.columns\n",
        "dot_data = export_graphviz(modelo, out_file=None, filled=True, rounded=True,\n",
        "                class_names=['no','si'],\n",
        "                feature_names = features)\n",
        "graph = graphviz.Source(dot_data)\n",
        "graph"
      ],
      "metadata": {
        "colab": {
          "base_uri": "https://localhost:8080/",
          "height": 460
        },
        "id": "aeLrw6rpxT5X",
        "outputId": "d9eb38a6-42c5-4bfa-b917-588c7f649c90"
      },
      "execution_count": 12,
      "outputs": [
        {
          "output_type": "execute_result",
          "data": {
            "image/svg+xml": "<?xml version=\"1.0\" encoding=\"UTF-8\" standalone=\"no\"?>\n<!DOCTYPE svg PUBLIC \"-//W3C//DTD SVG 1.1//EN\"\n \"http://www.w3.org/Graphics/SVG/1.1/DTD/svg11.dtd\">\n<!-- Generated by graphviz version 2.43.0 (0)\n -->\n<!-- Title: Tree Pages: 1 -->\n<svg width=\"596pt\" height=\"314pt\"\n viewBox=\"0.00 0.00 595.50 314.00\" xmlns=\"http://www.w3.org/2000/svg\" xmlns:xlink=\"http://www.w3.org/1999/xlink\">\n<g id=\"graph0\" class=\"graph\" transform=\"scale(1 1) rotate(0) translate(4 310)\">\n<title>Tree</title>\n<polygon fill=\"white\" stroke=\"transparent\" points=\"-4,4 -4,-310 591.5,-310 591.5,4 -4,4\"/>\n<!-- 0 -->\n<g id=\"node1\" class=\"node\">\n<title>0</title>\n<path fill=\"#c8e4f8\" stroke=\"black\" d=\"M343,-306C343,-306 226,-306 226,-306 220,-306 214,-300 214,-294 214,-294 214,-235 214,-235 214,-229 220,-223 226,-223 226,-223 343,-223 343,-223 349,-223 355,-229 355,-235 355,-235 355,-294 355,-294 355,-300 349,-306 343,-306\"/>\n<text text-anchor=\"middle\" x=\"284.5\" y=\"-290.8\" font-family=\"Helvetica,sans-Serif\" font-size=\"14.00\">precio &lt;= 59982.246</text>\n<text text-anchor=\"middle\" x=\"284.5\" y=\"-275.8\" font-family=\"Helvetica,sans-Serif\" font-size=\"14.00\">gini = 0.487</text>\n<text text-anchor=\"middle\" x=\"284.5\" y=\"-260.8\" font-family=\"Helvetica,sans-Serif\" font-size=\"14.00\">samples = 10000</text>\n<text text-anchor=\"middle\" x=\"284.5\" y=\"-245.8\" font-family=\"Helvetica,sans-Serif\" font-size=\"14.00\">value = [4200, 5800]</text>\n<text text-anchor=\"middle\" x=\"284.5\" y=\"-230.8\" font-family=\"Helvetica,sans-Serif\" font-size=\"14.00\">class = si</text>\n</g>\n<!-- 1 -->\n<g id=\"node2\" class=\"node\">\n<title>1</title>\n<path fill=\"#52a9e8\" stroke=\"black\" d=\"M254,-187C254,-187 137,-187 137,-187 131,-187 125,-181 125,-175 125,-175 125,-116 125,-116 125,-110 131,-104 137,-104 137,-104 254,-104 254,-104 260,-104 266,-110 266,-116 266,-116 266,-175 266,-175 266,-181 260,-187 254,-187\"/>\n<text text-anchor=\"middle\" x=\"195.5\" y=\"-171.8\" font-family=\"Helvetica,sans-Serif\" font-size=\"14.00\">precio &lt;= 40083.385</text>\n<text text-anchor=\"middle\" x=\"195.5\" y=\"-156.8\" font-family=\"Helvetica,sans-Serif\" font-size=\"14.00\">gini = 0.198</text>\n<text text-anchor=\"middle\" x=\"195.5\" y=\"-141.8\" font-family=\"Helvetica,sans-Serif\" font-size=\"14.00\">samples = 4347</text>\n<text text-anchor=\"middle\" x=\"195.5\" y=\"-126.8\" font-family=\"Helvetica,sans-Serif\" font-size=\"14.00\">value = [484, 3863]</text>\n<text text-anchor=\"middle\" x=\"195.5\" y=\"-111.8\" font-family=\"Helvetica,sans-Serif\" font-size=\"14.00\">class = si</text>\n</g>\n<!-- 0&#45;&gt;1 -->\n<g id=\"edge1\" class=\"edge\">\n<title>0&#45;&gt;1</title>\n<path fill=\"none\" stroke=\"black\" d=\"M253.62,-222.91C246.79,-213.92 239.48,-204.32 232.43,-195.05\"/>\n<polygon fill=\"black\" stroke=\"black\" points=\"235.16,-192.86 226.32,-187.02 229.59,-197.1 235.16,-192.86\"/>\n<text text-anchor=\"middle\" x=\"222.96\" y=\"-208.09\" font-family=\"Helvetica,sans-Serif\" font-size=\"14.00\">True</text>\n</g>\n<!-- 4 -->\n<g id=\"node5\" class=\"node\">\n<title>4</title>\n<path fill=\"#f3c3a0\" stroke=\"black\" d=\"M451,-187C451,-187 296,-187 296,-187 290,-187 284,-181 284,-175 284,-175 284,-116 284,-116 284,-110 290,-104 296,-104 296,-104 451,-104 451,-104 457,-104 463,-110 463,-116 463,-116 463,-175 463,-175 463,-181 457,-187 451,-187\"/>\n<text text-anchor=\"middle\" x=\"373.5\" y=\"-171.8\" font-family=\"Helvetica,sans-Serif\" font-size=\"14.00\">km_by_year &lt;= 24124.006</text>\n<text text-anchor=\"middle\" x=\"373.5\" y=\"-156.8\" font-family=\"Helvetica,sans-Serif\" font-size=\"14.00\">gini = 0.45</text>\n<text text-anchor=\"middle\" x=\"373.5\" y=\"-141.8\" font-family=\"Helvetica,sans-Serif\" font-size=\"14.00\">samples = 5653</text>\n<text text-anchor=\"middle\" x=\"373.5\" y=\"-126.8\" font-family=\"Helvetica,sans-Serif\" font-size=\"14.00\">value = [3716, 1937]</text>\n<text text-anchor=\"middle\" x=\"373.5\" y=\"-111.8\" font-family=\"Helvetica,sans-Serif\" font-size=\"14.00\">class = no</text>\n</g>\n<!-- 0&#45;&gt;4 -->\n<g id=\"edge4\" class=\"edge\">\n<title>0&#45;&gt;4</title>\n<path fill=\"none\" stroke=\"black\" d=\"M315.38,-222.91C322.21,-213.92 329.52,-204.32 336.57,-195.05\"/>\n<polygon fill=\"black\" stroke=\"black\" points=\"339.41,-197.1 342.68,-187.02 333.84,-192.86 339.41,-197.1\"/>\n<text text-anchor=\"middle\" x=\"346.04\" y=\"-208.09\" font-family=\"Helvetica,sans-Serif\" font-size=\"14.00\">False</text>\n</g>\n<!-- 2 -->\n<g id=\"node3\" class=\"node\">\n<title>2</title>\n<path fill=\"#399de5\" stroke=\"black\" d=\"M105,-68C105,-68 12,-68 12,-68 6,-68 0,-62 0,-56 0,-56 0,-12 0,-12 0,-6 6,0 12,0 12,0 105,0 105,0 111,0 117,-6 117,-12 117,-12 117,-56 117,-56 117,-62 111,-68 105,-68\"/>\n<text text-anchor=\"middle\" x=\"58.5\" y=\"-52.8\" font-family=\"Helvetica,sans-Serif\" font-size=\"14.00\">gini = 0.0</text>\n<text text-anchor=\"middle\" x=\"58.5\" y=\"-37.8\" font-family=\"Helvetica,sans-Serif\" font-size=\"14.00\">samples = 1935</text>\n<text text-anchor=\"middle\" x=\"58.5\" y=\"-22.8\" font-family=\"Helvetica,sans-Serif\" font-size=\"14.00\">value = [0, 1935]</text>\n<text text-anchor=\"middle\" x=\"58.5\" y=\"-7.8\" font-family=\"Helvetica,sans-Serif\" font-size=\"14.00\">class = si</text>\n</g>\n<!-- 1&#45;&gt;2 -->\n<g id=\"edge2\" class=\"edge\">\n<title>1&#45;&gt;2</title>\n<path fill=\"none\" stroke=\"black\" d=\"M144.49,-103.73C132.62,-94.24 120,-84.16 108.19,-74.72\"/>\n<polygon fill=\"black\" stroke=\"black\" points=\"110.16,-71.81 100.16,-68.3 105.79,-77.28 110.16,-71.81\"/>\n</g>\n<!-- 3 -->\n<g id=\"node4\" class=\"node\">\n<title>3</title>\n<path fill=\"#6bb6ec\" stroke=\"black\" d=\"M255.5,-68C255.5,-68 147.5,-68 147.5,-68 141.5,-68 135.5,-62 135.5,-56 135.5,-56 135.5,-12 135.5,-12 135.5,-6 141.5,0 147.5,0 147.5,0 255.5,0 255.5,0 261.5,0 267.5,-6 267.5,-12 267.5,-12 267.5,-56 267.5,-56 267.5,-62 261.5,-68 255.5,-68\"/>\n<text text-anchor=\"middle\" x=\"201.5\" y=\"-52.8\" font-family=\"Helvetica,sans-Serif\" font-size=\"14.00\">gini = 0.321</text>\n<text text-anchor=\"middle\" x=\"201.5\" y=\"-37.8\" font-family=\"Helvetica,sans-Serif\" font-size=\"14.00\">samples = 2412</text>\n<text text-anchor=\"middle\" x=\"201.5\" y=\"-22.8\" font-family=\"Helvetica,sans-Serif\" font-size=\"14.00\">value = [484, 1928]</text>\n<text text-anchor=\"middle\" x=\"201.5\" y=\"-7.8\" font-family=\"Helvetica,sans-Serif\" font-size=\"14.00\">class = si</text>\n</g>\n<!-- 1&#45;&gt;3 -->\n<g id=\"edge3\" class=\"edge\">\n<title>1&#45;&gt;3</title>\n<path fill=\"none\" stroke=\"black\" d=\"M197.73,-103.73C198.18,-95.52 198.66,-86.86 199.11,-78.56\"/>\n<polygon fill=\"black\" stroke=\"black\" points=\"202.62,-78.48 199.68,-68.3 195.63,-78.09 202.62,-78.48\"/>\n</g>\n<!-- 5 -->\n<g id=\"node6\" class=\"node\">\n<title>5</title>\n<path fill=\"#fcefe5\" stroke=\"black\" d=\"M425.5,-68C425.5,-68 309.5,-68 309.5,-68 303.5,-68 297.5,-62 297.5,-56 297.5,-56 297.5,-12 297.5,-12 297.5,-6 303.5,0 309.5,0 309.5,0 425.5,0 425.5,0 431.5,0 437.5,-6 437.5,-12 437.5,-12 437.5,-56 437.5,-56 437.5,-62 431.5,-68 425.5,-68\"/>\n<text text-anchor=\"middle\" x=\"367.5\" y=\"-52.8\" font-family=\"Helvetica,sans-Serif\" font-size=\"14.00\">gini = 0.498</text>\n<text text-anchor=\"middle\" x=\"367.5\" y=\"-37.8\" font-family=\"Helvetica,sans-Serif\" font-size=\"14.00\">samples = 3513</text>\n<text text-anchor=\"middle\" x=\"367.5\" y=\"-22.8\" font-family=\"Helvetica,sans-Serif\" font-size=\"14.00\">value = [1879, 1634]</text>\n<text text-anchor=\"middle\" x=\"367.5\" y=\"-7.8\" font-family=\"Helvetica,sans-Serif\" font-size=\"14.00\">class = no</text>\n</g>\n<!-- 4&#45;&gt;5 -->\n<g id=\"edge5\" class=\"edge\">\n<title>4&#45;&gt;5</title>\n<path fill=\"none\" stroke=\"black\" d=\"M371.27,-103.73C370.82,-95.52 370.34,-86.86 369.89,-78.56\"/>\n<polygon fill=\"black\" stroke=\"black\" points=\"373.37,-78.09 369.32,-68.3 366.38,-78.48 373.37,-78.09\"/>\n</g>\n<!-- 6 -->\n<g id=\"node7\" class=\"node\">\n<title>6</title>\n<path fill=\"#e9965a\" stroke=\"black\" d=\"M575.5,-68C575.5,-68 467.5,-68 467.5,-68 461.5,-68 455.5,-62 455.5,-56 455.5,-56 455.5,-12 455.5,-12 455.5,-6 461.5,0 467.5,0 467.5,0 575.5,0 575.5,0 581.5,0 587.5,-6 587.5,-12 587.5,-12 587.5,-56 587.5,-56 587.5,-62 581.5,-68 575.5,-68\"/>\n<text text-anchor=\"middle\" x=\"521.5\" y=\"-52.8\" font-family=\"Helvetica,sans-Serif\" font-size=\"14.00\">gini = 0.243</text>\n<text text-anchor=\"middle\" x=\"521.5\" y=\"-37.8\" font-family=\"Helvetica,sans-Serif\" font-size=\"14.00\">samples = 2140</text>\n<text text-anchor=\"middle\" x=\"521.5\" y=\"-22.8\" font-family=\"Helvetica,sans-Serif\" font-size=\"14.00\">value = [1837, 303]</text>\n<text text-anchor=\"middle\" x=\"521.5\" y=\"-7.8\" font-family=\"Helvetica,sans-Serif\" font-size=\"14.00\">class = no</text>\n</g>\n<!-- 4&#45;&gt;6 -->\n<g id=\"edge6\" class=\"edge\">\n<title>4&#45;&gt;6</title>\n<path fill=\"none\" stroke=\"black\" d=\"M428.61,-103.73C441.55,-94.15 455.32,-83.96 468.19,-74.44\"/>\n<polygon fill=\"black\" stroke=\"black\" points=\"470.54,-77.06 476.49,-68.3 466.37,-71.43 470.54,-77.06\"/>\n</g>\n</g>\n</svg>\n",
            "text/plain": [
              "<graphviz.sources.Source at 0x7fbc24adb8b0>"
            ]
          },
          "metadata": {},
          "execution_count": 12
        }
      ]
    },
    {
      "cell_type": "code",
      "source": [
        "# GroupKFold para analizar como el modelo se comporta con nuevos grupos\n",
        "\n",
        "from sklearn.model_selection import GroupKFold\n",
        "\n",
        "SEED = 301\n",
        "np.random.seed(SEED)\n",
        "\n",
        "cv = GroupKFold(n_splits = 10)\n",
        "modelo = DecisionTreeClassifier(max_depth=6)\n",
        "results = cross_validate(modelo, x_ord, y_ord, cv = cv, groups = datos.modelo, return_train_score=False)\n",
        "imprime_resultados(results)"
      ],
      "metadata": {
        "colab": {
          "base_uri": "https://localhost:8080/"
        },
        "id": "d_Kya0ee3lSy",
        "outputId": "a8747190-af18-4b0a-c9f0-70cafbb1ef6f"
      },
      "execution_count": 21,
      "outputs": [
        {
          "output_type": "stream",
          "name": "stdout",
          "text": [
            "Accuracy media 78.12\n",
            "Intervalo [75.53, 80.72]\n"
          ]
        }
      ]
    },
    {
      "cell_type": "code",
      "source": [
        "from sklearn.tree import export_graphviz\n",
        "import graphviz\n",
        "\n",
        "modelo.fit(x_ord, y_ord)\n",
        "features = x_ord.columns\n",
        "dot_data = export_graphviz(modelo, out_file=None, filled=True, rounded=True,\n",
        "                class_names=['no','si'],\n",
        "                feature_names = features)\n",
        "graph = graphviz.Source(dot_data)\n",
        "graph"
      ],
      "metadata": {
        "colab": {
          "base_uri": "https://localhost:8080/",
          "height": 1000
        },
        "id": "bgEe_IMF3qth",
        "outputId": "d044be4c-97bf-4351-ddfd-159ae5efccbd"
      },
      "execution_count": 22,
      "outputs": [
        {
          "output_type": "execute_result",
          "data": {
            "image/svg+xml": "<?xml version=\"1.0\" encoding=\"UTF-8\" standalone=\"no\"?>\n<!DOCTYPE svg PUBLIC \"-//W3C//DTD SVG 1.1//EN\"\n \"http://www.w3.org/Graphics/SVG/1.1/DTD/svg11.dtd\">\n<!-- Generated by graphviz version 2.43.0 (0)\n -->\n<!-- Title: Tree Pages: 1 -->\n<svg width=\"3570pt\" height=\"790pt\"\n viewBox=\"0.00 0.00 3569.50 790.00\" xmlns=\"http://www.w3.org/2000/svg\" xmlns:xlink=\"http://www.w3.org/1999/xlink\">\n<g id=\"graph0\" class=\"graph\" transform=\"scale(1 1) rotate(0) translate(4 786)\">\n<title>Tree</title>\n<polygon fill=\"white\" stroke=\"transparent\" points=\"-4,4 -4,-786 3565.5,-786 3565.5,4 -4,4\"/>\n<!-- 0 -->\n<g id=\"node1\" class=\"node\">\n<title>0</title>\n<path fill=\"#c8e4f8\" stroke=\"black\" d=\"M1434,-782C1434,-782 1317,-782 1317,-782 1311,-782 1305,-776 1305,-770 1305,-770 1305,-711 1305,-711 1305,-705 1311,-699 1317,-699 1317,-699 1434,-699 1434,-699 1440,-699 1446,-705 1446,-711 1446,-711 1446,-770 1446,-770 1446,-776 1440,-782 1434,-782\"/>\n<text text-anchor=\"middle\" x=\"1375.5\" y=\"-766.8\" font-family=\"Helvetica,sans-Serif\" font-size=\"14.00\">precio &lt;= 59982.246</text>\n<text text-anchor=\"middle\" x=\"1375.5\" y=\"-751.8\" font-family=\"Helvetica,sans-Serif\" font-size=\"14.00\">gini = 0.487</text>\n<text text-anchor=\"middle\" x=\"1375.5\" y=\"-736.8\" font-family=\"Helvetica,sans-Serif\" font-size=\"14.00\">samples = 10000</text>\n<text text-anchor=\"middle\" x=\"1375.5\" y=\"-721.8\" font-family=\"Helvetica,sans-Serif\" font-size=\"14.00\">value = [4200, 5800]</text>\n<text text-anchor=\"middle\" x=\"1375.5\" y=\"-706.8\" font-family=\"Helvetica,sans-Serif\" font-size=\"14.00\">class = si</text>\n</g>\n<!-- 1 -->\n<g id=\"node2\" class=\"node\">\n<title>1</title>\n<path fill=\"#52a9e8\" stroke=\"black\" d=\"M978,-663C978,-663 861,-663 861,-663 855,-663 849,-657 849,-651 849,-651 849,-592 849,-592 849,-586 855,-580 861,-580 861,-580 978,-580 978,-580 984,-580 990,-586 990,-592 990,-592 990,-651 990,-651 990,-657 984,-663 978,-663\"/>\n<text text-anchor=\"middle\" x=\"919.5\" y=\"-647.8\" font-family=\"Helvetica,sans-Serif\" font-size=\"14.00\">precio &lt;= 40083.385</text>\n<text text-anchor=\"middle\" x=\"919.5\" y=\"-632.8\" font-family=\"Helvetica,sans-Serif\" font-size=\"14.00\">gini = 0.198</text>\n<text text-anchor=\"middle\" x=\"919.5\" y=\"-617.8\" font-family=\"Helvetica,sans-Serif\" font-size=\"14.00\">samples = 4347</text>\n<text text-anchor=\"middle\" x=\"919.5\" y=\"-602.8\" font-family=\"Helvetica,sans-Serif\" font-size=\"14.00\">value = [484, 3863]</text>\n<text text-anchor=\"middle\" x=\"919.5\" y=\"-587.8\" font-family=\"Helvetica,sans-Serif\" font-size=\"14.00\">class = si</text>\n</g>\n<!-- 0&#45;&gt;1 -->\n<g id=\"edge1\" class=\"edge\">\n<title>0&#45;&gt;1</title>\n<path fill=\"none\" stroke=\"black\" d=\"M1304.75,-721.35C1222.25,-700.18 1086.19,-665.27 999.8,-643.1\"/>\n<polygon fill=\"black\" stroke=\"black\" points=\"1000.6,-639.69 990.04,-640.6 998.86,-646.47 1000.6,-639.69\"/>\n<text text-anchor=\"middle\" x=\"1002.77\" y=\"-658.42\" font-family=\"Helvetica,sans-Serif\" font-size=\"14.00\">True</text>\n</g>\n<!-- 28 -->\n<g id=\"node29\" class=\"node\">\n<title>28</title>\n<path fill=\"#f3c3a0\" stroke=\"black\" d=\"M2098,-663C2098,-663 1943,-663 1943,-663 1937,-663 1931,-657 1931,-651 1931,-651 1931,-592 1931,-592 1931,-586 1937,-580 1943,-580 1943,-580 2098,-580 2098,-580 2104,-580 2110,-586 2110,-592 2110,-592 2110,-651 2110,-651 2110,-657 2104,-663 2098,-663\"/>\n<text text-anchor=\"middle\" x=\"2020.5\" y=\"-647.8\" font-family=\"Helvetica,sans-Serif\" font-size=\"14.00\">km_by_year &lt;= 24124.006</text>\n<text text-anchor=\"middle\" x=\"2020.5\" y=\"-632.8\" font-family=\"Helvetica,sans-Serif\" font-size=\"14.00\">gini = 0.45</text>\n<text text-anchor=\"middle\" x=\"2020.5\" y=\"-617.8\" font-family=\"Helvetica,sans-Serif\" font-size=\"14.00\">samples = 5653</text>\n<text text-anchor=\"middle\" x=\"2020.5\" y=\"-602.8\" font-family=\"Helvetica,sans-Serif\" font-size=\"14.00\">value = [3716, 1937]</text>\n<text text-anchor=\"middle\" x=\"2020.5\" y=\"-587.8\" font-family=\"Helvetica,sans-Serif\" font-size=\"14.00\">class = no</text>\n</g>\n<!-- 0&#45;&gt;28 -->\n<g id=\"edge28\" class=\"edge\">\n<title>0&#45;&gt;28</title>\n<path fill=\"none\" stroke=\"black\" d=\"M1446.06,-726.7C1561.07,-705.84 1789.27,-664.44 1920.79,-640.59\"/>\n<polygon fill=\"black\" stroke=\"black\" points=\"1921.66,-643.99 1930.87,-638.76 1920.41,-637.1 1921.66,-643.99\"/>\n<text text-anchor=\"middle\" x=\"1916.63\" y=\"-655.61\" font-family=\"Helvetica,sans-Serif\" font-size=\"14.00\">False</text>\n</g>\n<!-- 2 -->\n<g id=\"node3\" class=\"node\">\n<title>2</title>\n<path fill=\"#399de5\" stroke=\"black\" d=\"M819,-536.5C819,-536.5 726,-536.5 726,-536.5 720,-536.5 714,-530.5 714,-524.5 714,-524.5 714,-480.5 714,-480.5 714,-474.5 720,-468.5 726,-468.5 726,-468.5 819,-468.5 819,-468.5 825,-468.5 831,-474.5 831,-480.5 831,-480.5 831,-524.5 831,-524.5 831,-530.5 825,-536.5 819,-536.5\"/>\n<text text-anchor=\"middle\" x=\"772.5\" y=\"-521.3\" font-family=\"Helvetica,sans-Serif\" font-size=\"14.00\">gini = 0.0</text>\n<text text-anchor=\"middle\" x=\"772.5\" y=\"-506.3\" font-family=\"Helvetica,sans-Serif\" font-size=\"14.00\">samples = 1935</text>\n<text text-anchor=\"middle\" x=\"772.5\" y=\"-491.3\" font-family=\"Helvetica,sans-Serif\" font-size=\"14.00\">value = [0, 1935]</text>\n<text text-anchor=\"middle\" x=\"772.5\" y=\"-476.3\" font-family=\"Helvetica,sans-Serif\" font-size=\"14.00\">class = si</text>\n</g>\n<!-- 1&#45;&gt;2 -->\n<g id=\"edge2\" class=\"edge\">\n<title>1&#45;&gt;2</title>\n<path fill=\"none\" stroke=\"black\" d=\"M868.5,-579.91C853.53,-567.99 837.17,-554.98 822.28,-543.12\"/>\n<polygon fill=\"black\" stroke=\"black\" points=\"824.18,-540.16 814.17,-536.67 819.82,-545.63 824.18,-540.16\"/>\n</g>\n<!-- 3 -->\n<g id=\"node4\" class=\"node\">\n<title>3</title>\n<path fill=\"#6bb6ec\" stroke=\"black\" d=\"M978,-544C978,-544 861,-544 861,-544 855,-544 849,-538 849,-532 849,-532 849,-473 849,-473 849,-467 855,-461 861,-461 861,-461 978,-461 978,-461 984,-461 990,-467 990,-473 990,-473 990,-532 990,-532 990,-538 984,-544 978,-544\"/>\n<text text-anchor=\"middle\" x=\"919.5\" y=\"-528.8\" font-family=\"Helvetica,sans-Serif\" font-size=\"14.00\">precio &lt;= 41083.029</text>\n<text text-anchor=\"middle\" x=\"919.5\" y=\"-513.8\" font-family=\"Helvetica,sans-Serif\" font-size=\"14.00\">gini = 0.321</text>\n<text text-anchor=\"middle\" x=\"919.5\" y=\"-498.8\" font-family=\"Helvetica,sans-Serif\" font-size=\"14.00\">samples = 2412</text>\n<text text-anchor=\"middle\" x=\"919.5\" y=\"-483.8\" font-family=\"Helvetica,sans-Serif\" font-size=\"14.00\">value = [484, 1928]</text>\n<text text-anchor=\"middle\" x=\"919.5\" y=\"-468.8\" font-family=\"Helvetica,sans-Serif\" font-size=\"14.00\">class = si</text>\n</g>\n<!-- 1&#45;&gt;3 -->\n<g id=\"edge3\" class=\"edge\">\n<title>1&#45;&gt;3</title>\n<path fill=\"none\" stroke=\"black\" d=\"M919.5,-579.91C919.5,-571.65 919.5,-562.86 919.5,-554.3\"/>\n<polygon fill=\"black\" stroke=\"black\" points=\"923,-554.02 919.5,-544.02 916,-554.02 923,-554.02\"/>\n</g>\n<!-- 4 -->\n<g id=\"node5\" class=\"node\">\n<title>4</title>\n<path fill=\"#95cbf1\" stroke=\"black\" d=\"M726,-425C726,-425 609,-425 609,-425 603,-425 597,-419 597,-413 597,-413 597,-354 597,-354 597,-348 603,-342 609,-342 609,-342 726,-342 726,-342 732,-342 738,-348 738,-354 738,-354 738,-413 738,-413 738,-419 732,-425 726,-425\"/>\n<text text-anchor=\"middle\" x=\"667.5\" y=\"-409.8\" font-family=\"Helvetica,sans-Serif\" font-size=\"14.00\">precio &lt;= 41041.311</text>\n<text text-anchor=\"middle\" x=\"667.5\" y=\"-394.8\" font-family=\"Helvetica,sans-Serif\" font-size=\"14.00\">gini = 0.434</text>\n<text text-anchor=\"middle\" x=\"667.5\" y=\"-379.8\" font-family=\"Helvetica,sans-Serif\" font-size=\"14.00\">samples = 110</text>\n<text text-anchor=\"middle\" x=\"667.5\" y=\"-364.8\" font-family=\"Helvetica,sans-Serif\" font-size=\"14.00\">value = [35, 75]</text>\n<text text-anchor=\"middle\" x=\"667.5\" y=\"-349.8\" font-family=\"Helvetica,sans-Serif\" font-size=\"14.00\">class = si</text>\n</g>\n<!-- 3&#45;&gt;4 -->\n<g id=\"edge4\" class=\"edge\">\n<title>3&#45;&gt;4</title>\n<path fill=\"none\" stroke=\"black\" d=\"M848.92,-465.53C845.75,-463.99 842.59,-462.47 839.5,-461 809.67,-446.83 776.58,-431.92 747.46,-419.07\"/>\n<polygon fill=\"black\" stroke=\"black\" points=\"748.72,-415.8 738.16,-414.97 745.9,-422.21 748.72,-415.8\"/>\n</g>\n<!-- 13 -->\n<g id=\"node14\" class=\"node\">\n<title>13</title>\n<path fill=\"#69b5eb\" stroke=\"black\" d=\"M997,-425C997,-425 842,-425 842,-425 836,-425 830,-419 830,-413 830,-413 830,-354 830,-354 830,-348 836,-342 842,-342 842,-342 997,-342 997,-342 1003,-342 1009,-348 1009,-354 1009,-354 1009,-413 1009,-413 1009,-419 1003,-425 997,-425\"/>\n<text text-anchor=\"middle\" x=\"919.5\" y=\"-409.8\" font-family=\"Helvetica,sans-Serif\" font-size=\"14.00\">km_by_year &lt;= 35765.973</text>\n<text text-anchor=\"middle\" x=\"919.5\" y=\"-394.8\" font-family=\"Helvetica,sans-Serif\" font-size=\"14.00\">gini = 0.314</text>\n<text text-anchor=\"middle\" x=\"919.5\" y=\"-379.8\" font-family=\"Helvetica,sans-Serif\" font-size=\"14.00\">samples = 2302</text>\n<text text-anchor=\"middle\" x=\"919.5\" y=\"-364.8\" font-family=\"Helvetica,sans-Serif\" font-size=\"14.00\">value = [449, 1853]</text>\n<text text-anchor=\"middle\" x=\"919.5\" y=\"-349.8\" font-family=\"Helvetica,sans-Serif\" font-size=\"14.00\">class = si</text>\n</g>\n<!-- 3&#45;&gt;13 -->\n<g id=\"edge13\" class=\"edge\">\n<title>3&#45;&gt;13</title>\n<path fill=\"none\" stroke=\"black\" d=\"M919.5,-460.91C919.5,-452.65 919.5,-443.86 919.5,-435.3\"/>\n<polygon fill=\"black\" stroke=\"black\" points=\"923,-435.02 919.5,-425.02 916,-435.02 923,-435.02\"/>\n</g>\n<!-- 5 -->\n<g id=\"node6\" class=\"node\">\n<title>5</title>\n<path fill=\"#90c8f0\" stroke=\"black\" d=\"M450,-306C450,-306 299,-306 299,-306 293,-306 287,-300 287,-294 287,-294 287,-235 287,-235 287,-229 293,-223 299,-223 299,-223 450,-223 450,-223 456,-223 462,-229 462,-235 462,-235 462,-294 462,-294 462,-300 456,-306 450,-306\"/>\n<text text-anchor=\"middle\" x=\"374.5\" y=\"-290.8\" font-family=\"Helvetica,sans-Serif\" font-size=\"14.00\">edad_del_modelo &lt;= 18.5</text>\n<text text-anchor=\"middle\" x=\"374.5\" y=\"-275.8\" font-family=\"Helvetica,sans-Serif\" font-size=\"14.00\">gini = 0.424</text>\n<text text-anchor=\"middle\" x=\"374.5\" y=\"-260.8\" font-family=\"Helvetica,sans-Serif\" font-size=\"14.00\">samples = 108</text>\n<text text-anchor=\"middle\" x=\"374.5\" y=\"-245.8\" font-family=\"Helvetica,sans-Serif\" font-size=\"14.00\">value = [33, 75]</text>\n<text text-anchor=\"middle\" x=\"374.5\" y=\"-230.8\" font-family=\"Helvetica,sans-Serif\" font-size=\"14.00\">class = si</text>\n</g>\n<!-- 4&#45;&gt;5 -->\n<g id=\"edge5\" class=\"edge\">\n<title>4&#45;&gt;5</title>\n<path fill=\"none\" stroke=\"black\" d=\"M596.95,-354.33C559.4,-339.33 512.66,-320.67 471.72,-304.32\"/>\n<polygon fill=\"black\" stroke=\"black\" points=\"472.85,-301.01 462.27,-300.55 470.26,-307.51 472.85,-301.01\"/>\n</g>\n<!-- 12 -->\n<g id=\"node13\" class=\"node\">\n<title>12</title>\n<path fill=\"#e58139\" stroke=\"black\" d=\"M703,-298.5C703,-298.5 632,-298.5 632,-298.5 626,-298.5 620,-292.5 620,-286.5 620,-286.5 620,-242.5 620,-242.5 620,-236.5 626,-230.5 632,-230.5 632,-230.5 703,-230.5 703,-230.5 709,-230.5 715,-236.5 715,-242.5 715,-242.5 715,-286.5 715,-286.5 715,-292.5 709,-298.5 703,-298.5\"/>\n<text text-anchor=\"middle\" x=\"667.5\" y=\"-283.3\" font-family=\"Helvetica,sans-Serif\" font-size=\"14.00\">gini = 0.0</text>\n<text text-anchor=\"middle\" x=\"667.5\" y=\"-268.3\" font-family=\"Helvetica,sans-Serif\" font-size=\"14.00\">samples = 2</text>\n<text text-anchor=\"middle\" x=\"667.5\" y=\"-253.3\" font-family=\"Helvetica,sans-Serif\" font-size=\"14.00\">value = [2, 0]</text>\n<text text-anchor=\"middle\" x=\"667.5\" y=\"-238.3\" font-family=\"Helvetica,sans-Serif\" font-size=\"14.00\">class = no</text>\n</g>\n<!-- 4&#45;&gt;12 -->\n<g id=\"edge12\" class=\"edge\">\n<title>4&#45;&gt;12</title>\n<path fill=\"none\" stroke=\"black\" d=\"M667.5,-341.91C667.5,-331.2 667.5,-319.62 667.5,-308.78\"/>\n<polygon fill=\"black\" stroke=\"black\" points=\"671,-308.67 667.5,-298.67 664,-308.67 671,-308.67\"/>\n</g>\n<!-- 6 -->\n<g id=\"node7\" class=\"node\">\n<title>6</title>\n<path fill=\"#84c2ef\" stroke=\"black\" d=\"M227,-187C227,-187 110,-187 110,-187 104,-187 98,-181 98,-175 98,-175 98,-116 98,-116 98,-110 104,-104 110,-104 110,-104 227,-104 227,-104 233,-104 239,-110 239,-116 239,-116 239,-175 239,-175 239,-181 233,-187 227,-187\"/>\n<text text-anchor=\"middle\" x=\"168.5\" y=\"-171.8\" font-family=\"Helvetica,sans-Serif\" font-size=\"14.00\">precio &lt;= 40086.025</text>\n<text text-anchor=\"middle\" x=\"168.5\" y=\"-156.8\" font-family=\"Helvetica,sans-Serif\" font-size=\"14.00\">gini = 0.399</text>\n<text text-anchor=\"middle\" x=\"168.5\" y=\"-141.8\" font-family=\"Helvetica,sans-Serif\" font-size=\"14.00\">samples = 91</text>\n<text text-anchor=\"middle\" x=\"168.5\" y=\"-126.8\" font-family=\"Helvetica,sans-Serif\" font-size=\"14.00\">value = [25, 66]</text>\n<text text-anchor=\"middle\" x=\"168.5\" y=\"-111.8\" font-family=\"Helvetica,sans-Serif\" font-size=\"14.00\">class = si</text>\n</g>\n<!-- 5&#45;&gt;6 -->\n<g id=\"edge6\" class=\"edge\">\n<title>5&#45;&gt;6</title>\n<path fill=\"none\" stroke=\"black\" d=\"M303.03,-222.91C285.25,-212.81 266.09,-201.93 247.96,-191.63\"/>\n<polygon fill=\"black\" stroke=\"black\" points=\"249.57,-188.52 239.15,-186.63 246.11,-194.61 249.57,-188.52\"/>\n</g>\n<!-- 9 -->\n<g id=\"node10\" class=\"node\">\n<title>9</title>\n<path fill=\"#e9f4fc\" stroke=\"black\" d=\"M452,-187C452,-187 297,-187 297,-187 291,-187 285,-181 285,-175 285,-175 285,-116 285,-116 285,-110 291,-104 297,-104 297,-104 452,-104 452,-104 458,-104 464,-110 464,-116 464,-116 464,-175 464,-175 464,-181 458,-187 452,-187\"/>\n<text text-anchor=\"middle\" x=\"374.5\" y=\"-171.8\" font-family=\"Helvetica,sans-Serif\" font-size=\"14.00\">km_by_year &lt;= 22634.562</text>\n<text text-anchor=\"middle\" x=\"374.5\" y=\"-156.8\" font-family=\"Helvetica,sans-Serif\" font-size=\"14.00\">gini = 0.498</text>\n<text text-anchor=\"middle\" x=\"374.5\" y=\"-141.8\" font-family=\"Helvetica,sans-Serif\" font-size=\"14.00\">samples = 17</text>\n<text text-anchor=\"middle\" x=\"374.5\" y=\"-126.8\" font-family=\"Helvetica,sans-Serif\" font-size=\"14.00\">value = [8, 9]</text>\n<text text-anchor=\"middle\" x=\"374.5\" y=\"-111.8\" font-family=\"Helvetica,sans-Serif\" font-size=\"14.00\">class = si</text>\n</g>\n<!-- 5&#45;&gt;9 -->\n<g id=\"edge9\" class=\"edge\">\n<title>5&#45;&gt;9</title>\n<path fill=\"none\" stroke=\"black\" d=\"M374.5,-222.91C374.5,-214.65 374.5,-205.86 374.5,-197.3\"/>\n<polygon fill=\"black\" stroke=\"black\" points=\"378,-197.02 374.5,-187.02 371,-197.02 378,-197.02\"/>\n</g>\n<!-- 7 -->\n<g id=\"node8\" class=\"node\">\n<title>7</title>\n<path fill=\"#e58139\" stroke=\"black\" d=\"M83,-68C83,-68 12,-68 12,-68 6,-68 0,-62 0,-56 0,-56 0,-12 0,-12 0,-6 6,0 12,0 12,0 83,0 83,0 89,0 95,-6 95,-12 95,-12 95,-56 95,-56 95,-62 89,-68 83,-68\"/>\n<text text-anchor=\"middle\" x=\"47.5\" y=\"-52.8\" font-family=\"Helvetica,sans-Serif\" font-size=\"14.00\">gini = 0.0</text>\n<text text-anchor=\"middle\" x=\"47.5\" y=\"-37.8\" font-family=\"Helvetica,sans-Serif\" font-size=\"14.00\">samples = 1</text>\n<text text-anchor=\"middle\" x=\"47.5\" y=\"-22.8\" font-family=\"Helvetica,sans-Serif\" font-size=\"14.00\">value = [1, 0]</text>\n<text text-anchor=\"middle\" x=\"47.5\" y=\"-7.8\" font-family=\"Helvetica,sans-Serif\" font-size=\"14.00\">class = no</text>\n</g>\n<!-- 6&#45;&gt;7 -->\n<g id=\"edge7\" class=\"edge\">\n<title>6&#45;&gt;7</title>\n<path fill=\"none\" stroke=\"black\" d=\"M123.44,-103.73C113.16,-94.42 102.25,-84.54 91.99,-75.26\"/>\n<polygon fill=\"black\" stroke=\"black\" points=\"94.06,-72.41 84.3,-68.3 89.36,-77.6 94.06,-72.41\"/>\n</g>\n<!-- 8 -->\n<g id=\"node9\" class=\"node\">\n<title>8</title>\n<path fill=\"#81c1ee\" stroke=\"black\" d=\"M211.5,-68C211.5,-68 125.5,-68 125.5,-68 119.5,-68 113.5,-62 113.5,-56 113.5,-56 113.5,-12 113.5,-12 113.5,-6 119.5,0 125.5,0 125.5,0 211.5,0 211.5,0 217.5,0 223.5,-6 223.5,-12 223.5,-12 223.5,-56 223.5,-56 223.5,-62 217.5,-68 211.5,-68\"/>\n<text text-anchor=\"middle\" x=\"168.5\" y=\"-52.8\" font-family=\"Helvetica,sans-Serif\" font-size=\"14.00\">gini = 0.391</text>\n<text text-anchor=\"middle\" x=\"168.5\" y=\"-37.8\" font-family=\"Helvetica,sans-Serif\" font-size=\"14.00\">samples = 90</text>\n<text text-anchor=\"middle\" x=\"168.5\" y=\"-22.8\" font-family=\"Helvetica,sans-Serif\" font-size=\"14.00\">value = [24, 66]</text>\n<text text-anchor=\"middle\" x=\"168.5\" y=\"-7.8\" font-family=\"Helvetica,sans-Serif\" font-size=\"14.00\">class = si</text>\n</g>\n<!-- 6&#45;&gt;8 -->\n<g id=\"edge8\" class=\"edge\">\n<title>6&#45;&gt;8</title>\n<path fill=\"none\" stroke=\"black\" d=\"M168.5,-103.73C168.5,-95.52 168.5,-86.86 168.5,-78.56\"/>\n<polygon fill=\"black\" stroke=\"black\" points=\"172,-78.3 168.5,-68.3 165,-78.3 172,-78.3\"/>\n</g>\n<!-- 10 -->\n<g id=\"node11\" class=\"node\">\n<title>10</title>\n<path fill=\"#72b9ec\" stroke=\"black\" d=\"M325,-68C325,-68 254,-68 254,-68 248,-68 242,-62 242,-56 242,-56 242,-12 242,-12 242,-6 248,0 254,0 254,0 325,0 325,0 331,0 337,-6 337,-12 337,-12 337,-56 337,-56 337,-62 331,-68 325,-68\"/>\n<text text-anchor=\"middle\" x=\"289.5\" y=\"-52.8\" font-family=\"Helvetica,sans-Serif\" font-size=\"14.00\">gini = 0.346</text>\n<text text-anchor=\"middle\" x=\"289.5\" y=\"-37.8\" font-family=\"Helvetica,sans-Serif\" font-size=\"14.00\">samples = 9</text>\n<text text-anchor=\"middle\" x=\"289.5\" y=\"-22.8\" font-family=\"Helvetica,sans-Serif\" font-size=\"14.00\">value = [2, 7]</text>\n<text text-anchor=\"middle\" x=\"289.5\" y=\"-7.8\" font-family=\"Helvetica,sans-Serif\" font-size=\"14.00\">class = si</text>\n</g>\n<!-- 9&#45;&gt;10 -->\n<g id=\"edge10\" class=\"edge\">\n<title>9&#45;&gt;10</title>\n<path fill=\"none\" stroke=\"black\" d=\"M342.85,-103.73C335.91,-94.79 328.56,-85.32 321.6,-76.36\"/>\n<polygon fill=\"black\" stroke=\"black\" points=\"324.25,-74.05 315.35,-68.3 318.72,-78.35 324.25,-74.05\"/>\n</g>\n<!-- 11 -->\n<g id=\"node12\" class=\"node\">\n<title>11</title>\n<path fill=\"#eeab7b\" stroke=\"black\" d=\"M438,-68C438,-68 367,-68 367,-68 361,-68 355,-62 355,-56 355,-56 355,-12 355,-12 355,-6 361,0 367,0 367,0 438,0 438,0 444,0 450,-6 450,-12 450,-12 450,-56 450,-56 450,-62 444,-68 438,-68\"/>\n<text text-anchor=\"middle\" x=\"402.5\" y=\"-52.8\" font-family=\"Helvetica,sans-Serif\" font-size=\"14.00\">gini = 0.375</text>\n<text text-anchor=\"middle\" x=\"402.5\" y=\"-37.8\" font-family=\"Helvetica,sans-Serif\" font-size=\"14.00\">samples = 8</text>\n<text text-anchor=\"middle\" x=\"402.5\" y=\"-22.8\" font-family=\"Helvetica,sans-Serif\" font-size=\"14.00\">value = [6, 2]</text>\n<text text-anchor=\"middle\" x=\"402.5\" y=\"-7.8\" font-family=\"Helvetica,sans-Serif\" font-size=\"14.00\">class = no</text>\n</g>\n<!-- 9&#45;&gt;11 -->\n<g id=\"edge11\" class=\"edge\">\n<title>9&#45;&gt;11</title>\n<path fill=\"none\" stroke=\"black\" d=\"M384.93,-103.73C387.07,-95.34 389.34,-86.47 391.5,-78.01\"/>\n<polygon fill=\"black\" stroke=\"black\" points=\"394.9,-78.85 393.99,-68.3 388.12,-77.12 394.9,-78.85\"/>\n</g>\n<!-- 14 -->\n<g id=\"node15\" class=\"node\">\n<title>14</title>\n<path fill=\"#67b4eb\" stroke=\"black\" d=\"M942,-306C942,-306 795,-306 795,-306 789,-306 783,-300 783,-294 783,-294 783,-235 783,-235 783,-229 789,-223 795,-223 795,-223 942,-223 942,-223 948,-223 954,-229 954,-235 954,-235 954,-294 954,-294 954,-300 948,-306 942,-306\"/>\n<text text-anchor=\"middle\" x=\"868.5\" y=\"-290.8\" font-family=\"Helvetica,sans-Serif\" font-size=\"14.00\">km_by_year &lt;= 6267.575</text>\n<text text-anchor=\"middle\" x=\"868.5\" y=\"-275.8\" font-family=\"Helvetica,sans-Serif\" font-size=\"14.00\">gini = 0.306</text>\n<text text-anchor=\"middle\" x=\"868.5\" y=\"-260.8\" font-family=\"Helvetica,sans-Serif\" font-size=\"14.00\">samples = 2130</text>\n<text text-anchor=\"middle\" x=\"868.5\" y=\"-245.8\" font-family=\"Helvetica,sans-Serif\" font-size=\"14.00\">value = [401, 1729]</text>\n<text text-anchor=\"middle\" x=\"868.5\" y=\"-230.8\" font-family=\"Helvetica,sans-Serif\" font-size=\"14.00\">class = si</text>\n</g>\n<!-- 13&#45;&gt;14 -->\n<g id=\"edge14\" class=\"edge\">\n<title>13&#45;&gt;14</title>\n<path fill=\"none\" stroke=\"black\" d=\"M901.81,-341.91C898.09,-333.38 894.12,-324.28 890.28,-315.46\"/>\n<polygon fill=\"black\" stroke=\"black\" points=\"893.37,-313.79 886.16,-306.02 886.95,-316.59 893.37,-313.79\"/>\n</g>\n<!-- 21 -->\n<g id=\"node22\" class=\"node\">\n<title>21</title>\n<path fill=\"#86c3ef\" stroke=\"black\" d=\"M1125,-306C1125,-306 1008,-306 1008,-306 1002,-306 996,-300 996,-294 996,-294 996,-235 996,-235 996,-229 1002,-223 1008,-223 1008,-223 1125,-223 1125,-223 1131,-223 1137,-229 1137,-235 1137,-235 1137,-294 1137,-294 1137,-300 1131,-306 1125,-306\"/>\n<text text-anchor=\"middle\" x=\"1066.5\" y=\"-290.8\" font-family=\"Helvetica,sans-Serif\" font-size=\"14.00\">precio &lt;= 53005.512</text>\n<text text-anchor=\"middle\" x=\"1066.5\" y=\"-275.8\" font-family=\"Helvetica,sans-Serif\" font-size=\"14.00\">gini = 0.402</text>\n<text text-anchor=\"middle\" x=\"1066.5\" y=\"-260.8\" font-family=\"Helvetica,sans-Serif\" font-size=\"14.00\">samples = 172</text>\n<text text-anchor=\"middle\" x=\"1066.5\" y=\"-245.8\" font-family=\"Helvetica,sans-Serif\" font-size=\"14.00\">value = [48, 124]</text>\n<text text-anchor=\"middle\" x=\"1066.5\" y=\"-230.8\" font-family=\"Helvetica,sans-Serif\" font-size=\"14.00\">class = si</text>\n</g>\n<!-- 13&#45;&gt;21 -->\n<g id=\"edge21\" class=\"edge\">\n<title>13&#45;&gt;21</title>\n<path fill=\"none\" stroke=\"black\" d=\"M970.5,-341.91C982.47,-332.38 995.33,-322.15 1007.61,-312.37\"/>\n<polygon fill=\"black\" stroke=\"black\" points=\"1009.94,-314.99 1015.59,-306.02 1005.59,-309.51 1009.94,-314.99\"/>\n</g>\n<!-- 15 -->\n<g id=\"node16\" class=\"node\">\n<title>15</title>\n<path fill=\"#eeab7b\" stroke=\"black\" d=\"M702,-187C702,-187 555,-187 555,-187 549,-187 543,-181 543,-175 543,-175 543,-116 543,-116 543,-110 549,-104 555,-104 555,-104 702,-104 702,-104 708,-104 714,-110 714,-116 714,-116 714,-175 714,-175 714,-181 708,-187 702,-187\"/>\n<text text-anchor=\"middle\" x=\"628.5\" y=\"-171.8\" font-family=\"Helvetica,sans-Serif\" font-size=\"14.00\">km_by_year &lt;= 4049.099</text>\n<text text-anchor=\"middle\" x=\"628.5\" y=\"-156.8\" font-family=\"Helvetica,sans-Serif\" font-size=\"14.00\">gini = 0.375</text>\n<text text-anchor=\"middle\" x=\"628.5\" y=\"-141.8\" font-family=\"Helvetica,sans-Serif\" font-size=\"14.00\">samples = 4</text>\n<text text-anchor=\"middle\" x=\"628.5\" y=\"-126.8\" font-family=\"Helvetica,sans-Serif\" font-size=\"14.00\">value = [3, 1]</text>\n<text text-anchor=\"middle\" x=\"628.5\" y=\"-111.8\" font-family=\"Helvetica,sans-Serif\" font-size=\"14.00\">class = no</text>\n</g>\n<!-- 14&#45;&gt;15 -->\n<g id=\"edge15\" class=\"edge\">\n<title>14&#45;&gt;15</title>\n<path fill=\"none\" stroke=\"black\" d=\"M785.23,-222.91C764.38,-212.74 741.9,-201.78 720.64,-191.42\"/>\n<polygon fill=\"black\" stroke=\"black\" points=\"722.14,-188.26 711.62,-187.02 719.07,-194.55 722.14,-188.26\"/>\n</g>\n<!-- 18 -->\n<g id=\"node19\" class=\"node\">\n<title>18</title>\n<path fill=\"#67b4eb\" stroke=\"black\" d=\"M944,-187C944,-187 793,-187 793,-187 787,-187 781,-181 781,-175 781,-175 781,-116 781,-116 781,-110 787,-104 793,-104 793,-104 944,-104 944,-104 950,-104 956,-110 956,-116 956,-116 956,-175 956,-175 956,-181 950,-187 944,-187\"/>\n<text text-anchor=\"middle\" x=\"868.5\" y=\"-171.8\" font-family=\"Helvetica,sans-Serif\" font-size=\"14.00\">edad_del_modelo &lt;= 18.5</text>\n<text text-anchor=\"middle\" x=\"868.5\" y=\"-156.8\" font-family=\"Helvetica,sans-Serif\" font-size=\"14.00\">gini = 0.304</text>\n<text text-anchor=\"middle\" x=\"868.5\" y=\"-141.8\" font-family=\"Helvetica,sans-Serif\" font-size=\"14.00\">samples = 2126</text>\n<text text-anchor=\"middle\" x=\"868.5\" y=\"-126.8\" font-family=\"Helvetica,sans-Serif\" font-size=\"14.00\">value = [398, 1728]</text>\n<text text-anchor=\"middle\" x=\"868.5\" y=\"-111.8\" font-family=\"Helvetica,sans-Serif\" font-size=\"14.00\">class = si</text>\n</g>\n<!-- 14&#45;&gt;18 -->\n<g id=\"edge18\" class=\"edge\">\n<title>14&#45;&gt;18</title>\n<path fill=\"none\" stroke=\"black\" d=\"M868.5,-222.91C868.5,-214.65 868.5,-205.86 868.5,-197.3\"/>\n<polygon fill=\"black\" stroke=\"black\" points=\"872,-197.02 868.5,-187.02 865,-197.02 872,-197.02\"/>\n</g>\n<!-- 16 -->\n<g id=\"node17\" class=\"node\">\n<title>16</title>\n<path fill=\"#399de5\" stroke=\"black\" d=\"M551,-68C551,-68 480,-68 480,-68 474,-68 468,-62 468,-56 468,-56 468,-12 468,-12 468,-6 474,0 480,0 480,0 551,0 551,0 557,0 563,-6 563,-12 563,-12 563,-56 563,-56 563,-62 557,-68 551,-68\"/>\n<text text-anchor=\"middle\" x=\"515.5\" y=\"-52.8\" font-family=\"Helvetica,sans-Serif\" font-size=\"14.00\">gini = 0.0</text>\n<text text-anchor=\"middle\" x=\"515.5\" y=\"-37.8\" font-family=\"Helvetica,sans-Serif\" font-size=\"14.00\">samples = 1</text>\n<text text-anchor=\"middle\" x=\"515.5\" y=\"-22.8\" font-family=\"Helvetica,sans-Serif\" font-size=\"14.00\">value = [0, 1]</text>\n<text text-anchor=\"middle\" x=\"515.5\" y=\"-7.8\" font-family=\"Helvetica,sans-Serif\" font-size=\"14.00\">class = si</text>\n</g>\n<!-- 15&#45;&gt;16 -->\n<g id=\"edge16\" class=\"edge\">\n<title>15&#45;&gt;16</title>\n<path fill=\"none\" stroke=\"black\" d=\"M586.42,-103.73C576.82,-94.42 566.63,-84.54 557.05,-75.26\"/>\n<polygon fill=\"black\" stroke=\"black\" points=\"559.48,-72.75 549.86,-68.3 554.61,-77.77 559.48,-72.75\"/>\n</g>\n<!-- 17 -->\n<g id=\"node18\" class=\"node\">\n<title>17</title>\n<path fill=\"#e58139\" stroke=\"black\" d=\"M664,-68C664,-68 593,-68 593,-68 587,-68 581,-62 581,-56 581,-56 581,-12 581,-12 581,-6 587,0 593,0 593,0 664,0 664,0 670,0 676,-6 676,-12 676,-12 676,-56 676,-56 676,-62 670,-68 664,-68\"/>\n<text text-anchor=\"middle\" x=\"628.5\" y=\"-52.8\" font-family=\"Helvetica,sans-Serif\" font-size=\"14.00\">gini = 0.0</text>\n<text text-anchor=\"middle\" x=\"628.5\" y=\"-37.8\" font-family=\"Helvetica,sans-Serif\" font-size=\"14.00\">samples = 3</text>\n<text text-anchor=\"middle\" x=\"628.5\" y=\"-22.8\" font-family=\"Helvetica,sans-Serif\" font-size=\"14.00\">value = [3, 0]</text>\n<text text-anchor=\"middle\" x=\"628.5\" y=\"-7.8\" font-family=\"Helvetica,sans-Serif\" font-size=\"14.00\">class = no</text>\n</g>\n<!-- 15&#45;&gt;17 -->\n<g id=\"edge17\" class=\"edge\">\n<title>15&#45;&gt;17</title>\n<path fill=\"none\" stroke=\"black\" d=\"M628.5,-103.73C628.5,-95.52 628.5,-86.86 628.5,-78.56\"/>\n<polygon fill=\"black\" stroke=\"black\" points=\"632,-78.3 628.5,-68.3 625,-78.3 632,-78.3\"/>\n</g>\n<!-- 19 -->\n<g id=\"node20\" class=\"node\">\n<title>19</title>\n<path fill=\"#69b5eb\" stroke=\"black\" d=\"M814.5,-68C814.5,-68 706.5,-68 706.5,-68 700.5,-68 694.5,-62 694.5,-56 694.5,-56 694.5,-12 694.5,-12 694.5,-6 700.5,0 706.5,0 706.5,0 814.5,0 814.5,0 820.5,0 826.5,-6 826.5,-12 826.5,-12 826.5,-56 826.5,-56 826.5,-62 820.5,-68 814.5,-68\"/>\n<text text-anchor=\"middle\" x=\"760.5\" y=\"-52.8\" font-family=\"Helvetica,sans-Serif\" font-size=\"14.00\">gini = 0.316</text>\n<text text-anchor=\"middle\" x=\"760.5\" y=\"-37.8\" font-family=\"Helvetica,sans-Serif\" font-size=\"14.00\">samples = 1713</text>\n<text text-anchor=\"middle\" x=\"760.5\" y=\"-22.8\" font-family=\"Helvetica,sans-Serif\" font-size=\"14.00\">value = [337, 1376]</text>\n<text text-anchor=\"middle\" x=\"760.5\" y=\"-7.8\" font-family=\"Helvetica,sans-Serif\" font-size=\"14.00\">class = si</text>\n</g>\n<!-- 18&#45;&gt;19 -->\n<g id=\"edge19\" class=\"edge\">\n<title>18&#45;&gt;19</title>\n<path fill=\"none\" stroke=\"black\" d=\"M828.28,-103.73C819.2,-94.51 809.56,-84.74 800.48,-75.53\"/>\n<polygon fill=\"black\" stroke=\"black\" points=\"802.86,-72.96 793.34,-68.3 797.87,-77.88 802.86,-72.96\"/>\n</g>\n<!-- 20 -->\n<g id=\"node21\" class=\"node\">\n<title>20</title>\n<path fill=\"#5baeea\" stroke=\"black\" d=\"M950,-68C950,-68 857,-68 857,-68 851,-68 845,-62 845,-56 845,-56 845,-12 845,-12 845,-6 851,0 857,0 857,0 950,0 950,0 956,0 962,-6 962,-12 962,-12 962,-56 962,-56 962,-62 956,-68 950,-68\"/>\n<text text-anchor=\"middle\" x=\"903.5\" y=\"-52.8\" font-family=\"Helvetica,sans-Serif\" font-size=\"14.00\">gini = 0.252</text>\n<text text-anchor=\"middle\" x=\"903.5\" y=\"-37.8\" font-family=\"Helvetica,sans-Serif\" font-size=\"14.00\">samples = 413</text>\n<text text-anchor=\"middle\" x=\"903.5\" y=\"-22.8\" font-family=\"Helvetica,sans-Serif\" font-size=\"14.00\">value = [61, 352]</text>\n<text text-anchor=\"middle\" x=\"903.5\" y=\"-7.8\" font-family=\"Helvetica,sans-Serif\" font-size=\"14.00\">class = si</text>\n</g>\n<!-- 18&#45;&gt;20 -->\n<g id=\"edge20\" class=\"edge\">\n<title>18&#45;&gt;20</title>\n<path fill=\"none\" stroke=\"black\" d=\"M881.53,-103.73C884.21,-95.34 887.05,-86.47 889.75,-78.01\"/>\n<polygon fill=\"black\" stroke=\"black\" points=\"893.15,-78.89 892.86,-68.3 886.48,-76.76 893.15,-78.89\"/>\n</g>\n<!-- 22 -->\n<g id=\"node23\" class=\"node\">\n<title>22</title>\n<path fill=\"#70b8ec\" stroke=\"black\" d=\"M1125,-187C1125,-187 1008,-187 1008,-187 1002,-187 996,-181 996,-175 996,-175 996,-116 996,-116 996,-110 1002,-104 1008,-104 1008,-104 1125,-104 1125,-104 1131,-104 1137,-110 1137,-116 1137,-116 1137,-175 1137,-175 1137,-181 1131,-187 1125,-187\"/>\n<text text-anchor=\"middle\" x=\"1066.5\" y=\"-171.8\" font-family=\"Helvetica,sans-Serif\" font-size=\"14.00\">precio &lt;= 42674.936</text>\n<text text-anchor=\"middle\" x=\"1066.5\" y=\"-156.8\" font-family=\"Helvetica,sans-Serif\" font-size=\"14.00\">gini = 0.34</text>\n<text text-anchor=\"middle\" x=\"1066.5\" y=\"-141.8\" font-family=\"Helvetica,sans-Serif\" font-size=\"14.00\">samples = 115</text>\n<text text-anchor=\"middle\" x=\"1066.5\" y=\"-126.8\" font-family=\"Helvetica,sans-Serif\" font-size=\"14.00\">value = [25, 90]</text>\n<text text-anchor=\"middle\" x=\"1066.5\" y=\"-111.8\" font-family=\"Helvetica,sans-Serif\" font-size=\"14.00\">class = si</text>\n</g>\n<!-- 21&#45;&gt;22 -->\n<g id=\"edge22\" class=\"edge\">\n<title>21&#45;&gt;22</title>\n<path fill=\"none\" stroke=\"black\" d=\"M1066.5,-222.91C1066.5,-214.65 1066.5,-205.86 1066.5,-197.3\"/>\n<polygon fill=\"black\" stroke=\"black\" points=\"1070,-197.02 1066.5,-187.02 1063,-197.02 1070,-197.02\"/>\n</g>\n<!-- 25 -->\n<g id=\"node26\" class=\"node\">\n<title>25</title>\n<path fill=\"#bfdff7\" stroke=\"black\" d=\"M1342,-187C1342,-187 1225,-187 1225,-187 1219,-187 1213,-181 1213,-175 1213,-175 1213,-116 1213,-116 1213,-110 1219,-104 1225,-104 1225,-104 1342,-104 1342,-104 1348,-104 1354,-110 1354,-116 1354,-116 1354,-175 1354,-175 1354,-181 1348,-187 1342,-187\"/>\n<text text-anchor=\"middle\" x=\"1283.5\" y=\"-171.8\" font-family=\"Helvetica,sans-Serif\" font-size=\"14.00\">precio &lt;= 56450.775</text>\n<text text-anchor=\"middle\" x=\"1283.5\" y=\"-156.8\" font-family=\"Helvetica,sans-Serif\" font-size=\"14.00\">gini = 0.481</text>\n<text text-anchor=\"middle\" x=\"1283.5\" y=\"-141.8\" font-family=\"Helvetica,sans-Serif\" font-size=\"14.00\">samples = 57</text>\n<text text-anchor=\"middle\" x=\"1283.5\" y=\"-126.8\" font-family=\"Helvetica,sans-Serif\" font-size=\"14.00\">value = [23, 34]</text>\n<text text-anchor=\"middle\" x=\"1283.5\" y=\"-111.8\" font-family=\"Helvetica,sans-Serif\" font-size=\"14.00\">class = si</text>\n</g>\n<!-- 21&#45;&gt;25 -->\n<g id=\"edge25\" class=\"edge\">\n<title>21&#45;&gt;25</title>\n<path fill=\"none\" stroke=\"black\" d=\"M1137.25,-225.35C1158.56,-213.86 1182.08,-201.18 1203.92,-189.41\"/>\n<polygon fill=\"black\" stroke=\"black\" points=\"1205.7,-192.42 1212.84,-184.6 1202.38,-186.26 1205.7,-192.42\"/>\n</g>\n<!-- 23 -->\n<g id=\"node24\" class=\"node\">\n<title>23</title>\n<path fill=\"#d7ebfa\" stroke=\"black\" d=\"M1070.5,-68C1070.5,-68 992.5,-68 992.5,-68 986.5,-68 980.5,-62 980.5,-56 980.5,-56 980.5,-12 980.5,-12 980.5,-6 986.5,0 992.5,0 992.5,0 1070.5,0 1070.5,0 1076.5,0 1082.5,-6 1082.5,-12 1082.5,-12 1082.5,-56 1082.5,-56 1082.5,-62 1076.5,-68 1070.5,-68\"/>\n<text text-anchor=\"middle\" x=\"1031.5\" y=\"-52.8\" font-family=\"Helvetica,sans-Serif\" font-size=\"14.00\">gini = 0.494</text>\n<text text-anchor=\"middle\" x=\"1031.5\" y=\"-37.8\" font-family=\"Helvetica,sans-Serif\" font-size=\"14.00\">samples = 18</text>\n<text text-anchor=\"middle\" x=\"1031.5\" y=\"-22.8\" font-family=\"Helvetica,sans-Serif\" font-size=\"14.00\">value = [8, 10]</text>\n<text text-anchor=\"middle\" x=\"1031.5\" y=\"-7.8\" font-family=\"Helvetica,sans-Serif\" font-size=\"14.00\">class = si</text>\n</g>\n<!-- 22&#45;&gt;23 -->\n<g id=\"edge23\" class=\"edge\">\n<title>22&#45;&gt;23</title>\n<path fill=\"none\" stroke=\"black\" d=\"M1053.47,-103.73C1050.79,-95.34 1047.95,-86.47 1045.25,-78.01\"/>\n<polygon fill=\"black\" stroke=\"black\" points=\"1048.52,-76.76 1042.14,-68.3 1041.85,-78.89 1048.52,-76.76\"/>\n</g>\n<!-- 24 -->\n<g id=\"node25\" class=\"node\">\n<title>24</title>\n<path fill=\"#63b2eb\" stroke=\"black\" d=\"M1198.5,-68C1198.5,-68 1112.5,-68 1112.5,-68 1106.5,-68 1100.5,-62 1100.5,-56 1100.5,-56 1100.5,-12 1100.5,-12 1100.5,-6 1106.5,0 1112.5,0 1112.5,0 1198.5,0 1198.5,0 1204.5,0 1210.5,-6 1210.5,-12 1210.5,-12 1210.5,-56 1210.5,-56 1210.5,-62 1204.5,-68 1198.5,-68\"/>\n<text text-anchor=\"middle\" x=\"1155.5\" y=\"-52.8\" font-family=\"Helvetica,sans-Serif\" font-size=\"14.00\">gini = 0.289</text>\n<text text-anchor=\"middle\" x=\"1155.5\" y=\"-37.8\" font-family=\"Helvetica,sans-Serif\" font-size=\"14.00\">samples = 97</text>\n<text text-anchor=\"middle\" x=\"1155.5\" y=\"-22.8\" font-family=\"Helvetica,sans-Serif\" font-size=\"14.00\">value = [17, 80]</text>\n<text text-anchor=\"middle\" x=\"1155.5\" y=\"-7.8\" font-family=\"Helvetica,sans-Serif\" font-size=\"14.00\">class = si</text>\n</g>\n<!-- 22&#45;&gt;24 -->\n<g id=\"edge24\" class=\"edge\">\n<title>22&#45;&gt;24</title>\n<path fill=\"none\" stroke=\"black\" d=\"M1099.64,-103.73C1106.98,-94.7 1114.76,-85.12 1122.11,-76.08\"/>\n<polygon fill=\"black\" stroke=\"black\" points=\"1124.84,-78.27 1128.43,-68.3 1119.41,-73.85 1124.84,-78.27\"/>\n</g>\n<!-- 26 -->\n<g id=\"node27\" class=\"node\">\n<title>26</title>\n<path fill=\"#f7dac5\" stroke=\"black\" d=\"M1326.5,-68C1326.5,-68 1240.5,-68 1240.5,-68 1234.5,-68 1228.5,-62 1228.5,-56 1228.5,-56 1228.5,-12 1228.5,-12 1228.5,-6 1234.5,0 1240.5,0 1240.5,0 1326.5,0 1326.5,0 1332.5,0 1338.5,-6 1338.5,-12 1338.5,-12 1338.5,-56 1338.5,-56 1338.5,-62 1332.5,-68 1326.5,-68\"/>\n<text text-anchor=\"middle\" x=\"1283.5\" y=\"-52.8\" font-family=\"Helvetica,sans-Serif\" font-size=\"14.00\">gini = 0.485</text>\n<text text-anchor=\"middle\" x=\"1283.5\" y=\"-37.8\" font-family=\"Helvetica,sans-Serif\" font-size=\"14.00\">samples = 29</text>\n<text text-anchor=\"middle\" x=\"1283.5\" y=\"-22.8\" font-family=\"Helvetica,sans-Serif\" font-size=\"14.00\">value = [17, 12]</text>\n<text text-anchor=\"middle\" x=\"1283.5\" y=\"-7.8\" font-family=\"Helvetica,sans-Serif\" font-size=\"14.00\">class = no</text>\n</g>\n<!-- 25&#45;&gt;26 -->\n<g id=\"edge26\" class=\"edge\">\n<title>25&#45;&gt;26</title>\n<path fill=\"none\" stroke=\"black\" d=\"M1283.5,-103.73C1283.5,-95.52 1283.5,-86.86 1283.5,-78.56\"/>\n<polygon fill=\"black\" stroke=\"black\" points=\"1287,-78.3 1283.5,-68.3 1280,-78.3 1287,-78.3\"/>\n</g>\n<!-- 27 -->\n<g id=\"node28\" class=\"node\">\n<title>27</title>\n<path fill=\"#6fb8ec\" stroke=\"black\" d=\"M1446.5,-68C1446.5,-68 1368.5,-68 1368.5,-68 1362.5,-68 1356.5,-62 1356.5,-56 1356.5,-56 1356.5,-12 1356.5,-12 1356.5,-6 1362.5,0 1368.5,0 1368.5,0 1446.5,0 1446.5,0 1452.5,0 1458.5,-6 1458.5,-12 1458.5,-12 1458.5,-56 1458.5,-56 1458.5,-62 1452.5,-68 1446.5,-68\"/>\n<text text-anchor=\"middle\" x=\"1407.5\" y=\"-52.8\" font-family=\"Helvetica,sans-Serif\" font-size=\"14.00\">gini = 0.337</text>\n<text text-anchor=\"middle\" x=\"1407.5\" y=\"-37.8\" font-family=\"Helvetica,sans-Serif\" font-size=\"14.00\">samples = 28</text>\n<text text-anchor=\"middle\" x=\"1407.5\" y=\"-22.8\" font-family=\"Helvetica,sans-Serif\" font-size=\"14.00\">value = [6, 22]</text>\n<text text-anchor=\"middle\" x=\"1407.5\" y=\"-7.8\" font-family=\"Helvetica,sans-Serif\" font-size=\"14.00\">class = si</text>\n</g>\n<!-- 25&#45;&gt;27 -->\n<g id=\"edge27\" class=\"edge\">\n<title>25&#45;&gt;27</title>\n<path fill=\"none\" stroke=\"black\" d=\"M1329.67,-103.73C1340.31,-94.33 1351.62,-84.35 1362.22,-74.99\"/>\n<polygon fill=\"black\" stroke=\"black\" points=\"1364.61,-77.54 1369.79,-68.3 1359.98,-72.3 1364.61,-77.54\"/>\n</g>\n<!-- 29 -->\n<g id=\"node30\" class=\"node\">\n<title>29</title>\n<path fill=\"#fcefe5\" stroke=\"black\" d=\"M2078.5,-544C2078.5,-544 1962.5,-544 1962.5,-544 1956.5,-544 1950.5,-538 1950.5,-532 1950.5,-532 1950.5,-473 1950.5,-473 1950.5,-467 1956.5,-461 1962.5,-461 1962.5,-461 2078.5,-461 2078.5,-461 2084.5,-461 2090.5,-467 2090.5,-473 2090.5,-473 2090.5,-532 2090.5,-532 2090.5,-538 2084.5,-544 2078.5,-544\"/>\n<text text-anchor=\"middle\" x=\"2020.5\" y=\"-528.8\" font-family=\"Helvetica,sans-Serif\" font-size=\"14.00\">precio &lt;= 99974.41</text>\n<text text-anchor=\"middle\" x=\"2020.5\" y=\"-513.8\" font-family=\"Helvetica,sans-Serif\" font-size=\"14.00\">gini = 0.498</text>\n<text text-anchor=\"middle\" x=\"2020.5\" y=\"-498.8\" font-family=\"Helvetica,sans-Serif\" font-size=\"14.00\">samples = 3513</text>\n<text text-anchor=\"middle\" x=\"2020.5\" y=\"-483.8\" font-family=\"Helvetica,sans-Serif\" font-size=\"14.00\">value = [1879, 1634]</text>\n<text text-anchor=\"middle\" x=\"2020.5\" y=\"-468.8\" font-family=\"Helvetica,sans-Serif\" font-size=\"14.00\">class = no</text>\n</g>\n<!-- 28&#45;&gt;29 -->\n<g id=\"edge29\" class=\"edge\">\n<title>28&#45;&gt;29</title>\n<path fill=\"none\" stroke=\"black\" d=\"M2020.5,-579.91C2020.5,-571.65 2020.5,-562.86 2020.5,-554.3\"/>\n<polygon fill=\"black\" stroke=\"black\" points=\"2024,-554.02 2020.5,-544.02 2017,-554.02 2024,-554.02\"/>\n</g>\n<!-- 52 -->\n<g id=\"node53\" class=\"node\">\n<title>52</title>\n<path fill=\"#e9965a\" stroke=\"black\" d=\"M3040,-544C3040,-544 2915,-544 2915,-544 2909,-544 2903,-538 2903,-532 2903,-532 2903,-473 2903,-473 2903,-467 2909,-461 2915,-461 2915,-461 3040,-461 3040,-461 3046,-461 3052,-467 3052,-473 3052,-473 3052,-532 3052,-532 3052,-538 3046,-544 3040,-544\"/>\n<text text-anchor=\"middle\" x=\"2977.5\" y=\"-528.8\" font-family=\"Helvetica,sans-Serif\" font-size=\"14.00\">precio &lt;= 100076.957</text>\n<text text-anchor=\"middle\" x=\"2977.5\" y=\"-513.8\" font-family=\"Helvetica,sans-Serif\" font-size=\"14.00\">gini = 0.243</text>\n<text text-anchor=\"middle\" x=\"2977.5\" y=\"-498.8\" font-family=\"Helvetica,sans-Serif\" font-size=\"14.00\">samples = 2140</text>\n<text text-anchor=\"middle\" x=\"2977.5\" y=\"-483.8\" font-family=\"Helvetica,sans-Serif\" font-size=\"14.00\">value = [1837, 303]</text>\n<text text-anchor=\"middle\" x=\"2977.5\" y=\"-468.8\" font-family=\"Helvetica,sans-Serif\" font-size=\"14.00\">class = no</text>\n</g>\n<!-- 28&#45;&gt;52 -->\n<g id=\"edge52\" class=\"edge\">\n<title>28&#45;&gt;52</title>\n<path fill=\"none\" stroke=\"black\" d=\"M2110.1,-609.55C2294.23,-587.04 2712.91,-535.85 2892.79,-513.86\"/>\n<polygon fill=\"black\" stroke=\"black\" points=\"2893.23,-517.33 2902.73,-512.64 2892.38,-510.38 2893.23,-517.33\"/>\n</g>\n<!-- 30 -->\n<g id=\"node31\" class=\"node\">\n<title>30</title>\n<path fill=\"#f9e0ce\" stroke=\"black\" d=\"M1940,-425C1940,-425 1793,-425 1793,-425 1787,-425 1781,-419 1781,-413 1781,-413 1781,-354 1781,-354 1781,-348 1787,-342 1793,-342 1793,-342 1940,-342 1940,-342 1946,-342 1952,-348 1952,-354 1952,-354 1952,-413 1952,-413 1952,-419 1946,-425 1940,-425\"/>\n<text text-anchor=\"middle\" x=\"1866.5\" y=\"-409.8\" font-family=\"Helvetica,sans-Serif\" font-size=\"14.00\">km_by_year &lt;= 6826.016</text>\n<text text-anchor=\"middle\" x=\"1866.5\" y=\"-394.8\" font-family=\"Helvetica,sans-Serif\" font-size=\"14.00\">gini = 0.49</text>\n<text text-anchor=\"middle\" x=\"1866.5\" y=\"-379.8\" font-family=\"Helvetica,sans-Serif\" font-size=\"14.00\">samples = 2944</text>\n<text text-anchor=\"middle\" x=\"1866.5\" y=\"-364.8\" font-family=\"Helvetica,sans-Serif\" font-size=\"14.00\">value = [1682, 1262]</text>\n<text text-anchor=\"middle\" x=\"1866.5\" y=\"-349.8\" font-family=\"Helvetica,sans-Serif\" font-size=\"14.00\">class = no</text>\n</g>\n<!-- 29&#45;&gt;30 -->\n<g id=\"edge30\" class=\"edge\">\n<title>29&#45;&gt;30</title>\n<path fill=\"none\" stroke=\"black\" d=\"M1967.07,-460.91C1954.41,-451.29 1940.81,-440.95 1927.82,-431.09\"/>\n<polygon fill=\"black\" stroke=\"black\" points=\"1929.92,-428.28 1919.84,-425.02 1925.68,-433.86 1929.92,-428.28\"/>\n</g>\n<!-- 39 -->\n<g id=\"node40\" class=\"node\">\n<title>39</title>\n<path fill=\"#a2d1f3\" stroke=\"black\" d=\"M2180,-425C2180,-425 2055,-425 2055,-425 2049,-425 2043,-419 2043,-413 2043,-413 2043,-354 2043,-354 2043,-348 2049,-342 2055,-342 2055,-342 2180,-342 2180,-342 2186,-342 2192,-348 2192,-354 2192,-354 2192,-413 2192,-413 2192,-419 2186,-425 2180,-425\"/>\n<text text-anchor=\"middle\" x=\"2117.5\" y=\"-409.8\" font-family=\"Helvetica,sans-Serif\" font-size=\"14.00\">precio &lt;= 100371.855</text>\n<text text-anchor=\"middle\" x=\"2117.5\" y=\"-394.8\" font-family=\"Helvetica,sans-Serif\" font-size=\"14.00\">gini = 0.453</text>\n<text text-anchor=\"middle\" x=\"2117.5\" y=\"-379.8\" font-family=\"Helvetica,sans-Serif\" font-size=\"14.00\">samples = 569</text>\n<text text-anchor=\"middle\" x=\"2117.5\" y=\"-364.8\" font-family=\"Helvetica,sans-Serif\" font-size=\"14.00\">value = [197, 372]</text>\n<text text-anchor=\"middle\" x=\"2117.5\" y=\"-349.8\" font-family=\"Helvetica,sans-Serif\" font-size=\"14.00\">class = si</text>\n</g>\n<!-- 29&#45;&gt;39 -->\n<g id=\"edge39\" class=\"edge\">\n<title>29&#45;&gt;39</title>\n<path fill=\"none\" stroke=\"black\" d=\"M2054.15,-460.91C2061.68,-451.83 2069.73,-442.12 2077.48,-432.77\"/>\n<polygon fill=\"black\" stroke=\"black\" points=\"2080.22,-434.95 2083.91,-425.02 2074.83,-430.49 2080.22,-434.95\"/>\n</g>\n<!-- 31 -->\n<g id=\"node32\" class=\"node\">\n<title>31</title>\n<path fill=\"#e58139\" stroke=\"black\" d=\"M1751,-298.5C1751,-298.5 1680,-298.5 1680,-298.5 1674,-298.5 1668,-292.5 1668,-286.5 1668,-286.5 1668,-242.5 1668,-242.5 1668,-236.5 1674,-230.5 1680,-230.5 1680,-230.5 1751,-230.5 1751,-230.5 1757,-230.5 1763,-236.5 1763,-242.5 1763,-242.5 1763,-286.5 1763,-286.5 1763,-292.5 1757,-298.5 1751,-298.5\"/>\n<text text-anchor=\"middle\" x=\"1715.5\" y=\"-283.3\" font-family=\"Helvetica,sans-Serif\" font-size=\"14.00\">gini = 0.0</text>\n<text text-anchor=\"middle\" x=\"1715.5\" y=\"-268.3\" font-family=\"Helvetica,sans-Serif\" font-size=\"14.00\">samples = 9</text>\n<text text-anchor=\"middle\" x=\"1715.5\" y=\"-253.3\" font-family=\"Helvetica,sans-Serif\" font-size=\"14.00\">value = [9, 0]</text>\n<text text-anchor=\"middle\" x=\"1715.5\" y=\"-238.3\" font-family=\"Helvetica,sans-Serif\" font-size=\"14.00\">class = no</text>\n</g>\n<!-- 30&#45;&gt;31 -->\n<g id=\"edge31\" class=\"edge\">\n<title>30&#45;&gt;31</title>\n<path fill=\"none\" stroke=\"black\" d=\"M1814.11,-341.91C1798.73,-329.99 1781.93,-316.98 1766.63,-305.12\"/>\n<polygon fill=\"black\" stroke=\"black\" points=\"1768.35,-302.03 1758.31,-298.67 1764.07,-307.56 1768.35,-302.03\"/>\n</g>\n<!-- 32 -->\n<g id=\"node33\" class=\"node\">\n<title>32</title>\n<path fill=\"#f9e0ce\" stroke=\"black\" d=\"M1940,-306C1940,-306 1793,-306 1793,-306 1787,-306 1781,-300 1781,-294 1781,-294 1781,-235 1781,-235 1781,-229 1787,-223 1793,-223 1793,-223 1940,-223 1940,-223 1946,-223 1952,-229 1952,-235 1952,-235 1952,-294 1952,-294 1952,-300 1946,-306 1940,-306\"/>\n<text text-anchor=\"middle\" x=\"1866.5\" y=\"-290.8\" font-family=\"Helvetica,sans-Serif\" font-size=\"14.00\">km_by_year &lt;= 9223.932</text>\n<text text-anchor=\"middle\" x=\"1866.5\" y=\"-275.8\" font-family=\"Helvetica,sans-Serif\" font-size=\"14.00\">gini = 0.49</text>\n<text text-anchor=\"middle\" x=\"1866.5\" y=\"-260.8\" font-family=\"Helvetica,sans-Serif\" font-size=\"14.00\">samples = 2935</text>\n<text text-anchor=\"middle\" x=\"1866.5\" y=\"-245.8\" font-family=\"Helvetica,sans-Serif\" font-size=\"14.00\">value = [1673, 1262]</text>\n<text text-anchor=\"middle\" x=\"1866.5\" y=\"-230.8\" font-family=\"Helvetica,sans-Serif\" font-size=\"14.00\">class = no</text>\n</g>\n<!-- 30&#45;&gt;32 -->\n<g id=\"edge32\" class=\"edge\">\n<title>30&#45;&gt;32</title>\n<path fill=\"none\" stroke=\"black\" d=\"M1866.5,-341.91C1866.5,-333.65 1866.5,-324.86 1866.5,-316.3\"/>\n<polygon fill=\"black\" stroke=\"black\" points=\"1870,-316.02 1866.5,-306.02 1863,-316.02 1870,-316.02\"/>\n</g>\n<!-- 33 -->\n<g id=\"node34\" class=\"node\">\n<title>33</title>\n<path fill=\"#9fd0f2\" stroke=\"black\" d=\"M1712,-187C1712,-187 1595,-187 1595,-187 1589,-187 1583,-181 1583,-175 1583,-175 1583,-116 1583,-116 1583,-110 1589,-104 1595,-104 1595,-104 1712,-104 1712,-104 1718,-104 1724,-110 1724,-116 1724,-116 1724,-175 1724,-175 1724,-181 1718,-187 1712,-187\"/>\n<text text-anchor=\"middle\" x=\"1653.5\" y=\"-171.8\" font-family=\"Helvetica,sans-Serif\" font-size=\"14.00\">precio &lt;= 87208.336</text>\n<text text-anchor=\"middle\" x=\"1653.5\" y=\"-156.8\" font-family=\"Helvetica,sans-Serif\" font-size=\"14.00\">gini = 0.449</text>\n<text text-anchor=\"middle\" x=\"1653.5\" y=\"-141.8\" font-family=\"Helvetica,sans-Serif\" font-size=\"14.00\">samples = 47</text>\n<text text-anchor=\"middle\" x=\"1653.5\" y=\"-126.8\" font-family=\"Helvetica,sans-Serif\" font-size=\"14.00\">value = [16, 31]</text>\n<text text-anchor=\"middle\" x=\"1653.5\" y=\"-111.8\" font-family=\"Helvetica,sans-Serif\" font-size=\"14.00\">class = si</text>\n</g>\n<!-- 32&#45;&gt;33 -->\n<g id=\"edge33\" class=\"edge\">\n<title>32&#45;&gt;33</title>\n<path fill=\"none\" stroke=\"black\" d=\"M1792.6,-222.91C1773.32,-212.32 1752.47,-200.86 1732.92,-190.13\"/>\n<polygon fill=\"black\" stroke=\"black\" points=\"1734.49,-186.99 1724.04,-185.25 1731.12,-193.13 1734.49,-186.99\"/>\n</g>\n<!-- 36 -->\n<g id=\"node37\" class=\"node\">\n<title>36</title>\n<path fill=\"#f8dfcc\" stroke=\"black\" d=\"M1940,-187C1940,-187 1793,-187 1793,-187 1787,-187 1781,-181 1781,-175 1781,-175 1781,-116 1781,-116 1781,-110 1787,-104 1793,-104 1793,-104 1940,-104 1940,-104 1946,-104 1952,-110 1952,-116 1952,-116 1952,-175 1952,-175 1952,-181 1946,-187 1940,-187\"/>\n<text text-anchor=\"middle\" x=\"1866.5\" y=\"-171.8\" font-family=\"Helvetica,sans-Serif\" font-size=\"14.00\">km_by_year &lt;= 9304.399</text>\n<text text-anchor=\"middle\" x=\"1866.5\" y=\"-156.8\" font-family=\"Helvetica,sans-Serif\" font-size=\"14.00\">gini = 0.489</text>\n<text text-anchor=\"middle\" x=\"1866.5\" y=\"-141.8\" font-family=\"Helvetica,sans-Serif\" font-size=\"14.00\">samples = 2888</text>\n<text text-anchor=\"middle\" x=\"1866.5\" y=\"-126.8\" font-family=\"Helvetica,sans-Serif\" font-size=\"14.00\">value = [1657, 1231]</text>\n<text text-anchor=\"middle\" x=\"1866.5\" y=\"-111.8\" font-family=\"Helvetica,sans-Serif\" font-size=\"14.00\">class = no</text>\n</g>\n<!-- 32&#45;&gt;36 -->\n<g id=\"edge36\" class=\"edge\">\n<title>32&#45;&gt;36</title>\n<path fill=\"none\" stroke=\"black\" d=\"M1866.5,-222.91C1866.5,-214.65 1866.5,-205.86 1866.5,-197.3\"/>\n<polygon fill=\"black\" stroke=\"black\" points=\"1870,-197.02 1866.5,-187.02 1863,-197.02 1870,-197.02\"/>\n</g>\n<!-- 34 -->\n<g id=\"node35\" class=\"node\">\n<title>34</title>\n<path fill=\"#82c1ef\" stroke=\"black\" d=\"M1574.5,-68C1574.5,-68 1488.5,-68 1488.5,-68 1482.5,-68 1476.5,-62 1476.5,-56 1476.5,-56 1476.5,-12 1476.5,-12 1476.5,-6 1482.5,0 1488.5,0 1488.5,0 1574.5,0 1574.5,0 1580.5,0 1586.5,-6 1586.5,-12 1586.5,-12 1586.5,-56 1586.5,-56 1586.5,-62 1580.5,-68 1574.5,-68\"/>\n<text text-anchor=\"middle\" x=\"1531.5\" y=\"-52.8\" font-family=\"Helvetica,sans-Serif\" font-size=\"14.00\">gini = 0.394</text>\n<text text-anchor=\"middle\" x=\"1531.5\" y=\"-37.8\" font-family=\"Helvetica,sans-Serif\" font-size=\"14.00\">samples = 37</text>\n<text text-anchor=\"middle\" x=\"1531.5\" y=\"-22.8\" font-family=\"Helvetica,sans-Serif\" font-size=\"14.00\">value = [10, 27]</text>\n<text text-anchor=\"middle\" x=\"1531.5\" y=\"-7.8\" font-family=\"Helvetica,sans-Serif\" font-size=\"14.00\">class = si</text>\n</g>\n<!-- 33&#45;&gt;34 -->\n<g id=\"edge34\" class=\"edge\">\n<title>33&#45;&gt;34</title>\n<path fill=\"none\" stroke=\"black\" d=\"M1608.07,-103.73C1597.6,-94.33 1586.48,-84.35 1576.05,-74.99\"/>\n<polygon fill=\"black\" stroke=\"black\" points=\"1578.38,-72.37 1568.6,-68.3 1573.71,-77.58 1578.38,-72.37\"/>\n</g>\n<!-- 35 -->\n<g id=\"node36\" class=\"node\">\n<title>35</title>\n<path fill=\"#f6d5bd\" stroke=\"black\" d=\"M1690.5,-68C1690.5,-68 1616.5,-68 1616.5,-68 1610.5,-68 1604.5,-62 1604.5,-56 1604.5,-56 1604.5,-12 1604.5,-12 1604.5,-6 1610.5,0 1616.5,0 1616.5,0 1690.5,0 1690.5,0 1696.5,0 1702.5,-6 1702.5,-12 1702.5,-12 1702.5,-56 1702.5,-56 1702.5,-62 1696.5,-68 1690.5,-68\"/>\n<text text-anchor=\"middle\" x=\"1653.5\" y=\"-52.8\" font-family=\"Helvetica,sans-Serif\" font-size=\"14.00\">gini = 0.48</text>\n<text text-anchor=\"middle\" x=\"1653.5\" y=\"-37.8\" font-family=\"Helvetica,sans-Serif\" font-size=\"14.00\">samples = 10</text>\n<text text-anchor=\"middle\" x=\"1653.5\" y=\"-22.8\" font-family=\"Helvetica,sans-Serif\" font-size=\"14.00\">value = [6, 4]</text>\n<text text-anchor=\"middle\" x=\"1653.5\" y=\"-7.8\" font-family=\"Helvetica,sans-Serif\" font-size=\"14.00\">class = no</text>\n</g>\n<!-- 33&#45;&gt;35 -->\n<g id=\"edge35\" class=\"edge\">\n<title>33&#45;&gt;35</title>\n<path fill=\"none\" stroke=\"black\" d=\"M1653.5,-103.73C1653.5,-95.52 1653.5,-86.86 1653.5,-78.56\"/>\n<polygon fill=\"black\" stroke=\"black\" points=\"1657,-78.3 1653.5,-68.3 1650,-78.3 1657,-78.3\"/>\n</g>\n<!-- 37 -->\n<g id=\"node38\" class=\"node\">\n<title>37</title>\n<path fill=\"#e58139\" stroke=\"black\" d=\"M1804,-68C1804,-68 1733,-68 1733,-68 1727,-68 1721,-62 1721,-56 1721,-56 1721,-12 1721,-12 1721,-6 1727,0 1733,0 1733,0 1804,0 1804,0 1810,0 1816,-6 1816,-12 1816,-12 1816,-56 1816,-56 1816,-62 1810,-68 1804,-68\"/>\n<text text-anchor=\"middle\" x=\"1768.5\" y=\"-52.8\" font-family=\"Helvetica,sans-Serif\" font-size=\"14.00\">gini = 0.0</text>\n<text text-anchor=\"middle\" x=\"1768.5\" y=\"-37.8\" font-family=\"Helvetica,sans-Serif\" font-size=\"14.00\">samples = 8</text>\n<text text-anchor=\"middle\" x=\"1768.5\" y=\"-22.8\" font-family=\"Helvetica,sans-Serif\" font-size=\"14.00\">value = [8, 0]</text>\n<text text-anchor=\"middle\" x=\"1768.5\" y=\"-7.8\" font-family=\"Helvetica,sans-Serif\" font-size=\"14.00\">class = no</text>\n</g>\n<!-- 36&#45;&gt;37 -->\n<g id=\"edge37\" class=\"edge\">\n<title>36&#45;&gt;37</title>\n<path fill=\"none\" stroke=\"black\" d=\"M1830.01,-103.73C1821.85,-94.61 1813.19,-84.93 1805.02,-75.81\"/>\n<polygon fill=\"black\" stroke=\"black\" points=\"1807.58,-73.42 1798.3,-68.3 1802.36,-78.09 1807.58,-73.42\"/>\n</g>\n<!-- 38 -->\n<g id=\"node39\" class=\"node\">\n<title>38</title>\n<path fill=\"#f8dfcd\" stroke=\"black\" d=\"M1962.5,-68C1962.5,-68 1846.5,-68 1846.5,-68 1840.5,-68 1834.5,-62 1834.5,-56 1834.5,-56 1834.5,-12 1834.5,-12 1834.5,-6 1840.5,0 1846.5,0 1846.5,0 1962.5,0 1962.5,0 1968.5,0 1974.5,-6 1974.5,-12 1974.5,-12 1974.5,-56 1974.5,-56 1974.5,-62 1968.5,-68 1962.5,-68\"/>\n<text text-anchor=\"middle\" x=\"1904.5\" y=\"-52.8\" font-family=\"Helvetica,sans-Serif\" font-size=\"14.00\">gini = 0.489</text>\n<text text-anchor=\"middle\" x=\"1904.5\" y=\"-37.8\" font-family=\"Helvetica,sans-Serif\" font-size=\"14.00\">samples = 2880</text>\n<text text-anchor=\"middle\" x=\"1904.5\" y=\"-22.8\" font-family=\"Helvetica,sans-Serif\" font-size=\"14.00\">value = [1649, 1231]</text>\n<text text-anchor=\"middle\" x=\"1904.5\" y=\"-7.8\" font-family=\"Helvetica,sans-Serif\" font-size=\"14.00\">class = no</text>\n</g>\n<!-- 36&#45;&gt;38 -->\n<g id=\"edge38\" class=\"edge\">\n<title>36&#45;&gt;38</title>\n<path fill=\"none\" stroke=\"black\" d=\"M1880.65,-103.73C1883.56,-95.34 1886.64,-86.47 1889.58,-78.01\"/>\n<polygon fill=\"black\" stroke=\"black\" points=\"1892.97,-78.89 1892.94,-68.3 1886.36,-76.6 1892.97,-78.89\"/>\n</g>\n<!-- 40 -->\n<g id=\"node41\" class=\"node\">\n<title>40</title>\n<path fill=\"#50a9e8\" stroke=\"black\" d=\"M2195,-306C2195,-306 2040,-306 2040,-306 2034,-306 2028,-300 2028,-294 2028,-294 2028,-235 2028,-235 2028,-229 2034,-223 2040,-223 2040,-223 2195,-223 2195,-223 2201,-223 2207,-229 2207,-235 2207,-235 2207,-294 2207,-294 2207,-300 2201,-306 2195,-306\"/>\n<text text-anchor=\"middle\" x=\"2117.5\" y=\"-290.8\" font-family=\"Helvetica,sans-Serif\" font-size=\"14.00\">km_by_year &lt;= 22918.611</text>\n<text text-anchor=\"middle\" x=\"2117.5\" y=\"-275.8\" font-family=\"Helvetica,sans-Serif\" font-size=\"14.00\">gini = 0.188</text>\n<text text-anchor=\"middle\" x=\"2117.5\" y=\"-260.8\" font-family=\"Helvetica,sans-Serif\" font-size=\"14.00\">samples = 19</text>\n<text text-anchor=\"middle\" x=\"2117.5\" y=\"-245.8\" font-family=\"Helvetica,sans-Serif\" font-size=\"14.00\">value = [2, 17]</text>\n<text text-anchor=\"middle\" x=\"2117.5\" y=\"-230.8\" font-family=\"Helvetica,sans-Serif\" font-size=\"14.00\">class = si</text>\n</g>\n<!-- 39&#45;&gt;40 -->\n<g id=\"edge40\" class=\"edge\">\n<title>39&#45;&gt;40</title>\n<path fill=\"none\" stroke=\"black\" d=\"M2117.5,-341.91C2117.5,-333.65 2117.5,-324.86 2117.5,-316.3\"/>\n<polygon fill=\"black\" stroke=\"black\" points=\"2121,-316.02 2117.5,-306.02 2114,-316.02 2121,-316.02\"/>\n</g>\n<!-- 45 -->\n<g id=\"node46\" class=\"node\">\n<title>45</title>\n<path fill=\"#a6d3f3\" stroke=\"black\" d=\"M2419,-306C2419,-306 2294,-306 2294,-306 2288,-306 2282,-300 2282,-294 2282,-294 2282,-235 2282,-235 2282,-229 2288,-223 2294,-223 2294,-223 2419,-223 2419,-223 2425,-223 2431,-229 2431,-235 2431,-235 2431,-294 2431,-294 2431,-300 2425,-306 2419,-306\"/>\n<text text-anchor=\"middle\" x=\"2356.5\" y=\"-290.8\" font-family=\"Helvetica,sans-Serif\" font-size=\"14.00\">precio &lt;= 113349.773</text>\n<text text-anchor=\"middle\" x=\"2356.5\" y=\"-275.8\" font-family=\"Helvetica,sans-Serif\" font-size=\"14.00\">gini = 0.458</text>\n<text text-anchor=\"middle\" x=\"2356.5\" y=\"-260.8\" font-family=\"Helvetica,sans-Serif\" font-size=\"14.00\">samples = 550</text>\n<text text-anchor=\"middle\" x=\"2356.5\" y=\"-245.8\" font-family=\"Helvetica,sans-Serif\" font-size=\"14.00\">value = [195, 355]</text>\n<text text-anchor=\"middle\" x=\"2356.5\" y=\"-230.8\" font-family=\"Helvetica,sans-Serif\" font-size=\"14.00\">class = si</text>\n</g>\n<!-- 39&#45;&gt;45 -->\n<g id=\"edge45\" class=\"edge\">\n<title>39&#45;&gt;45</title>\n<path fill=\"none\" stroke=\"black\" d=\"M2192.14,-345.96C2217.62,-333.49 2246.29,-319.45 2272.46,-306.64\"/>\n<polygon fill=\"black\" stroke=\"black\" points=\"2274.16,-309.7 2281.61,-302.16 2271.09,-303.42 2274.16,-309.7\"/>\n</g>\n<!-- 41 -->\n<g id=\"node42\" class=\"node\">\n<title>41</title>\n<path fill=\"#45a3e7\" stroke=\"black\" d=\"M2118,-187C2118,-187 1993,-187 1993,-187 1987,-187 1981,-181 1981,-175 1981,-175 1981,-116 1981,-116 1981,-110 1987,-104 1993,-104 1993,-104 2118,-104 2118,-104 2124,-104 2130,-110 2130,-116 2130,-116 2130,-175 2130,-175 2130,-181 2124,-187 2118,-187\"/>\n<text text-anchor=\"middle\" x=\"2055.5\" y=\"-171.8\" font-family=\"Helvetica,sans-Serif\" font-size=\"14.00\">precio &lt;= 100024.715</text>\n<text text-anchor=\"middle\" x=\"2055.5\" y=\"-156.8\" font-family=\"Helvetica,sans-Serif\" font-size=\"14.00\">gini = 0.105</text>\n<text text-anchor=\"middle\" x=\"2055.5\" y=\"-141.8\" font-family=\"Helvetica,sans-Serif\" font-size=\"14.00\">samples = 18</text>\n<text text-anchor=\"middle\" x=\"2055.5\" y=\"-126.8\" font-family=\"Helvetica,sans-Serif\" font-size=\"14.00\">value = [1, 17]</text>\n<text text-anchor=\"middle\" x=\"2055.5\" y=\"-111.8\" font-family=\"Helvetica,sans-Serif\" font-size=\"14.00\">class = si</text>\n</g>\n<!-- 40&#45;&gt;41 -->\n<g id=\"edge41\" class=\"edge\">\n<title>40&#45;&gt;41</title>\n<path fill=\"none\" stroke=\"black\" d=\"M2095.99,-222.91C2091.37,-214.2 2086.45,-204.9 2081.67,-195.89\"/>\n<polygon fill=\"black\" stroke=\"black\" points=\"2084.75,-194.22 2076.97,-187.02 2078.56,-197.5 2084.75,-194.22\"/>\n</g>\n<!-- 44 -->\n<g id=\"node45\" class=\"node\">\n<title>44</title>\n<path fill=\"#e58139\" stroke=\"black\" d=\"M2231,-179.5C2231,-179.5 2160,-179.5 2160,-179.5 2154,-179.5 2148,-173.5 2148,-167.5 2148,-167.5 2148,-123.5 2148,-123.5 2148,-117.5 2154,-111.5 2160,-111.5 2160,-111.5 2231,-111.5 2231,-111.5 2237,-111.5 2243,-117.5 2243,-123.5 2243,-123.5 2243,-167.5 2243,-167.5 2243,-173.5 2237,-179.5 2231,-179.5\"/>\n<text text-anchor=\"middle\" x=\"2195.5\" y=\"-164.3\" font-family=\"Helvetica,sans-Serif\" font-size=\"14.00\">gini = 0.0</text>\n<text text-anchor=\"middle\" x=\"2195.5\" y=\"-149.3\" font-family=\"Helvetica,sans-Serif\" font-size=\"14.00\">samples = 1</text>\n<text text-anchor=\"middle\" x=\"2195.5\" y=\"-134.3\" font-family=\"Helvetica,sans-Serif\" font-size=\"14.00\">value = [1, 0]</text>\n<text text-anchor=\"middle\" x=\"2195.5\" y=\"-119.3\" font-family=\"Helvetica,sans-Serif\" font-size=\"14.00\">class = no</text>\n</g>\n<!-- 40&#45;&gt;44 -->\n<g id=\"edge44\" class=\"edge\">\n<title>40&#45;&gt;44</title>\n<path fill=\"none\" stroke=\"black\" d=\"M2144.56,-222.91C2152.07,-211.65 2160.22,-199.42 2167.76,-188.11\"/>\n<polygon fill=\"black\" stroke=\"black\" points=\"2170.75,-189.93 2173.39,-179.67 2164.93,-186.05 2170.75,-189.93\"/>\n</g>\n<!-- 42 -->\n<g id=\"node43\" class=\"node\">\n<title>42</title>\n<path fill=\"#9ccef2\" stroke=\"black\" d=\"M2076,-68C2076,-68 2005,-68 2005,-68 1999,-68 1993,-62 1993,-56 1993,-56 1993,-12 1993,-12 1993,-6 1999,0 2005,0 2005,0 2076,0 2076,0 2082,0 2088,-6 2088,-12 2088,-12 2088,-56 2088,-56 2088,-62 2082,-68 2076,-68\"/>\n<text text-anchor=\"middle\" x=\"2040.5\" y=\"-52.8\" font-family=\"Helvetica,sans-Serif\" font-size=\"14.00\">gini = 0.444</text>\n<text text-anchor=\"middle\" x=\"2040.5\" y=\"-37.8\" font-family=\"Helvetica,sans-Serif\" font-size=\"14.00\">samples = 3</text>\n<text text-anchor=\"middle\" x=\"2040.5\" y=\"-22.8\" font-family=\"Helvetica,sans-Serif\" font-size=\"14.00\">value = [1, 2]</text>\n<text text-anchor=\"middle\" x=\"2040.5\" y=\"-7.8\" font-family=\"Helvetica,sans-Serif\" font-size=\"14.00\">class = si</text>\n</g>\n<!-- 41&#45;&gt;42 -->\n<g id=\"edge42\" class=\"edge\">\n<title>41&#45;&gt;42</title>\n<path fill=\"none\" stroke=\"black\" d=\"M2049.91,-103.73C2048.78,-95.43 2047.58,-86.67 2046.43,-78.28\"/>\n<polygon fill=\"black\" stroke=\"black\" points=\"2049.89,-77.73 2045.06,-68.3 2042.95,-78.68 2049.89,-77.73\"/>\n</g>\n<!-- 43 -->\n<g id=\"node44\" class=\"node\">\n<title>43</title>\n<path fill=\"#399de5\" stroke=\"black\" d=\"M2196.5,-68C2196.5,-68 2118.5,-68 2118.5,-68 2112.5,-68 2106.5,-62 2106.5,-56 2106.5,-56 2106.5,-12 2106.5,-12 2106.5,-6 2112.5,0 2118.5,0 2118.5,0 2196.5,0 2196.5,0 2202.5,0 2208.5,-6 2208.5,-12 2208.5,-12 2208.5,-56 2208.5,-56 2208.5,-62 2202.5,-68 2196.5,-68\"/>\n<text text-anchor=\"middle\" x=\"2157.5\" y=\"-52.8\" font-family=\"Helvetica,sans-Serif\" font-size=\"14.00\">gini = 0.0</text>\n<text text-anchor=\"middle\" x=\"2157.5\" y=\"-37.8\" font-family=\"Helvetica,sans-Serif\" font-size=\"14.00\">samples = 15</text>\n<text text-anchor=\"middle\" x=\"2157.5\" y=\"-22.8\" font-family=\"Helvetica,sans-Serif\" font-size=\"14.00\">value = [0, 15]</text>\n<text text-anchor=\"middle\" x=\"2157.5\" y=\"-7.8\" font-family=\"Helvetica,sans-Serif\" font-size=\"14.00\">class = si</text>\n</g>\n<!-- 41&#45;&gt;43 -->\n<g id=\"edge43\" class=\"edge\">\n<title>41&#45;&gt;43</title>\n<path fill=\"none\" stroke=\"black\" d=\"M2093.48,-103.73C2101.98,-94.61 2110.99,-84.93 2119.49,-75.81\"/>\n<polygon fill=\"black\" stroke=\"black\" points=\"2122.23,-78 2126.48,-68.3 2117.1,-73.23 2122.23,-78\"/>\n</g>\n<!-- 46 -->\n<g id=\"node47\" class=\"node\">\n<title>46</title>\n<path fill=\"#add6f4\" stroke=\"black\" d=\"M2419,-187C2419,-187 2294,-187 2294,-187 2288,-187 2282,-181 2282,-175 2282,-175 2282,-116 2282,-116 2282,-110 2288,-104 2294,-104 2294,-104 2419,-104 2419,-104 2425,-104 2431,-110 2431,-116 2431,-116 2431,-175 2431,-175 2431,-181 2425,-187 2419,-187\"/>\n<text text-anchor=\"middle\" x=\"2356.5\" y=\"-171.8\" font-family=\"Helvetica,sans-Serif\" font-size=\"14.00\">precio &lt;= 113081.289</text>\n<text text-anchor=\"middle\" x=\"2356.5\" y=\"-156.8\" font-family=\"Helvetica,sans-Serif\" font-size=\"14.00\">gini = 0.465</text>\n<text text-anchor=\"middle\" x=\"2356.5\" y=\"-141.8\" font-family=\"Helvetica,sans-Serif\" font-size=\"14.00\">samples = 502</text>\n<text text-anchor=\"middle\" x=\"2356.5\" y=\"-126.8\" font-family=\"Helvetica,sans-Serif\" font-size=\"14.00\">value = [185, 317]</text>\n<text text-anchor=\"middle\" x=\"2356.5\" y=\"-111.8\" font-family=\"Helvetica,sans-Serif\" font-size=\"14.00\">class = si</text>\n</g>\n<!-- 45&#45;&gt;46 -->\n<g id=\"edge46\" class=\"edge\">\n<title>45&#45;&gt;46</title>\n<path fill=\"none\" stroke=\"black\" d=\"M2356.5,-222.91C2356.5,-214.65 2356.5,-205.86 2356.5,-197.3\"/>\n<polygon fill=\"black\" stroke=\"black\" points=\"2360,-197.02 2356.5,-187.02 2353,-197.02 2360,-197.02\"/>\n</g>\n<!-- 49 -->\n<g id=\"node50\" class=\"node\">\n<title>49</title>\n<path fill=\"#6db7ec\" stroke=\"black\" d=\"M2597,-187C2597,-187 2472,-187 2472,-187 2466,-187 2460,-181 2460,-175 2460,-175 2460,-116 2460,-116 2460,-110 2466,-104 2472,-104 2472,-104 2597,-104 2597,-104 2603,-104 2609,-110 2609,-116 2609,-116 2609,-175 2609,-175 2609,-181 2603,-187 2597,-187\"/>\n<text text-anchor=\"middle\" x=\"2534.5\" y=\"-171.8\" font-family=\"Helvetica,sans-Serif\" font-size=\"14.00\">precio &lt;= 118454.723</text>\n<text text-anchor=\"middle\" x=\"2534.5\" y=\"-156.8\" font-family=\"Helvetica,sans-Serif\" font-size=\"14.00\">gini = 0.33</text>\n<text text-anchor=\"middle\" x=\"2534.5\" y=\"-141.8\" font-family=\"Helvetica,sans-Serif\" font-size=\"14.00\">samples = 48</text>\n<text text-anchor=\"middle\" x=\"2534.5\" y=\"-126.8\" font-family=\"Helvetica,sans-Serif\" font-size=\"14.00\">value = [10, 38]</text>\n<text text-anchor=\"middle\" x=\"2534.5\" y=\"-111.8\" font-family=\"Helvetica,sans-Serif\" font-size=\"14.00\">class = si</text>\n</g>\n<!-- 45&#45;&gt;49 -->\n<g id=\"edge49\" class=\"edge\">\n<title>45&#45;&gt;49</title>\n<path fill=\"none\" stroke=\"black\" d=\"M2418.26,-222.91C2433.17,-213.11 2449.21,-202.56 2464.47,-192.53\"/>\n<polygon fill=\"black\" stroke=\"black\" points=\"2466.42,-195.44 2472.85,-187.02 2462.57,-189.59 2466.42,-195.44\"/>\n</g>\n<!-- 47 -->\n<g id=\"node48\" class=\"node\">\n<title>47</title>\n<path fill=\"#abd5f4\" stroke=\"black\" d=\"M2340,-68C2340,-68 2239,-68 2239,-68 2233,-68 2227,-62 2227,-56 2227,-56 2227,-12 2227,-12 2227,-6 2233,0 2239,0 2239,0 2340,0 2340,0 2346,0 2352,-6 2352,-12 2352,-12 2352,-56 2352,-56 2352,-62 2346,-68 2340,-68\"/>\n<text text-anchor=\"middle\" x=\"2289.5\" y=\"-52.8\" font-family=\"Helvetica,sans-Serif\" font-size=\"14.00\">gini = 0.463</text>\n<text text-anchor=\"middle\" x=\"2289.5\" y=\"-37.8\" font-family=\"Helvetica,sans-Serif\" font-size=\"14.00\">samples = 499</text>\n<text text-anchor=\"middle\" x=\"2289.5\" y=\"-22.8\" font-family=\"Helvetica,sans-Serif\" font-size=\"14.00\">value = [182, 317]</text>\n<text text-anchor=\"middle\" x=\"2289.5\" y=\"-7.8\" font-family=\"Helvetica,sans-Serif\" font-size=\"14.00\">class = si</text>\n</g>\n<!-- 46&#45;&gt;47 -->\n<g id=\"edge47\" class=\"edge\">\n<title>46&#45;&gt;47</title>\n<path fill=\"none\" stroke=\"black\" d=\"M2331.55,-103.73C2326.19,-94.97 2320.52,-85.7 2315.14,-76.91\"/>\n<polygon fill=\"black\" stroke=\"black\" points=\"2318.08,-75 2309.88,-68.3 2312.11,-78.66 2318.08,-75\"/>\n</g>\n<!-- 48 -->\n<g id=\"node49\" class=\"node\">\n<title>48</title>\n<path fill=\"#e58139\" stroke=\"black\" d=\"M2453,-68C2453,-68 2382,-68 2382,-68 2376,-68 2370,-62 2370,-56 2370,-56 2370,-12 2370,-12 2370,-6 2376,0 2382,0 2382,0 2453,0 2453,0 2459,0 2465,-6 2465,-12 2465,-12 2465,-56 2465,-56 2465,-62 2459,-68 2453,-68\"/>\n<text text-anchor=\"middle\" x=\"2417.5\" y=\"-52.8\" font-family=\"Helvetica,sans-Serif\" font-size=\"14.00\">gini = 0.0</text>\n<text text-anchor=\"middle\" x=\"2417.5\" y=\"-37.8\" font-family=\"Helvetica,sans-Serif\" font-size=\"14.00\">samples = 3</text>\n<text text-anchor=\"middle\" x=\"2417.5\" y=\"-22.8\" font-family=\"Helvetica,sans-Serif\" font-size=\"14.00\">value = [3, 0]</text>\n<text text-anchor=\"middle\" x=\"2417.5\" y=\"-7.8\" font-family=\"Helvetica,sans-Serif\" font-size=\"14.00\">class = no</text>\n</g>\n<!-- 46&#45;&gt;48 -->\n<g id=\"edge48\" class=\"edge\">\n<title>46&#45;&gt;48</title>\n<path fill=\"none\" stroke=\"black\" d=\"M2379.21,-103.73C2384.04,-95.06 2389.15,-85.9 2394,-77.18\"/>\n<polygon fill=\"black\" stroke=\"black\" points=\"2397.14,-78.74 2398.95,-68.3 2391.03,-75.33 2397.14,-78.74\"/>\n</g>\n<!-- 50 -->\n<g id=\"node51\" class=\"node\">\n<title>50</title>\n<path fill=\"#63b2ea\" stroke=\"black\" d=\"M2573.5,-68C2573.5,-68 2495.5,-68 2495.5,-68 2489.5,-68 2483.5,-62 2483.5,-56 2483.5,-56 2483.5,-12 2483.5,-12 2483.5,-6 2489.5,0 2495.5,0 2495.5,0 2573.5,0 2573.5,0 2579.5,0 2585.5,-6 2585.5,-12 2585.5,-12 2585.5,-56 2585.5,-56 2585.5,-62 2579.5,-68 2573.5,-68\"/>\n<text text-anchor=\"middle\" x=\"2534.5\" y=\"-52.8\" font-family=\"Helvetica,sans-Serif\" font-size=\"14.00\">gini = 0.287</text>\n<text text-anchor=\"middle\" x=\"2534.5\" y=\"-37.8\" font-family=\"Helvetica,sans-Serif\" font-size=\"14.00\">samples = 46</text>\n<text text-anchor=\"middle\" x=\"2534.5\" y=\"-22.8\" font-family=\"Helvetica,sans-Serif\" font-size=\"14.00\">value = [8, 38]</text>\n<text text-anchor=\"middle\" x=\"2534.5\" y=\"-7.8\" font-family=\"Helvetica,sans-Serif\" font-size=\"14.00\">class = si</text>\n</g>\n<!-- 49&#45;&gt;50 -->\n<g id=\"edge50\" class=\"edge\">\n<title>49&#45;&gt;50</title>\n<path fill=\"none\" stroke=\"black\" d=\"M2534.5,-103.73C2534.5,-95.52 2534.5,-86.86 2534.5,-78.56\"/>\n<polygon fill=\"black\" stroke=\"black\" points=\"2538,-78.3 2534.5,-68.3 2531,-78.3 2538,-78.3\"/>\n</g>\n<!-- 51 -->\n<g id=\"node52\" class=\"node\">\n<title>51</title>\n<path fill=\"#e58139\" stroke=\"black\" d=\"M2687,-68C2687,-68 2616,-68 2616,-68 2610,-68 2604,-62 2604,-56 2604,-56 2604,-12 2604,-12 2604,-6 2610,0 2616,0 2616,0 2687,0 2687,0 2693,0 2699,-6 2699,-12 2699,-12 2699,-56 2699,-56 2699,-62 2693,-68 2687,-68\"/>\n<text text-anchor=\"middle\" x=\"2651.5\" y=\"-52.8\" font-family=\"Helvetica,sans-Serif\" font-size=\"14.00\">gini = 0.0</text>\n<text text-anchor=\"middle\" x=\"2651.5\" y=\"-37.8\" font-family=\"Helvetica,sans-Serif\" font-size=\"14.00\">samples = 2</text>\n<text text-anchor=\"middle\" x=\"2651.5\" y=\"-22.8\" font-family=\"Helvetica,sans-Serif\" font-size=\"14.00\">value = [2, 0]</text>\n<text text-anchor=\"middle\" x=\"2651.5\" y=\"-7.8\" font-family=\"Helvetica,sans-Serif\" font-size=\"14.00\">class = no</text>\n</g>\n<!-- 49&#45;&gt;51 -->\n<g id=\"edge51\" class=\"edge\">\n<title>49&#45;&gt;51</title>\n<path fill=\"none\" stroke=\"black\" d=\"M2578.07,-103.73C2588.01,-94.42 2598.56,-84.54 2608.48,-75.26\"/>\n<polygon fill=\"black\" stroke=\"black\" points=\"2611.01,-77.69 2615.92,-68.3 2606.23,-72.58 2611.01,-77.69\"/>\n</g>\n<!-- 53 -->\n<g id=\"node54\" class=\"node\">\n<title>53</title>\n<path fill=\"#e68742\" stroke=\"black\" d=\"M3036,-425C3036,-425 2919,-425 2919,-425 2913,-425 2907,-419 2907,-413 2907,-413 2907,-354 2907,-354 2907,-348 2913,-342 2919,-342 2919,-342 3036,-342 3036,-342 3042,-342 3048,-348 3048,-354 3048,-354 3048,-413 3048,-413 3048,-419 3042,-425 3036,-425\"/>\n<text text-anchor=\"middle\" x=\"2977.5\" y=\"-409.8\" font-family=\"Helvetica,sans-Serif\" font-size=\"14.00\">precio &lt;= 64403.439</text>\n<text text-anchor=\"middle\" x=\"2977.5\" y=\"-394.8\" font-family=\"Helvetica,sans-Serif\" font-size=\"14.00\">gini = 0.082</text>\n<text text-anchor=\"middle\" x=\"2977.5\" y=\"-379.8\" font-family=\"Helvetica,sans-Serif\" font-size=\"14.00\">samples = 1809</text>\n<text text-anchor=\"middle\" x=\"2977.5\" y=\"-364.8\" font-family=\"Helvetica,sans-Serif\" font-size=\"14.00\">value = [1732, 77]</text>\n<text text-anchor=\"middle\" x=\"2977.5\" y=\"-349.8\" font-family=\"Helvetica,sans-Serif\" font-size=\"14.00\">class = no</text>\n</g>\n<!-- 52&#45;&gt;53 -->\n<g id=\"edge53\" class=\"edge\">\n<title>52&#45;&gt;53</title>\n<path fill=\"none\" stroke=\"black\" d=\"M2977.5,-460.91C2977.5,-452.65 2977.5,-443.86 2977.5,-435.3\"/>\n<polygon fill=\"black\" stroke=\"black\" points=\"2981,-435.02 2977.5,-425.02 2974,-435.02 2981,-435.02\"/>\n</g>\n<!-- 64 -->\n<g id=\"node65\" class=\"node\">\n<title>64</title>\n<path fill=\"#95cbf1\" stroke=\"black\" d=\"M3429,-425C3429,-425 3274,-425 3274,-425 3268,-425 3262,-419 3262,-413 3262,-413 3262,-354 3262,-354 3262,-348 3268,-342 3274,-342 3274,-342 3429,-342 3429,-342 3435,-342 3441,-348 3441,-354 3441,-354 3441,-413 3441,-413 3441,-419 3435,-425 3429,-425\"/>\n<text text-anchor=\"middle\" x=\"3351.5\" y=\"-409.8\" font-family=\"Helvetica,sans-Serif\" font-size=\"14.00\">km_by_year &lt;= 49872.643</text>\n<text text-anchor=\"middle\" x=\"3351.5\" y=\"-394.8\" font-family=\"Helvetica,sans-Serif\" font-size=\"14.00\">gini = 0.433</text>\n<text text-anchor=\"middle\" x=\"3351.5\" y=\"-379.8\" font-family=\"Helvetica,sans-Serif\" font-size=\"14.00\">samples = 331</text>\n<text text-anchor=\"middle\" x=\"3351.5\" y=\"-364.8\" font-family=\"Helvetica,sans-Serif\" font-size=\"14.00\">value = [105, 226]</text>\n<text text-anchor=\"middle\" x=\"3351.5\" y=\"-349.8\" font-family=\"Helvetica,sans-Serif\" font-size=\"14.00\">class = si</text>\n</g>\n<!-- 52&#45;&gt;64 -->\n<g id=\"edge64\" class=\"edge\">\n<title>52&#45;&gt;64</title>\n<path fill=\"none\" stroke=\"black\" d=\"M3052.29,-478.1C3109.55,-460.19 3189.09,-435.31 3251.77,-415.7\"/>\n<polygon fill=\"black\" stroke=\"black\" points=\"3253.18,-418.93 3261.68,-412.6 3251.09,-412.24 3253.18,-418.93\"/>\n</g>\n<!-- 54 -->\n<g id=\"node55\" class=\"node\">\n<title>54</title>\n<path fill=\"#e5833d\" stroke=\"black\" d=\"M2958,-306C2958,-306 2841,-306 2841,-306 2835,-306 2829,-300 2829,-294 2829,-294 2829,-235 2829,-235 2829,-229 2835,-223 2841,-223 2841,-223 2958,-223 2958,-223 2964,-223 2970,-229 2970,-235 2970,-235 2970,-294 2970,-294 2970,-300 2964,-306 2958,-306\"/>\n<text text-anchor=\"middle\" x=\"2899.5\" y=\"-290.8\" font-family=\"Helvetica,sans-Serif\" font-size=\"14.00\">precio &lt;= 62212.656</text>\n<text text-anchor=\"middle\" x=\"2899.5\" y=\"-275.8\" font-family=\"Helvetica,sans-Serif\" font-size=\"14.00\">gini = 0.036</text>\n<text text-anchor=\"middle\" x=\"2899.5\" y=\"-260.8\" font-family=\"Helvetica,sans-Serif\" font-size=\"14.00\">samples = 221</text>\n<text text-anchor=\"middle\" x=\"2899.5\" y=\"-245.8\" font-family=\"Helvetica,sans-Serif\" font-size=\"14.00\">value = [217, 4]</text>\n<text text-anchor=\"middle\" x=\"2899.5\" y=\"-230.8\" font-family=\"Helvetica,sans-Serif\" font-size=\"14.00\">class = no</text>\n</g>\n<!-- 53&#45;&gt;54 -->\n<g id=\"edge54\" class=\"edge\">\n<title>53&#45;&gt;54</title>\n<path fill=\"none\" stroke=\"black\" d=\"M2950.44,-341.91C2944.57,-333.1 2938.3,-323.7 2932.24,-314.61\"/>\n<polygon fill=\"black\" stroke=\"black\" points=\"2934.97,-312.4 2926.51,-306.02 2929.15,-316.28 2934.97,-312.4\"/>\n</g>\n<!-- 59 -->\n<g id=\"node60\" class=\"node\">\n<title>59</title>\n<path fill=\"#e68743\" stroke=\"black\" d=\"M3110.5,-306C3110.5,-306 3000.5,-306 3000.5,-306 2994.5,-306 2988.5,-300 2988.5,-294 2988.5,-294 2988.5,-235 2988.5,-235 2988.5,-229 2994.5,-223 3000.5,-223 3000.5,-223 3110.5,-223 3110.5,-223 3116.5,-223 3122.5,-229 3122.5,-235 3122.5,-235 3122.5,-294 3122.5,-294 3122.5,-300 3116.5,-306 3110.5,-306\"/>\n<text text-anchor=\"middle\" x=\"3055.5\" y=\"-290.8\" font-family=\"Helvetica,sans-Serif\" font-size=\"14.00\">precio &lt;= 64460.48</text>\n<text text-anchor=\"middle\" x=\"3055.5\" y=\"-275.8\" font-family=\"Helvetica,sans-Serif\" font-size=\"14.00\">gini = 0.088</text>\n<text text-anchor=\"middle\" x=\"3055.5\" y=\"-260.8\" font-family=\"Helvetica,sans-Serif\" font-size=\"14.00\">samples = 1588</text>\n<text text-anchor=\"middle\" x=\"3055.5\" y=\"-245.8\" font-family=\"Helvetica,sans-Serif\" font-size=\"14.00\">value = [1515, 73]</text>\n<text text-anchor=\"middle\" x=\"3055.5\" y=\"-230.8\" font-family=\"Helvetica,sans-Serif\" font-size=\"14.00\">class = no</text>\n</g>\n<!-- 53&#45;&gt;59 -->\n<g id=\"edge59\" class=\"edge\">\n<title>53&#45;&gt;59</title>\n<path fill=\"none\" stroke=\"black\" d=\"M3004.56,-341.91C3010.43,-333.1 3016.7,-323.7 3022.76,-314.61\"/>\n<polygon fill=\"black\" stroke=\"black\" points=\"3025.85,-316.28 3028.49,-306.02 3020.03,-312.4 3025.85,-316.28\"/>\n</g>\n<!-- 55 -->\n<g id=\"node56\" class=\"node\">\n<title>55</title>\n<path fill=\"#e68540\" stroke=\"black\" d=\"M2831,-187C2831,-187 2714,-187 2714,-187 2708,-187 2702,-181 2702,-175 2702,-175 2702,-116 2702,-116 2702,-110 2708,-104 2714,-104 2714,-104 2831,-104 2831,-104 2837,-104 2843,-110 2843,-116 2843,-116 2843,-175 2843,-175 2843,-181 2837,-187 2831,-187\"/>\n<text text-anchor=\"middle\" x=\"2772.5\" y=\"-171.8\" font-family=\"Helvetica,sans-Serif\" font-size=\"14.00\">precio &lt;= 62190.451</text>\n<text text-anchor=\"middle\" x=\"2772.5\" y=\"-156.8\" font-family=\"Helvetica,sans-Serif\" font-size=\"14.00\">gini = 0.064</text>\n<text text-anchor=\"middle\" x=\"2772.5\" y=\"-141.8\" font-family=\"Helvetica,sans-Serif\" font-size=\"14.00\">samples = 120</text>\n<text text-anchor=\"middle\" x=\"2772.5\" y=\"-126.8\" font-family=\"Helvetica,sans-Serif\" font-size=\"14.00\">value = [116, 4]</text>\n<text text-anchor=\"middle\" x=\"2772.5\" y=\"-111.8\" font-family=\"Helvetica,sans-Serif\" font-size=\"14.00\">class = no</text>\n</g>\n<!-- 54&#45;&gt;55 -->\n<g id=\"edge55\" class=\"edge\">\n<title>54&#45;&gt;55</title>\n<path fill=\"none\" stroke=\"black\" d=\"M2855.44,-222.91C2845.29,-213.56 2834.41,-203.54 2823.98,-193.93\"/>\n<polygon fill=\"black\" stroke=\"black\" points=\"2826.21,-191.22 2816.48,-187.02 2821.47,-196.37 2826.21,-191.22\"/>\n</g>\n<!-- 58 -->\n<g id=\"node59\" class=\"node\">\n<title>58</title>\n<path fill=\"#e58139\" stroke=\"black\" d=\"M2959.5,-179.5C2959.5,-179.5 2873.5,-179.5 2873.5,-179.5 2867.5,-179.5 2861.5,-173.5 2861.5,-167.5 2861.5,-167.5 2861.5,-123.5 2861.5,-123.5 2861.5,-117.5 2867.5,-111.5 2873.5,-111.5 2873.5,-111.5 2959.5,-111.5 2959.5,-111.5 2965.5,-111.5 2971.5,-117.5 2971.5,-123.5 2971.5,-123.5 2971.5,-167.5 2971.5,-167.5 2971.5,-173.5 2965.5,-179.5 2959.5,-179.5\"/>\n<text text-anchor=\"middle\" x=\"2916.5\" y=\"-164.3\" font-family=\"Helvetica,sans-Serif\" font-size=\"14.00\">gini = 0.0</text>\n<text text-anchor=\"middle\" x=\"2916.5\" y=\"-149.3\" font-family=\"Helvetica,sans-Serif\" font-size=\"14.00\">samples = 101</text>\n<text text-anchor=\"middle\" x=\"2916.5\" y=\"-134.3\" font-family=\"Helvetica,sans-Serif\" font-size=\"14.00\">value = [101, 0]</text>\n<text text-anchor=\"middle\" x=\"2916.5\" y=\"-119.3\" font-family=\"Helvetica,sans-Serif\" font-size=\"14.00\">class = no</text>\n</g>\n<!-- 54&#45;&gt;58 -->\n<g id=\"edge58\" class=\"edge\">\n<title>54&#45;&gt;58</title>\n<path fill=\"none\" stroke=\"black\" d=\"M2905.4,-222.91C2906.95,-212.2 2908.64,-200.62 2910.21,-189.78\"/>\n<polygon fill=\"black\" stroke=\"black\" points=\"2913.71,-190.07 2911.68,-179.67 2906.78,-189.06 2913.71,-190.07\"/>\n</g>\n<!-- 56 -->\n<g id=\"node57\" class=\"node\">\n<title>56</title>\n<path fill=\"#e6843e\" stroke=\"black\" d=\"M2815.5,-68C2815.5,-68 2729.5,-68 2729.5,-68 2723.5,-68 2717.5,-62 2717.5,-56 2717.5,-56 2717.5,-12 2717.5,-12 2717.5,-6 2723.5,0 2729.5,0 2729.5,0 2815.5,0 2815.5,0 2821.5,0 2827.5,-6 2827.5,-12 2827.5,-12 2827.5,-56 2827.5,-56 2827.5,-62 2821.5,-68 2815.5,-68\"/>\n<text text-anchor=\"middle\" x=\"2772.5\" y=\"-52.8\" font-family=\"Helvetica,sans-Serif\" font-size=\"14.00\">gini = 0.049</text>\n<text text-anchor=\"middle\" x=\"2772.5\" y=\"-37.8\" font-family=\"Helvetica,sans-Serif\" font-size=\"14.00\">samples = 119</text>\n<text text-anchor=\"middle\" x=\"2772.5\" y=\"-22.8\" font-family=\"Helvetica,sans-Serif\" font-size=\"14.00\">value = [116, 3]</text>\n<text text-anchor=\"middle\" x=\"2772.5\" y=\"-7.8\" font-family=\"Helvetica,sans-Serif\" font-size=\"14.00\">class = no</text>\n</g>\n<!-- 55&#45;&gt;56 -->\n<g id=\"edge56\" class=\"edge\">\n<title>55&#45;&gt;56</title>\n<path fill=\"none\" stroke=\"black\" d=\"M2772.5,-103.73C2772.5,-95.52 2772.5,-86.86 2772.5,-78.56\"/>\n<polygon fill=\"black\" stroke=\"black\" points=\"2776,-78.3 2772.5,-68.3 2769,-78.3 2776,-78.3\"/>\n</g>\n<!-- 57 -->\n<g id=\"node58\" class=\"node\">\n<title>57</title>\n<path fill=\"#399de5\" stroke=\"black\" d=\"M2929,-68C2929,-68 2858,-68 2858,-68 2852,-68 2846,-62 2846,-56 2846,-56 2846,-12 2846,-12 2846,-6 2852,0 2858,0 2858,0 2929,0 2929,0 2935,0 2941,-6 2941,-12 2941,-12 2941,-56 2941,-56 2941,-62 2935,-68 2929,-68\"/>\n<text text-anchor=\"middle\" x=\"2893.5\" y=\"-52.8\" font-family=\"Helvetica,sans-Serif\" font-size=\"14.00\">gini = 0.0</text>\n<text text-anchor=\"middle\" x=\"2893.5\" y=\"-37.8\" font-family=\"Helvetica,sans-Serif\" font-size=\"14.00\">samples = 1</text>\n<text text-anchor=\"middle\" x=\"2893.5\" y=\"-22.8\" font-family=\"Helvetica,sans-Serif\" font-size=\"14.00\">value = [0, 1]</text>\n<text text-anchor=\"middle\" x=\"2893.5\" y=\"-7.8\" font-family=\"Helvetica,sans-Serif\" font-size=\"14.00\">class = si</text>\n</g>\n<!-- 55&#45;&gt;57 -->\n<g id=\"edge57\" class=\"edge\">\n<title>55&#45;&gt;57</title>\n<path fill=\"none\" stroke=\"black\" d=\"M2817.56,-103.73C2827.84,-94.42 2838.75,-84.54 2849.01,-75.26\"/>\n<polygon fill=\"black\" stroke=\"black\" points=\"2851.64,-77.6 2856.7,-68.3 2846.94,-72.41 2851.64,-77.6\"/>\n</g>\n<!-- 60 -->\n<g id=\"node61\" class=\"node\">\n<title>60</title>\n<path fill=\"#399de5\" stroke=\"black\" d=\"M3073,-179.5C3073,-179.5 3002,-179.5 3002,-179.5 2996,-179.5 2990,-173.5 2990,-167.5 2990,-167.5 2990,-123.5 2990,-123.5 2990,-117.5 2996,-111.5 3002,-111.5 3002,-111.5 3073,-111.5 3073,-111.5 3079,-111.5 3085,-117.5 3085,-123.5 3085,-123.5 3085,-167.5 3085,-167.5 3085,-173.5 3079,-179.5 3073,-179.5\"/>\n<text text-anchor=\"middle\" x=\"3037.5\" y=\"-164.3\" font-family=\"Helvetica,sans-Serif\" font-size=\"14.00\">gini = 0.0</text>\n<text text-anchor=\"middle\" x=\"3037.5\" y=\"-149.3\" font-family=\"Helvetica,sans-Serif\" font-size=\"14.00\">samples = 1</text>\n<text text-anchor=\"middle\" x=\"3037.5\" y=\"-134.3\" font-family=\"Helvetica,sans-Serif\" font-size=\"14.00\">value = [0, 1]</text>\n<text text-anchor=\"middle\" x=\"3037.5\" y=\"-119.3\" font-family=\"Helvetica,sans-Serif\" font-size=\"14.00\">class = si</text>\n</g>\n<!-- 59&#45;&gt;60 -->\n<g id=\"edge60\" class=\"edge\">\n<title>59&#45;&gt;60</title>\n<path fill=\"none\" stroke=\"black\" d=\"M3049.25,-222.91C3047.61,-212.2 3045.83,-200.62 3044.16,-189.78\"/>\n<polygon fill=\"black\" stroke=\"black\" points=\"3047.58,-189.02 3042.6,-179.67 3040.66,-190.08 3047.58,-189.02\"/>\n</g>\n<!-- 61 -->\n<g id=\"node62\" class=\"node\">\n<title>61</title>\n<path fill=\"#e68742\" stroke=\"black\" d=\"M3232,-187C3232,-187 3115,-187 3115,-187 3109,-187 3103,-181 3103,-175 3103,-175 3103,-116 3103,-116 3103,-110 3109,-104 3115,-104 3115,-104 3232,-104 3232,-104 3238,-104 3244,-110 3244,-116 3244,-116 3244,-175 3244,-175 3244,-181 3238,-187 3232,-187\"/>\n<text text-anchor=\"middle\" x=\"3173.5\" y=\"-171.8\" font-family=\"Helvetica,sans-Serif\" font-size=\"14.00\">precio &lt;= 68418.574</text>\n<text text-anchor=\"middle\" x=\"3173.5\" y=\"-156.8\" font-family=\"Helvetica,sans-Serif\" font-size=\"14.00\">gini = 0.087</text>\n<text text-anchor=\"middle\" x=\"3173.5\" y=\"-141.8\" font-family=\"Helvetica,sans-Serif\" font-size=\"14.00\">samples = 1587</text>\n<text text-anchor=\"middle\" x=\"3173.5\" y=\"-126.8\" font-family=\"Helvetica,sans-Serif\" font-size=\"14.00\">value = [1515, 72]</text>\n<text text-anchor=\"middle\" x=\"3173.5\" y=\"-111.8\" font-family=\"Helvetica,sans-Serif\" font-size=\"14.00\">class = no</text>\n</g>\n<!-- 59&#45;&gt;61 -->\n<g id=\"edge61\" class=\"edge\">\n<title>59&#45;&gt;61</title>\n<path fill=\"none\" stroke=\"black\" d=\"M3096.44,-222.91C3105.78,-213.65 3115.78,-203.73 3125.38,-194.21\"/>\n<polygon fill=\"black\" stroke=\"black\" points=\"3128,-196.55 3132.63,-187.02 3123.07,-191.58 3128,-196.55\"/>\n</g>\n<!-- 62 -->\n<g id=\"node63\" class=\"node\">\n<title>62</title>\n<path fill=\"#e78b49\" stroke=\"black\" d=\"M3092,-68C3092,-68 2999,-68 2999,-68 2993,-68 2987,-62 2987,-56 2987,-56 2987,-12 2987,-12 2987,-6 2993,0 2999,0 2999,0 3092,0 3092,0 3098,0 3104,-6 3104,-12 3104,-12 3104,-56 3104,-56 3104,-62 3098,-68 3092,-68\"/>\n<text text-anchor=\"middle\" x=\"3045.5\" y=\"-52.8\" font-family=\"Helvetica,sans-Serif\" font-size=\"14.00\">gini = 0.137</text>\n<text text-anchor=\"middle\" x=\"3045.5\" y=\"-37.8\" font-family=\"Helvetica,sans-Serif\" font-size=\"14.00\">samples = 189</text>\n<text text-anchor=\"middle\" x=\"3045.5\" y=\"-22.8\" font-family=\"Helvetica,sans-Serif\" font-size=\"14.00\">value = [175, 14]</text>\n<text text-anchor=\"middle\" x=\"3045.5\" y=\"-7.8\" font-family=\"Helvetica,sans-Serif\" font-size=\"14.00\">class = no</text>\n</g>\n<!-- 61&#45;&gt;62 -->\n<g id=\"edge62\" class=\"edge\">\n<title>61&#45;&gt;62</title>\n<path fill=\"none\" stroke=\"black\" d=\"M3125.84,-103.73C3114.86,-94.33 3103.19,-84.35 3092.24,-74.99\"/>\n<polygon fill=\"black\" stroke=\"black\" points=\"3094.3,-72.14 3084.43,-68.3 3089.75,-77.46 3094.3,-72.14\"/>\n</g>\n<!-- 63 -->\n<g id=\"node64\" class=\"node\">\n<title>63</title>\n<path fill=\"#e68642\" stroke=\"black\" d=\"M3235,-68C3235,-68 3134,-68 3134,-68 3128,-68 3122,-62 3122,-56 3122,-56 3122,-12 3122,-12 3122,-6 3128,0 3134,0 3134,0 3235,0 3235,0 3241,0 3247,-6 3247,-12 3247,-12 3247,-56 3247,-56 3247,-62 3241,-68 3235,-68\"/>\n<text text-anchor=\"middle\" x=\"3184.5\" y=\"-52.8\" font-family=\"Helvetica,sans-Serif\" font-size=\"14.00\">gini = 0.08</text>\n<text text-anchor=\"middle\" x=\"3184.5\" y=\"-37.8\" font-family=\"Helvetica,sans-Serif\" font-size=\"14.00\">samples = 1398</text>\n<text text-anchor=\"middle\" x=\"3184.5\" y=\"-22.8\" font-family=\"Helvetica,sans-Serif\" font-size=\"14.00\">value = [1340, 58]</text>\n<text text-anchor=\"middle\" x=\"3184.5\" y=\"-7.8\" font-family=\"Helvetica,sans-Serif\" font-size=\"14.00\">class = no</text>\n</g>\n<!-- 61&#45;&gt;63 -->\n<g id=\"edge63\" class=\"edge\">\n<title>61&#45;&gt;63</title>\n<path fill=\"none\" stroke=\"black\" d=\"M3177.6,-103.73C3178.43,-95.43 3179.31,-86.67 3180.15,-78.28\"/>\n<polygon fill=\"black\" stroke=\"black\" points=\"3183.64,-78.6 3181.15,-68.3 3176.67,-77.9 3183.64,-78.6\"/>\n</g>\n<!-- 65 -->\n<g id=\"node66\" class=\"node\">\n<title>65</title>\n<path fill=\"#93caf1\" stroke=\"black\" d=\"M3429,-306C3429,-306 3274,-306 3274,-306 3268,-306 3262,-300 3262,-294 3262,-294 3262,-235 3262,-235 3262,-229 3268,-223 3274,-223 3274,-223 3429,-223 3429,-223 3435,-223 3441,-229 3441,-235 3441,-235 3441,-294 3441,-294 3441,-300 3435,-306 3429,-306\"/>\n<text text-anchor=\"middle\" x=\"3351.5\" y=\"-290.8\" font-family=\"Helvetica,sans-Serif\" font-size=\"14.00\">km_by_year &lt;= 42661.994</text>\n<text text-anchor=\"middle\" x=\"3351.5\" y=\"-275.8\" font-family=\"Helvetica,sans-Serif\" font-size=\"14.00\">gini = 0.43</text>\n<text text-anchor=\"middle\" x=\"3351.5\" y=\"-260.8\" font-family=\"Helvetica,sans-Serif\" font-size=\"14.00\">samples = 329</text>\n<text text-anchor=\"middle\" x=\"3351.5\" y=\"-245.8\" font-family=\"Helvetica,sans-Serif\" font-size=\"14.00\">value = [103, 226]</text>\n<text text-anchor=\"middle\" x=\"3351.5\" y=\"-230.8\" font-family=\"Helvetica,sans-Serif\" font-size=\"14.00\">class = si</text>\n</g>\n<!-- 64&#45;&gt;65 -->\n<g id=\"edge65\" class=\"edge\">\n<title>64&#45;&gt;65</title>\n<path fill=\"none\" stroke=\"black\" d=\"M3351.5,-341.91C3351.5,-333.65 3351.5,-324.86 3351.5,-316.3\"/>\n<polygon fill=\"black\" stroke=\"black\" points=\"3355,-316.02 3351.5,-306.02 3348,-316.02 3355,-316.02\"/>\n</g>\n<!-- 70 -->\n<g id=\"node71\" class=\"node\">\n<title>70</title>\n<path fill=\"#e58139\" stroke=\"black\" d=\"M3542,-298.5C3542,-298.5 3471,-298.5 3471,-298.5 3465,-298.5 3459,-292.5 3459,-286.5 3459,-286.5 3459,-242.5 3459,-242.5 3459,-236.5 3465,-230.5 3471,-230.5 3471,-230.5 3542,-230.5 3542,-230.5 3548,-230.5 3554,-236.5 3554,-242.5 3554,-242.5 3554,-286.5 3554,-286.5 3554,-292.5 3548,-298.5 3542,-298.5\"/>\n<text text-anchor=\"middle\" x=\"3506.5\" y=\"-283.3\" font-family=\"Helvetica,sans-Serif\" font-size=\"14.00\">gini = 0.0</text>\n<text text-anchor=\"middle\" x=\"3506.5\" y=\"-268.3\" font-family=\"Helvetica,sans-Serif\" font-size=\"14.00\">samples = 2</text>\n<text text-anchor=\"middle\" x=\"3506.5\" y=\"-253.3\" font-family=\"Helvetica,sans-Serif\" font-size=\"14.00\">value = [2, 0]</text>\n<text text-anchor=\"middle\" x=\"3506.5\" y=\"-238.3\" font-family=\"Helvetica,sans-Serif\" font-size=\"14.00\">class = no</text>\n</g>\n<!-- 64&#45;&gt;70 -->\n<g id=\"edge70\" class=\"edge\">\n<title>64&#45;&gt;70</title>\n<path fill=\"none\" stroke=\"black\" d=\"M3405.28,-341.91C3421.21,-329.88 3438.63,-316.73 3454.45,-304.79\"/>\n<polygon fill=\"black\" stroke=\"black\" points=\"3456.69,-307.49 3462.56,-298.67 3452.47,-301.9 3456.69,-307.49\"/>\n</g>\n<!-- 66 -->\n<g id=\"node67\" class=\"node\">\n<title>66</title>\n<path fill=\"#9acdf2\" stroke=\"black\" d=\"M3429,-187C3429,-187 3274,-187 3274,-187 3268,-187 3262,-181 3262,-175 3262,-175 3262,-116 3262,-116 3262,-110 3268,-104 3274,-104 3274,-104 3429,-104 3429,-104 3435,-104 3441,-110 3441,-116 3441,-116 3441,-175 3441,-175 3441,-181 3435,-187 3429,-187\"/>\n<text text-anchor=\"middle\" x=\"3351.5\" y=\"-171.8\" font-family=\"Helvetica,sans-Serif\" font-size=\"14.00\">km_by_year &lt;= 25967.505</text>\n<text text-anchor=\"middle\" x=\"3351.5\" y=\"-156.8\" font-family=\"Helvetica,sans-Serif\" font-size=\"14.00\">gini = 0.442</text>\n<text text-anchor=\"middle\" x=\"3351.5\" y=\"-141.8\" font-family=\"Helvetica,sans-Serif\" font-size=\"14.00\">samples = 313</text>\n<text text-anchor=\"middle\" x=\"3351.5\" y=\"-126.8\" font-family=\"Helvetica,sans-Serif\" font-size=\"14.00\">value = [103, 210]</text>\n<text text-anchor=\"middle\" x=\"3351.5\" y=\"-111.8\" font-family=\"Helvetica,sans-Serif\" font-size=\"14.00\">class = si</text>\n</g>\n<!-- 65&#45;&gt;66 -->\n<g id=\"edge66\" class=\"edge\">\n<title>65&#45;&gt;66</title>\n<path fill=\"none\" stroke=\"black\" d=\"M3351.5,-222.91C3351.5,-214.65 3351.5,-205.86 3351.5,-197.3\"/>\n<polygon fill=\"black\" stroke=\"black\" points=\"3355,-197.02 3351.5,-187.02 3348,-197.02 3355,-197.02\"/>\n</g>\n<!-- 69 -->\n<g id=\"node70\" class=\"node\">\n<title>69</title>\n<path fill=\"#399de5\" stroke=\"black\" d=\"M3549.5,-179.5C3549.5,-179.5 3471.5,-179.5 3471.5,-179.5 3465.5,-179.5 3459.5,-173.5 3459.5,-167.5 3459.5,-167.5 3459.5,-123.5 3459.5,-123.5 3459.5,-117.5 3465.5,-111.5 3471.5,-111.5 3471.5,-111.5 3549.5,-111.5 3549.5,-111.5 3555.5,-111.5 3561.5,-117.5 3561.5,-123.5 3561.5,-123.5 3561.5,-167.5 3561.5,-167.5 3561.5,-173.5 3555.5,-179.5 3549.5,-179.5\"/>\n<text text-anchor=\"middle\" x=\"3510.5\" y=\"-164.3\" font-family=\"Helvetica,sans-Serif\" font-size=\"14.00\">gini = 0.0</text>\n<text text-anchor=\"middle\" x=\"3510.5\" y=\"-149.3\" font-family=\"Helvetica,sans-Serif\" font-size=\"14.00\">samples = 16</text>\n<text text-anchor=\"middle\" x=\"3510.5\" y=\"-134.3\" font-family=\"Helvetica,sans-Serif\" font-size=\"14.00\">value = [0, 16]</text>\n<text text-anchor=\"middle\" x=\"3510.5\" y=\"-119.3\" font-family=\"Helvetica,sans-Serif\" font-size=\"14.00\">class = si</text>\n</g>\n<!-- 65&#45;&gt;69 -->\n<g id=\"edge69\" class=\"edge\">\n<title>65&#45;&gt;69</title>\n<path fill=\"none\" stroke=\"black\" d=\"M3406.66,-222.91C3423.01,-210.88 3440.87,-197.73 3457.1,-185.79\"/>\n<polygon fill=\"black\" stroke=\"black\" points=\"3459.45,-188.41 3465.43,-179.67 3455.3,-182.77 3459.45,-188.41\"/>\n</g>\n<!-- 67 -->\n<g id=\"node68\" class=\"node\">\n<title>67</title>\n<path fill=\"#7bbeee\" stroke=\"black\" d=\"M3384.5,-68C3384.5,-68 3298.5,-68 3298.5,-68 3292.5,-68 3286.5,-62 3286.5,-56 3286.5,-56 3286.5,-12 3286.5,-12 3286.5,-6 3292.5,0 3298.5,0 3298.5,0 3384.5,0 3384.5,0 3390.5,0 3396.5,-6 3396.5,-12 3396.5,-12 3396.5,-56 3396.5,-56 3396.5,-62 3390.5,-68 3384.5,-68\"/>\n<text text-anchor=\"middle\" x=\"3341.5\" y=\"-52.8\" font-family=\"Helvetica,sans-Serif\" font-size=\"14.00\">gini = 0.375</text>\n<text text-anchor=\"middle\" x=\"3341.5\" y=\"-37.8\" font-family=\"Helvetica,sans-Serif\" font-size=\"14.00\">samples = 72</text>\n<text text-anchor=\"middle\" x=\"3341.5\" y=\"-22.8\" font-family=\"Helvetica,sans-Serif\" font-size=\"14.00\">value = [18, 54]</text>\n<text text-anchor=\"middle\" x=\"3341.5\" y=\"-7.8\" font-family=\"Helvetica,sans-Serif\" font-size=\"14.00\">class = si</text>\n</g>\n<!-- 66&#45;&gt;67 -->\n<g id=\"edge67\" class=\"edge\">\n<title>66&#45;&gt;67</title>\n<path fill=\"none\" stroke=\"black\" d=\"M3347.78,-103.73C3347.02,-95.43 3346.22,-86.67 3345.45,-78.28\"/>\n<polygon fill=\"black\" stroke=\"black\" points=\"3348.94,-77.94 3344.54,-68.3 3341.97,-78.58 3348.94,-77.94\"/>\n</g>\n<!-- 68 -->\n<g id=\"node69\" class=\"node\">\n<title>68</title>\n<path fill=\"#a5d2f3\" stroke=\"black\" d=\"M3520,-68C3520,-68 3427,-68 3427,-68 3421,-68 3415,-62 3415,-56 3415,-56 3415,-12 3415,-12 3415,-6 3421,0 3427,0 3427,0 3520,0 3520,0 3526,0 3532,-6 3532,-12 3532,-12 3532,-56 3532,-56 3532,-62 3526,-68 3520,-68\"/>\n<text text-anchor=\"middle\" x=\"3473.5\" y=\"-52.8\" font-family=\"Helvetica,sans-Serif\" font-size=\"14.00\">gini = 0.457</text>\n<text text-anchor=\"middle\" x=\"3473.5\" y=\"-37.8\" font-family=\"Helvetica,sans-Serif\" font-size=\"14.00\">samples = 241</text>\n<text text-anchor=\"middle\" x=\"3473.5\" y=\"-22.8\" font-family=\"Helvetica,sans-Serif\" font-size=\"14.00\">value = [85, 156]</text>\n<text text-anchor=\"middle\" x=\"3473.5\" y=\"-7.8\" font-family=\"Helvetica,sans-Serif\" font-size=\"14.00\">class = si</text>\n</g>\n<!-- 66&#45;&gt;68 -->\n<g id=\"edge68\" class=\"edge\">\n<title>66&#45;&gt;68</title>\n<path fill=\"none\" stroke=\"black\" d=\"M3396.93,-103.73C3407.4,-94.33 3418.52,-84.35 3428.95,-74.99\"/>\n<polygon fill=\"black\" stroke=\"black\" points=\"3431.29,-77.58 3436.4,-68.3 3426.62,-72.37 3431.29,-77.58\"/>\n</g>\n</g>\n</svg>\n",
            "text/plain": [
              "<graphviz.sources.Source at 0x7fbc24ad9270>"
            ]
          },
          "metadata": {},
          "execution_count": 22
        }
      ]
    },
    {
      "cell_type": "markdown",
      "source": [
        "# **Probando parámetros**"
      ],
      "metadata": {
        "id": "GxZGuA3x6JzS"
      }
    },
    {
      "cell_type": "code",
      "source": [
        "def iniciar_arbol_de_decision(max_depth):\n",
        "  SEED = 305\n",
        "  np.random.seed(SEED)\n",
        "\n",
        "  cv = GroupKFold(n_splits = 10)\n",
        "  modelo = DecisionTreeClassifier(max_depth=max_depth)\n",
        "  results = cross_validate(modelo, x_ord, y_ord, cv = cv, groups = datos.modelo, return_train_score=True)\n",
        "  test_score = results['test_score'].mean()*100\n",
        "  train_score = results['train_score'].mean()*100\n",
        "  print('Arbol max_depth = %d, training = %.2f, testing = %.2f' % (max_depth, train_score, test_score))\n",
        "  tabla = [max_depth, train_score, test_score]\n",
        "  return tabla\n",
        "\n",
        "resultados = [iniciar_arbol_de_decision(i) for i in range(1,33)]\n",
        "resultados = pd.DataFrame(resultados, columns=['max_depth', 'train', 'test'])\n",
        "resultados.head()"
      ],
      "metadata": {
        "colab": {
          "base_uri": "https://localhost:8080/",
          "height": 762
        },
        "id": "5IraQ1Rq6Odh",
        "outputId": "243d1beb-2888-4dad-f4a9-6a38030eff30"
      },
      "execution_count": 31,
      "outputs": [
        {
          "output_type": "stream",
          "name": "stdout",
          "text": [
            "Arbol max_depth = 1, training = 75.79, testing = 75.78\n",
            "Arbol max_depth = 2, training = 75.79, testing = 75.78\n",
            "Arbol max_depth = 3, training = 78.75, testing = 78.67\n",
            "Arbol max_depth = 4, training = 78.79, testing = 78.63\n",
            "Arbol max_depth = 5, training = 78.94, testing = 78.56\n",
            "Arbol max_depth = 6, training = 79.17, testing = 78.12\n",
            "Arbol max_depth = 7, training = 79.50, testing = 77.96\n",
            "Arbol max_depth = 8, training = 79.89, testing = 77.80\n",
            "Arbol max_depth = 9, training = 80.46, testing = 77.37\n",
            "Arbol max_depth = 10, training = 81.16, testing = 77.19\n",
            "Arbol max_depth = 11, training = 82.03, testing = 76.96\n",
            "Arbol max_depth = 12, training = 82.89, testing = 76.43\n",
            "Arbol max_depth = 13, training = 83.96, testing = 75.92\n",
            "Arbol max_depth = 14, training = 85.05, testing = 75.59\n",
            "Arbol max_depth = 15, training = 86.15, testing = 75.04\n",
            "Arbol max_depth = 16, training = 87.21, testing = 75.11\n",
            "Arbol max_depth = 17, training = 88.29, testing = 74.55\n",
            "Arbol max_depth = 18, training = 89.30, testing = 74.28\n",
            "Arbol max_depth = 19, training = 90.31, testing = 74.29\n",
            "Arbol max_depth = 20, training = 91.33, testing = 74.23\n",
            "Arbol max_depth = 21, training = 92.17, testing = 73.91\n",
            "Arbol max_depth = 22, training = 93.06, testing = 73.64\n",
            "Arbol max_depth = 23, training = 93.76, testing = 73.52\n",
            "Arbol max_depth = 24, training = 94.46, testing = 73.30\n",
            "Arbol max_depth = 25, training = 95.18, testing = 73.03\n",
            "Arbol max_depth = 26, training = 95.77, testing = 72.99\n",
            "Arbol max_depth = 27, training = 96.29, testing = 72.90\n",
            "Arbol max_depth = 28, training = 96.75, testing = 72.78\n",
            "Arbol max_depth = 29, training = 97.11, testing = 72.71\n",
            "Arbol max_depth = 30, training = 97.45, testing = 73.03\n",
            "Arbol max_depth = 31, training = 97.82, testing = 72.64\n",
            "Arbol max_depth = 32, training = 98.08, testing = 72.67\n"
          ]
        },
        {
          "output_type": "execute_result",
          "data": {
            "text/plain": [
              "   max_depth      train       test\n",
              "0          1  75.791169  75.784219\n",
              "1          2  75.791169  75.784219\n",
              "2          3  78.750993  78.672633\n",
              "3          4  78.787628  78.632803\n",
              "4          5  78.941007  78.555912"
            ],
            "text/html": [
              "\n",
              "  <div id=\"df-34294734-9840-454e-9ab8-bed48128a2be\">\n",
              "    <div class=\"colab-df-container\">\n",
              "      <div>\n",
              "<style scoped>\n",
              "    .dataframe tbody tr th:only-of-type {\n",
              "        vertical-align: middle;\n",
              "    }\n",
              "\n",
              "    .dataframe tbody tr th {\n",
              "        vertical-align: top;\n",
              "    }\n",
              "\n",
              "    .dataframe thead th {\n",
              "        text-align: right;\n",
              "    }\n",
              "</style>\n",
              "<table border=\"1\" class=\"dataframe\">\n",
              "  <thead>\n",
              "    <tr style=\"text-align: right;\">\n",
              "      <th></th>\n",
              "      <th>max_depth</th>\n",
              "      <th>train</th>\n",
              "      <th>test</th>\n",
              "    </tr>\n",
              "  </thead>\n",
              "  <tbody>\n",
              "    <tr>\n",
              "      <th>0</th>\n",
              "      <td>1</td>\n",
              "      <td>75.791169</td>\n",
              "      <td>75.784219</td>\n",
              "    </tr>\n",
              "    <tr>\n",
              "      <th>1</th>\n",
              "      <td>2</td>\n",
              "      <td>75.791169</td>\n",
              "      <td>75.784219</td>\n",
              "    </tr>\n",
              "    <tr>\n",
              "      <th>2</th>\n",
              "      <td>3</td>\n",
              "      <td>78.750993</td>\n",
              "      <td>78.672633</td>\n",
              "    </tr>\n",
              "    <tr>\n",
              "      <th>3</th>\n",
              "      <td>4</td>\n",
              "      <td>78.787628</td>\n",
              "      <td>78.632803</td>\n",
              "    </tr>\n",
              "    <tr>\n",
              "      <th>4</th>\n",
              "      <td>5</td>\n",
              "      <td>78.941007</td>\n",
              "      <td>78.555912</td>\n",
              "    </tr>\n",
              "  </tbody>\n",
              "</table>\n",
              "</div>\n",
              "      <button class=\"colab-df-convert\" onclick=\"convertToInteractive('df-34294734-9840-454e-9ab8-bed48128a2be')\"\n",
              "              title=\"Convert this dataframe to an interactive table.\"\n",
              "              style=\"display:none;\">\n",
              "        \n",
              "  <svg xmlns=\"http://www.w3.org/2000/svg\" height=\"24px\"viewBox=\"0 0 24 24\"\n",
              "       width=\"24px\">\n",
              "    <path d=\"M0 0h24v24H0V0z\" fill=\"none\"/>\n",
              "    <path d=\"M18.56 5.44l.94 2.06.94-2.06 2.06-.94-2.06-.94-.94-2.06-.94 2.06-2.06.94zm-11 1L8.5 8.5l.94-2.06 2.06-.94-2.06-.94L8.5 2.5l-.94 2.06-2.06.94zm10 10l.94 2.06.94-2.06 2.06-.94-2.06-.94-.94-2.06-.94 2.06-2.06.94z\"/><path d=\"M17.41 7.96l-1.37-1.37c-.4-.4-.92-.59-1.43-.59-.52 0-1.04.2-1.43.59L10.3 9.45l-7.72 7.72c-.78.78-.78 2.05 0 2.83L4 21.41c.39.39.9.59 1.41.59.51 0 1.02-.2 1.41-.59l7.78-7.78 2.81-2.81c.8-.78.8-2.07 0-2.86zM5.41 20L4 18.59l7.72-7.72 1.47 1.35L5.41 20z\"/>\n",
              "  </svg>\n",
              "      </button>\n",
              "      \n",
              "  <style>\n",
              "    .colab-df-container {\n",
              "      display:flex;\n",
              "      flex-wrap:wrap;\n",
              "      gap: 12px;\n",
              "    }\n",
              "\n",
              "    .colab-df-convert {\n",
              "      background-color: #E8F0FE;\n",
              "      border: none;\n",
              "      border-radius: 50%;\n",
              "      cursor: pointer;\n",
              "      display: none;\n",
              "      fill: #1967D2;\n",
              "      height: 32px;\n",
              "      padding: 0 0 0 0;\n",
              "      width: 32px;\n",
              "    }\n",
              "\n",
              "    .colab-df-convert:hover {\n",
              "      background-color: #E2EBFA;\n",
              "      box-shadow: 0px 1px 2px rgba(60, 64, 67, 0.3), 0px 1px 3px 1px rgba(60, 64, 67, 0.15);\n",
              "      fill: #174EA6;\n",
              "    }\n",
              "\n",
              "    [theme=dark] .colab-df-convert {\n",
              "      background-color: #3B4455;\n",
              "      fill: #D2E3FC;\n",
              "    }\n",
              "\n",
              "    [theme=dark] .colab-df-convert:hover {\n",
              "      background-color: #434B5C;\n",
              "      box-shadow: 0px 1px 3px 1px rgba(0, 0, 0, 0.15);\n",
              "      filter: drop-shadow(0px 1px 2px rgba(0, 0, 0, 0.3));\n",
              "      fill: #FFFFFF;\n",
              "    }\n",
              "  </style>\n",
              "\n",
              "      <script>\n",
              "        const buttonEl =\n",
              "          document.querySelector('#df-34294734-9840-454e-9ab8-bed48128a2be button.colab-df-convert');\n",
              "        buttonEl.style.display =\n",
              "          google.colab.kernel.accessAllowed ? 'block' : 'none';\n",
              "\n",
              "        async function convertToInteractive(key) {\n",
              "          const element = document.querySelector('#df-34294734-9840-454e-9ab8-bed48128a2be');\n",
              "          const dataTable =\n",
              "            await google.colab.kernel.invokeFunction('convertToInteractive',\n",
              "                                                     [key], {});\n",
              "          if (!dataTable) return;\n",
              "\n",
              "          const docLinkHtml = 'Like what you see? Visit the ' +\n",
              "            '<a target=\"_blank\" href=https://colab.research.google.com/notebooks/data_table.ipynb>data table notebook</a>'\n",
              "            + ' to learn more about interactive tables.';\n",
              "          element.innerHTML = '';\n",
              "          dataTable['output_type'] = 'display_data';\n",
              "          await google.colab.output.renderOutput(dataTable, element);\n",
              "          const docLink = document.createElement('div');\n",
              "          docLink.innerHTML = docLinkHtml;\n",
              "          element.appendChild(docLink);\n",
              "        }\n",
              "      </script>\n",
              "    </div>\n",
              "  </div>\n",
              "  "
            ]
          },
          "metadata": {},
          "execution_count": 31
        }
      ]
    },
    {
      "cell_type": "code",
      "source": [
        "import matplotlib.pyplot as plt\n",
        "import seaborn as sns\n",
        "sns.lineplot(x='max_depth', y = 'train', data = resultados)\n",
        "sns.lineplot(x='max_depth', y = 'test', data = resultados)\n",
        "plt.legend(['train','test'])"
      ],
      "metadata": {
        "colab": {
          "base_uri": "https://localhost:8080/",
          "height": 467
        },
        "id": "pakab8orW9ox",
        "outputId": "dd7fab9f-c828-4617-9083-f17e888b2fa5"
      },
      "execution_count": 36,
      "outputs": [
        {
          "output_type": "execute_result",
          "data": {
            "text/plain": [
              "<matplotlib.legend.Legend at 0x7fbc1f972380>"
            ]
          },
          "metadata": {},
          "execution_count": 36
        },
        {
          "output_type": "display_data",
          "data": {
            "text/plain": [
              "<Figure size 640x480 with 1 Axes>"
            ],
            "image/png": "[encoded data removed]"
          },
          "metadata": {}
        }
      ]
    },
    {
      "cell_type": "code",
      "source": [
        "resultados.sort_values('test',ascending=False).head()"
      ],
      "metadata": {
        "colab": {
          "base_uri": "https://localhost:8080/",
          "height": 206
        },
        "id": "kejE75SaX_wR",
        "outputId": "58c29ef5-c59a-4b4a-85d9-4ab3a0cd9026"
      },
      "execution_count": 37,
      "outputs": [
        {
          "output_type": "execute_result",
          "data": {
            "text/plain": [
              "   max_depth      train       test\n",
              "2          3  78.750993  78.672633\n",
              "3          4  78.787628  78.632803\n",
              "4          5  78.941007  78.555912\n",
              "5          6  79.170115  78.123266\n",
              "6          7  79.496806  77.963185"
            ],
            "text/html": [
              "\n",
              "  <div id=\"df-bb3d0984-6f65-4d86-8941-eaa86b1d9e27\">\n",
              "    <div class=\"colab-df-container\">\n",
              "      <div>\n",
              "<style scoped>\n",
              "    .dataframe tbody tr th:only-of-type {\n",
              "        vertical-align: middle;\n",
              "    }\n",
              "\n",
              "    .dataframe tbody tr th {\n",
              "        vertical-align: top;\n",
              "    }\n",
              "\n",
              "    .dataframe thead th {\n",
              "        text-align: right;\n",
              "    }\n",
              "</style>\n",
              "<table border=\"1\" class=\"dataframe\">\n",
              "  <thead>\n",
              "    <tr style=\"text-align: right;\">\n",
              "      <th></th>\n",
              "      <th>max_depth</th>\n",
              "      <th>train</th>\n",
              "      <th>test</th>\n",
              "    </tr>\n",
              "  </thead>\n",
              "  <tbody>\n",
              "    <tr>\n",
              "      <th>2</th>\n",
              "      <td>3</td>\n",
              "      <td>78.750993</td>\n",
              "      <td>78.672633</td>\n",
              "    </tr>\n",
              "    <tr>\n",
              "      <th>3</th>\n",
              "      <td>4</td>\n",
              "      <td>78.787628</td>\n",
              "      <td>78.632803</td>\n",
              "    </tr>\n",
              "    <tr>\n",
              "      <th>4</th>\n",
              "      <td>5</td>\n",
              "      <td>78.941007</td>\n",
              "      <td>78.555912</td>\n",
              "    </tr>\n",
              "    <tr>\n",
              "      <th>5</th>\n",
              "      <td>6</td>\n",
              "      <td>79.170115</td>\n",
              "      <td>78.123266</td>\n",
              "    </tr>\n",
              "    <tr>\n",
              "      <th>6</th>\n",
              "      <td>7</td>\n",
              "      <td>79.496806</td>\n",
              "      <td>77.963185</td>\n",
              "    </tr>\n",
              "  </tbody>\n",
              "</table>\n",
              "</div>\n",
              "      <button class=\"colab-df-convert\" onclick=\"convertToInteractive('df-bb3d0984-6f65-4d86-8941-eaa86b1d9e27')\"\n",
              "              title=\"Convert this dataframe to an interactive table.\"\n",
              "              style=\"display:none;\">\n",
              "        \n",
              "  <svg xmlns=\"http://www.w3.org/2000/svg\" height=\"24px\"viewBox=\"0 0 24 24\"\n",
              "       width=\"24px\">\n",
              "    <path d=\"M0 0h24v24H0V0z\" fill=\"none\"/>\n",
              "    <path d=\"M18.56 5.44l.94 2.06.94-2.06 2.06-.94-2.06-.94-.94-2.06-.94 2.06-2.06.94zm-11 1L8.5 8.5l.94-2.06 2.06-.94-2.06-.94L8.5 2.5l-.94 2.06-2.06.94zm10 10l.94 2.06.94-2.06 2.06-.94-2.06-.94-.94-2.06-.94 2.06-2.06.94z\"/><path d=\"M17.41 7.96l-1.37-1.37c-.4-.4-.92-.59-1.43-.59-.52 0-1.04.2-1.43.59L10.3 9.45l-7.72 7.72c-.78.78-.78 2.05 0 2.83L4 21.41c.39.39.9.59 1.41.59.51 0 1.02-.2 1.41-.59l7.78-7.78 2.81-2.81c.8-.78.8-2.07 0-2.86zM5.41 20L4 18.59l7.72-7.72 1.47 1.35L5.41 20z\"/>\n",
              "  </svg>\n",
              "      </button>\n",
              "      \n",
              "  <style>\n",
              "    .colab-df-container {\n",
              "      display:flex;\n",
              "      flex-wrap:wrap;\n",
              "      gap: 12px;\n",
              "    }\n",
              "\n",
              "    .colab-df-convert {\n",
              "      background-color: #E8F0FE;\n",
              "      border: none;\n",
              "      border-radius: 50%;\n",
              "      cursor: pointer;\n",
              "      display: none;\n",
              "      fill: #1967D2;\n",
              "      height: 32px;\n",
              "      padding: 0 0 0 0;\n",
              "      width: 32px;\n",
              "    }\n",
              "\n",
              "    .colab-df-convert:hover {\n",
              "      background-color: #E2EBFA;\n",
              "      box-shadow: 0px 1px 2px rgba(60, 64, 67, 0.3), 0px 1px 3px 1px rgba(60, 64, 67, 0.15);\n",
              "      fill: #174EA6;\n",
              "    }\n",
              "\n",
              "    [theme=dark] .colab-df-convert {\n",
              "      background-color: #3B4455;\n",
              "      fill: #D2E3FC;\n",
              "    }\n",
              "\n",
              "    [theme=dark] .colab-df-convert:hover {\n",
              "      background-color: #434B5C;\n",
              "      box-shadow: 0px 1px 3px 1px rgba(0, 0, 0, 0.15);\n",
              "      filter: drop-shadow(0px 1px 2px rgba(0, 0, 0, 0.3));\n",
              "      fill: #FFFFFF;\n",
              "    }\n",
              "  </style>\n",
              "\n",
              "      <script>\n",
              "        const buttonEl =\n",
              "          document.querySelector('#df-bb3d0984-6f65-4d86-8941-eaa86b1d9e27 button.colab-df-convert');\n",
              "        buttonEl.style.display =\n",
              "          google.colab.kernel.accessAllowed ? 'block' : 'none';\n",
              "\n",
              "        async function convertToInteractive(key) {\n",
              "          const element = document.querySelector('#df-bb3d0984-6f65-4d86-8941-eaa86b1d9e27');\n",
              "          const dataTable =\n",
              "            await google.colab.kernel.invokeFunction('convertToInteractive',\n",
              "                                                     [key], {});\n",
              "          if (!dataTable) return;\n",
              "\n",
              "          const docLinkHtml = 'Like what you see? Visit the ' +\n",
              "            '<a target=\"_blank\" href=https://colab.research.google.com/notebooks/data_table.ipynb>data table notebook</a>'\n",
              "            + ' to learn more about interactive tables.';\n",
              "          element.innerHTML = '';\n",
              "          dataTable['output_type'] = 'display_data';\n",
              "          await google.colab.output.renderOutput(dataTable, element);\n",
              "          const docLink = document.createElement('div');\n",
              "          docLink.innerHTML = docLinkHtml;\n",
              "          element.appendChild(docLink);\n",
              "        }\n",
              "      </script>\n",
              "    </div>\n",
              "  </div>\n",
              "  "
            ]
          },
          "metadata": {},
          "execution_count": 37
        }
      ]
    }
  ]
}