{
  "nbformat": 4,
  "nbformat_minor": 0,
  "metadata": {
    "colab": {
      "name": "Introduccion_a_Machine_Learning_Optimizacion.ipynb",
      "provenance": [],
      "collapsed_sections": []
    },
    "kernelspec": {
      "name": "python3",
      "display_name": "Python 3"
    }
  },
  "cells": [
    {
      "cell_type": "code",
      "metadata": {
        "id": "y7ik04NlDZMA"
      },
      "source": [
        "import pandas as pd\n",
        "\n",
        "datos = pd.read_csv(\"carros.csv\")\n",
        "datos.head()"
      ],
      "execution_count": null,
      "outputs": []
    },
    {
      "cell_type": "code",
      "metadata": {
        "id": "b52E4e1hjegN"
      },
      "source": [
        "#situacion con los datos ordenados de la peor manera\n",
        "datos_ord = datos.sort_values(\"vendido\", ascending=True)\n",
        "x_ord = datos_ord[[\"precio\", \"edad_del_modelo\",\"km_by_year\"]]\n",
        "y_ord = datos_ord[\"vendido\"]\n",
        "datos_ord.head()"
      ],
      "execution_count": null,
      "outputs": []
    },
    {
      "cell_type": "code",
      "metadata": {
        "id": "ZNT26vFEeYmz"
      },
      "source": [
        "from sklearn.model_selection import cross_validate\n",
        "from sklearn.dummy import DummyClassifier\n",
        "import numpy as np\n",
        "\n",
        "SEED = 301\n",
        "np.random.seed(SEED)\n",
        "\n",
        "modelo = DummyClassifier()\n",
        "results = cross_validate(modelo, x_ord, y_ord, cv = 10, return_train_score=False)\n",
        "media = results['test_score'].mean()\n",
        "desviacion_estandar = results['test_score'].std()\n",
        "print(\"Accuracy con dummy stratified, 10 = [%.2f, %.2f]\" % ((media - 2 * desviacion_estandar)*100, (media + 2 * desviacion_estandar) * 100))"
      ],
      "execution_count": null,
      "outputs": []
    },
    {
      "cell_type": "code",
      "metadata": {
        "id": "73mCcFA_eG_K"
      },
      "source": [
        "from sklearn.model_selection import cross_validate\n",
        "from sklearn.tree import DecisionTreeClassifier\n",
        "\n",
        "SEED = 301\n",
        "np.random.seed(SEED)\n",
        "\n",
        "modelo = DecisionTreeClassifier(max_depth=2)\n",
        "results = cross_validate(modelo, x_ord, y_ord, cv = 10, return_train_score=False)\n",
        "media = results['test_score'].mean()\n",
        "desviacion_estandar = results['test_score'].std()\n",
        "print(\"Accuracy con cross validation, 10 = [%.2f, %.2f]\" % ((media - 2 * desviacion_estandar)*100, (media + 2 * desviacion_estandar) * 100))"
      ],
      "execution_count": null,
      "outputs": []
    },
    {
      "cell_type": "code",
      "metadata": {
        "id": "5C8Y6J-PGpYf"
      },
      "source": [
        "#generando datos aleatorios del modelo de carro\n",
        "np.random.seed(SEED)\n",
        "datos['modelo'] = datos.edad_del_modelo + np.random.randint(-2, 3, size=10000)\n",
        "datos.modelo = datos.modelo + abs(datos.modelo.min()) + 1\n",
        "datos.head()"
      ],
      "execution_count": null,
      "outputs": []
    },
    {
      "cell_type": "code",
      "metadata": {
        "id": "3hmjt7qPHOZY"
      },
      "source": [
        "def imprime_resultados(results):\n",
        "  media = results['test_score'].mean() * 100\n",
        "  desviacion = results['test_score'].std() * 100\n",
        "  print(\"Accuracy media %.2f\" % media)\n",
        "  print(\"Intervalo [%.2f, %.2f]\" % (media - 2 * desviacion, media + 2 * desviacion))"
      ],
      "execution_count": 8,
      "outputs": []
    },
    {
      "cell_type": "code",
      "metadata": {
        "id": "IKD8uaWkNcUL"
      },
      "source": [
        "# GroupKFold para analizar como el modelo se comporta con nuevos grupos\n",
        "\n",
        "from sklearn.model_selection import GroupKFold\n",
        "\n",
        "SEED = 301\n",
        "np.random.seed(SEED)\n",
        "\n",
        "cv = GroupKFold(n_splits = 10)\n",
        "modelo = DecisionTreeClassifier(max_depth=2)\n",
        "results = cross_validate(modelo, x_ord, y_ord, cv = cv, groups = datos.modelo, return_train_score=False)\n",
        "imprime_resultados(results)"
      ],
      "execution_count": null,
      "outputs": []
    },
    {
      "cell_type": "code",
      "metadata": {
        "id": "goijy0rSS7n-"
      },
      "source": [
        "# GroupKFold en un pipeline con StandardScaler y SVC\n",
        "\n",
        "from sklearn.preprocessing import StandardScaler\n",
        "from sklearn.svm import SVC\n",
        "from sklearn.pipeline import Pipeline\n",
        "\n",
        "SEED = 301\n",
        "np.random.seed(SEED)\n",
        "\n",
        "scaler = StandardScaler()\n",
        "modelo = SVC()\n",
        "\n",
        "pipeline = Pipeline([('transformacion',scaler), ('estimador',modelo)])\n",
        "\n",
        "cv = GroupKFold(n_splits = 10)\n",
        "results = cross_validate(pipeline, x_ord, y_ord, cv = cv, groups = datos.modelo, return_train_score=False)\n",
        "imprime_resultados(results)"
      ],
      "execution_count": null,
      "outputs": []
    }
  ]
}